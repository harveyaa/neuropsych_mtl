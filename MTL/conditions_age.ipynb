{
 "cells": [
  {
   "cell_type": "code",
   "execution_count": 1,
   "metadata": {},
   "outputs": [
    {
     "name": "stderr",
     "output_type": "stream",
     "text": [
      "/Users/harveyaa/miniconda3/envs/fmri/lib/python3.9/site-packages/tqdm/auto.py:22: TqdmWarning: IProgress not found. Please update jupyter and ipywidgets. See https://ipywidgets.readthedocs.io/en/stable/user_install.html\n",
      "  from .autonotebook import tqdm as notebook_tqdm\n"
     ]
    }
   ],
   "source": [
    "import os\n",
    "import torch\n",
    "from torch.utils.data import Subset\n",
    "from torch.utils.data import DataLoader\n",
    "\n",
    "from miniMTL.datasets import caseControlDataset, confDataset\n",
    "from miniMTL.models import *\n",
    "from miniMTL.training import Trainer\n",
    "from miniMTL.hps import HPSModel"
   ]
  },
  {
   "cell_type": "code",
   "execution_count": 2,
   "metadata": {},
   "outputs": [],
   "source": [
    "# Define paths to data\n",
    "p_pheno = os.path.join('/Users/harveyaa/Documents/masters/data/','pheno_26-01-22.csv')\n",
    "p_ids = '/Users/harveyaa/Documents/masters/neuropsych_mtl/datasets/cv_folds/intrasite/'\n",
    "p_ids_conf = '/Users/harveyaa/Documents/masters/neuropsych_mtl/datasets/cv_folds/age_sex/'\n",
    "p_conn = os.path.join('/Users/harveyaa/Documents/masters/data/','connectomes')"
   ]
  },
  {
   "cell_type": "code",
   "execution_count": 3,
   "metadata": {},
   "outputs": [
    {
     "name": "stdout",
     "output_type": "stream",
     "text": [
      "Creating datasets...\n",
      "ASD\n"
     ]
    },
    {
     "name": "stderr",
     "output_type": "stream",
     "text": [
      "/Users/harveyaa/Documents/masters/miniMTL/miniMTL/datasets.py:190: DtypeWarning: Columns (7,8,12,13,14,19,20,24,27,31,42,43,44,49,51,59,60,62,64,65,68,101,121,163) have mixed types. Specify dtype option on import or set low_memory=False.\n",
      "  pheno = pd.read_csv(pheno_path,index_col=0)\n"
     ]
    },
    {
     "name": "stdout",
     "output_type": "stream",
     "text": [
      "SZ\n"
     ]
    },
    {
     "name": "stderr",
     "output_type": "stream",
     "text": [
      "/Users/harveyaa/Documents/masters/miniMTL/miniMTL/datasets.py:190: DtypeWarning: Columns (7,8,12,13,14,19,20,24,27,31,42,43,44,49,51,59,60,62,64,65,68,101,121,163) have mixed types. Specify dtype option on import or set low_memory=False.\n",
      "  pheno = pd.read_csv(pheno_path,index_col=0)\n"
     ]
    },
    {
     "name": "stdout",
     "output_type": "stream",
     "text": [
      "BIP\n"
     ]
    },
    {
     "name": "stderr",
     "output_type": "stream",
     "text": [
      "/Users/harveyaa/Documents/masters/miniMTL/miniMTL/datasets.py:190: DtypeWarning: Columns (7,8,12,13,14,19,20,24,27,31,42,43,44,49,51,59,60,62,64,65,68,101,121,163) have mixed types. Specify dtype option on import or set low_memory=False.\n",
      "  pheno = pd.read_csv(pheno_path,index_col=0)\n"
     ]
    },
    {
     "name": "stdout",
     "output_type": "stream",
     "text": [
      "DEL22q11_2\n"
     ]
    },
    {
     "name": "stderr",
     "output_type": "stream",
     "text": [
      "/Users/harveyaa/Documents/masters/miniMTL/miniMTL/datasets.py:190: DtypeWarning: Columns (7,8,12,13,14,19,20,24,27,31,42,43,44,49,51,59,60,62,64,65,68,101,121,163) have mixed types. Specify dtype option on import or set low_memory=False.\n",
      "  pheno = pd.read_csv(pheno_path,index_col=0)\n"
     ]
    },
    {
     "name": "stdout",
     "output_type": "stream",
     "text": [
      "DUP22q11_2\n"
     ]
    },
    {
     "name": "stderr",
     "output_type": "stream",
     "text": [
      "/Users/harveyaa/Documents/masters/miniMTL/miniMTL/datasets.py:190: DtypeWarning: Columns (7,8,12,13,14,19,20,24,27,31,42,43,44,49,51,59,60,62,64,65,68,101,121,163) have mixed types. Specify dtype option on import or set low_memory=False.\n",
      "  pheno = pd.read_csv(pheno_path,index_col=0)\n"
     ]
    },
    {
     "name": "stdout",
     "output_type": "stream",
     "text": [
      "DEL16p11_2\n"
     ]
    },
    {
     "name": "stderr",
     "output_type": "stream",
     "text": [
      "/Users/harveyaa/Documents/masters/miniMTL/miniMTL/datasets.py:190: DtypeWarning: Columns (7,8,12,13,14,19,20,24,27,31,42,43,44,49,51,59,60,62,64,65,68,101,121,163) have mixed types. Specify dtype option on import or set low_memory=False.\n",
      "  pheno = pd.read_csv(pheno_path,index_col=0)\n"
     ]
    },
    {
     "name": "stdout",
     "output_type": "stream",
     "text": [
      "DUP16p11_2\n"
     ]
    },
    {
     "name": "stderr",
     "output_type": "stream",
     "text": [
      "/Users/harveyaa/Documents/masters/miniMTL/miniMTL/datasets.py:190: DtypeWarning: Columns (7,8,12,13,14,19,20,24,27,31,42,43,44,49,51,59,60,62,64,65,68,101,121,163) have mixed types. Specify dtype option on import or set low_memory=False.\n",
      "  pheno = pd.read_csv(pheno_path,index_col=0)\n"
     ]
    },
    {
     "name": "stdout",
     "output_type": "stream",
     "text": [
      "DEL1q21_1\n"
     ]
    },
    {
     "name": "stderr",
     "output_type": "stream",
     "text": [
      "/Users/harveyaa/Documents/masters/miniMTL/miniMTL/datasets.py:190: DtypeWarning: Columns (7,8,12,13,14,19,20,24,27,31,42,43,44,49,51,59,60,62,64,65,68,101,121,163) have mixed types. Specify dtype option on import or set low_memory=False.\n",
      "  pheno = pd.read_csv(pheno_path,index_col=0)\n"
     ]
    },
    {
     "name": "stdout",
     "output_type": "stream",
     "text": [
      "DUP1q21_1\n",
      "Done!\n",
      "\n"
     ]
    },
    {
     "name": "stderr",
     "output_type": "stream",
     "text": [
      "/Users/harveyaa/Documents/masters/miniMTL/miniMTL/datasets.py:190: DtypeWarning: Columns (7,8,12,13,14,19,20,24,27,31,42,43,44,49,51,59,60,62,64,65,68,101,121,163) have mixed types. Specify dtype option on import or set low_memory=False.\n",
      "  pheno = pd.read_csv(pheno_path,index_col=0)\n"
     ]
    }
   ],
   "source": [
    "# Create datasets\n",
    "print('Creating datasets...')\n",
    "cases = ['ASD',\n",
    "        'SZ',\n",
    "        'BIP',\n",
    "        'DEL22q11_2',\n",
    "        'DUP22q11_2',\n",
    "        'DEL16p11_2',\n",
    "        'DUP16p11_2',\n",
    "        'DEL1q21_1',\n",
    "        'DUP1q21_1']\n",
    "data = []\n",
    "for case in cases:\n",
    "    print(case)\n",
    "    data.append(caseControlDataset(case,p_pheno,id_path=p_ids,conn_path=p_conn,\n",
    "                                        type='conn',strategy='balanced',format=0))\n",
    "print('Done!\\n')"
   ]
  },
  {
   "cell_type": "code",
   "execution_count": 4,
   "metadata": {},
   "outputs": [
    {
     "name": "stderr",
     "output_type": "stream",
     "text": [
      "/Users/harveyaa/Documents/masters/miniMTL/miniMTL/datasets.py:312: DtypeWarning: Columns (7,8,12,13,14,19,20,24,27,31,42,43,44,49,51,59,60,62,64,65,68,101,121,163) have mixed types. Specify dtype option on import or set low_memory=False.\n",
      "  pheno = pd.read_csv(pheno_path,index_col=0)\n"
     ]
    }
   ],
   "source": [
    "data_age = confDataset('UKBB11025',p_pheno,conf='AGE',id_path=p_ids_conf,conn_path=p_conn,n_subsamp=500,type='conn')\n",
    "data_age.name = 'AGE'\n",
    "data.append(data_age)"
   ]
  },
  {
   "cell_type": "code",
   "execution_count": 5,
   "metadata": {},
   "outputs": [],
   "source": [
    "# Split data & create loaders & loss fns\n",
    "bs = 8\n",
    "\n",
    "loss_fns = {}\n",
    "trainloaders = {}\n",
    "testloaders = {}\n",
    "decoders = {}\n",
    "for d, case in zip(data,cases + ['AGE']):\n",
    "    train_idx, test_idx = d.split_data(random=False,fold=0)\n",
    "    train_d = Subset(d,train_idx)\n",
    "    test_d = Subset(d,test_idx)\n",
    "    trainloaders[case] = DataLoader(train_d, batch_size=bs, shuffle=True)\n",
    "    testloaders[case] = DataLoader(test_d, batch_size=bs, shuffle=True)\n",
    "    if case != 'AGE':\n",
    "        loss_fns[case] = nn.CrossEntropyLoss()\n",
    "        decoders[case] = eval(f'head{3}().double()')\n",
    "    else:\n",
    "        loss_fns[case] = nn.MSELoss()\n",
    "        decoders[case] = eval(f'head{33}().double()')"
   ]
  },
  {
   "cell_type": "code",
   "execution_count": 6,
   "metadata": {},
   "outputs": [
    {
     "name": "stdout",
     "output_type": "stream",
     "text": [
      "Initialized HPSModel using: cpu.\n",
      "\n"
     ]
    }
   ],
   "source": [
    "# Create model\n",
    "model = HPSModel(eval(f'encoder{3}().double()'),\n",
    "                    decoders,\n",
    "                    loss_fns)"
   ]
  },
  {
   "cell_type": "code",
   "execution_count": 7,
   "metadata": {},
   "outputs": [],
   "source": [
    "# Create optimizer & trainer\n",
    "optimizer = torch.optim.Adam(model.parameters(), lr=1e-3)\n",
    "trainer = Trainer(optimizer,log_dir='')"
   ]
  },
  {
   "cell_type": "code",
   "execution_count": 8,
   "metadata": {},
   "outputs": [
    {
     "name": "stderr",
     "output_type": "stream",
     "text": [
      "Epoch 0: 100%|██████████| 262/262 [00:37<00:00,  6.96it/s]\n",
      "Epoch 1: 100%|██████████| 262/262 [00:35<00:00,  7.31it/s]\n",
      "Epoch 2: 100%|██████████| 262/262 [00:36<00:00,  7.17it/s]\n",
      "Epoch 3: 100%|██████████| 262/262 [00:33<00:00,  7.76it/s]\n",
      "Epoch 4: 100%|██████████| 262/262 [00:31<00:00,  8.31it/s]\n",
      "Epoch 5: 100%|██████████| 262/262 [00:30<00:00,  8.50it/s]\n",
      "Epoch 6: 100%|██████████| 262/262 [00:32<00:00,  8.11it/s]\n",
      "Epoch 7: 100%|██████████| 262/262 [00:32<00:00,  7.95it/s]\n",
      "Epoch 8: 100%|██████████| 262/262 [00:32<00:00,  8.09it/s]\n",
      "Epoch 9: 100%|██████████| 262/262 [00:32<00:00,  8.07it/s]\n",
      "Epoch 10: 100%|██████████| 262/262 [00:31<00:00,  8.26it/s]\n",
      "Epoch 11: 100%|██████████| 262/262 [00:29<00:00,  8.78it/s]\n",
      "Epoch 12: 100%|██████████| 262/262 [00:30<00:00,  8.57it/s]\n",
      "Epoch 13: 100%|██████████| 262/262 [33:31<00:00,  7.68s/it]   \n",
      "Epoch 14: 100%|██████████| 262/262 [52:28<00:00, 12.02s/it]    \n",
      "Epoch 15: 100%|██████████| 262/262 [46:45<00:00, 10.71s/it]   \n",
      "Epoch 16: 100%|██████████| 262/262 [33:25<00:00,  7.65s/it]   \n",
      "Epoch 17: 100%|██████████| 262/262 [51:04<00:00, 11.70s/it]    \n",
      "Epoch 18: 100%|██████████| 262/262 [18:30<00:00,  4.24s/it]   \n",
      "Epoch 19: 100%|██████████| 262/262 [00:29<00:00,  8.83it/s]\n",
      "Epoch 20: 100%|██████████| 262/262 [00:29<00:00,  8.99it/s]\n",
      "Epoch 21: 100%|██████████| 262/262 [00:28<00:00,  9.33it/s]\n",
      "Epoch 22: 100%|██████████| 262/262 [00:28<00:00,  9.08it/s]\n",
      "Epoch 23: 100%|██████████| 262/262 [00:28<00:00,  9.21it/s]\n",
      "Epoch 24: 100%|██████████| 262/262 [00:28<00:00,  9.31it/s]\n",
      "Epoch 25: 100%|██████████| 262/262 [00:28<00:00,  9.35it/s]\n",
      "Epoch 26: 100%|██████████| 262/262 [00:28<00:00,  9.32it/s]\n",
      "Epoch 27: 100%|██████████| 262/262 [00:28<00:00,  9.33it/s]\n",
      "Epoch 28: 100%|██████████| 262/262 [00:28<00:00,  9.35it/s]\n",
      "Epoch 29: 100%|██████████| 262/262 [00:28<00:00,  9.34it/s]\n",
      "Epoch 30: 100%|██████████| 262/262 [00:28<00:00,  9.20it/s]\n",
      "Epoch 31: 100%|██████████| 262/262 [00:28<00:00,  9.31it/s]\n",
      "Epoch 32: 100%|██████████| 262/262 [00:28<00:00,  9.34it/s]\n",
      "Epoch 33: 100%|██████████| 262/262 [00:28<00:00,  9.35it/s]\n",
      "Epoch 34: 100%|██████████| 262/262 [00:28<00:00,  9.32it/s]\n",
      "Epoch 35: 100%|██████████| 262/262 [00:28<00:00,  9.35it/s]\n",
      "Epoch 36: 100%|██████████| 262/262 [00:28<00:00,  9.32it/s]\n",
      "Epoch 37: 100%|██████████| 262/262 [00:28<00:00,  9.30it/s]\n",
      "Epoch 38: 100%|██████████| 262/262 [00:28<00:00,  9.30it/s]\n",
      "Epoch 39: 100%|██████████| 262/262 [00:28<00:00,  9.35it/s]\n",
      "Epoch 40: 100%|██████████| 262/262 [00:28<00:00,  9.34it/s]\n",
      "Epoch 41: 100%|██████████| 262/262 [00:28<00:00,  9.32it/s]\n",
      "Epoch 42: 100%|██████████| 262/262 [00:28<00:00,  9.35it/s]\n",
      "Epoch 43: 100%|██████████| 262/262 [00:28<00:00,  9.33it/s]\n",
      "Epoch 44: 100%|██████████| 262/262 [00:28<00:00,  9.31it/s]\n",
      "Epoch 45: 100%|██████████| 262/262 [00:28<00:00,  9.33it/s]\n",
      "Epoch 46: 100%|██████████| 262/262 [00:28<00:00,  9.24it/s]\n",
      "Epoch 47: 100%|██████████| 262/262 [00:28<00:00,  9.24it/s]\n",
      "Epoch 48: 100%|██████████| 262/262 [00:28<00:00,  9.26it/s]\n",
      "Epoch 49: 100%|██████████| 262/262 [00:28<00:00,  9.33it/s]\n",
      "Epoch 50: 100%|██████████| 262/262 [00:28<00:00,  9.31it/s]\n",
      "Epoch 51: 100%|██████████| 262/262 [00:28<00:00,  9.35it/s]\n",
      "Epoch 52: 100%|██████████| 262/262 [00:28<00:00,  9.33it/s]\n",
      "Epoch 53: 100%|██████████| 262/262 [00:28<00:00,  9.31it/s]\n",
      "Epoch 54: 100%|██████████| 262/262 [00:28<00:00,  9.31it/s]\n",
      "Epoch 55: 100%|██████████| 262/262 [00:28<00:00,  9.32it/s]\n",
      "Epoch 56: 100%|██████████| 262/262 [00:28<00:00,  9.35it/s]\n",
      "Epoch 57: 100%|██████████| 262/262 [00:28<00:00,  9.31it/s]\n",
      "Epoch 58: 100%|██████████| 262/262 [00:28<00:00,  9.32it/s]\n",
      "Epoch 59: 100%|██████████| 262/262 [00:28<00:00,  9.30it/s]\n",
      "Epoch 60: 100%|██████████| 262/262 [00:28<00:00,  9.33it/s]\n",
      "Epoch 61: 100%|██████████| 262/262 [00:28<00:00,  9.34it/s]\n",
      "Epoch 62: 100%|██████████| 262/262 [00:27<00:00,  9.36it/s]\n",
      "Epoch 63: 100%|██████████| 262/262 [00:28<00:00,  9.32it/s]\n",
      "Epoch 64: 100%|██████████| 262/262 [00:28<00:00,  9.31it/s]\n",
      "Epoch 65: 100%|██████████| 262/262 [00:28<00:00,  9.28it/s]\n",
      "Epoch 66: 100%|██████████| 262/262 [00:28<00:00,  9.26it/s]\n",
      "Epoch 67: 100%|██████████| 262/262 [00:28<00:00,  9.31it/s]\n",
      "Epoch 68: 100%|██████████| 262/262 [00:28<00:00,  9.30it/s]\n",
      "Epoch 69: 100%|██████████| 262/262 [00:28<00:00,  9.29it/s]\n",
      "Epoch 70: 100%|██████████| 262/262 [00:28<00:00,  9.24it/s]\n",
      "Epoch 71: 100%|██████████| 262/262 [00:28<00:00,  9.27it/s]\n",
      "Epoch 72: 100%|██████████| 262/262 [00:28<00:00,  9.24it/s]\n",
      "Epoch 73: 100%|██████████| 262/262 [00:28<00:00,  9.23it/s]\n",
      "Epoch 74: 100%|██████████| 262/262 [00:28<00:00,  9.21it/s]\n",
      "Epoch 75: 100%|██████████| 262/262 [00:28<00:00,  9.23it/s]\n",
      "Epoch 76: 100%|██████████| 262/262 [00:28<00:00,  9.19it/s]\n",
      "Epoch 77: 100%|██████████| 262/262 [00:28<00:00,  9.22it/s]\n",
      "Epoch 78: 100%|██████████| 262/262 [00:28<00:00,  9.22it/s]\n",
      "Epoch 79: 100%|██████████| 262/262 [00:28<00:00,  9.24it/s]\n",
      "Epoch 80: 100%|██████████| 262/262 [00:28<00:00,  9.21it/s]\n",
      "Epoch 81: 100%|██████████| 262/262 [00:28<00:00,  9.22it/s]\n",
      "Epoch 82: 100%|██████████| 262/262 [00:28<00:00,  9.20it/s]\n",
      "Epoch 83: 100%|██████████| 262/262 [00:29<00:00,  8.87it/s]\n",
      "Epoch 84: 100%|██████████| 262/262 [00:28<00:00,  9.09it/s]\n",
      "Epoch 85: 100%|██████████| 262/262 [00:28<00:00,  9.11it/s]\n",
      "Epoch 86: 100%|██████████| 262/262 [00:28<00:00,  9.11it/s]\n",
      "Epoch 87: 100%|██████████| 262/262 [00:28<00:00,  9.16it/s]\n",
      "Epoch 88: 100%|██████████| 262/262 [00:28<00:00,  9.14it/s]\n",
      "Epoch 89: 100%|██████████| 262/262 [00:29<00:00,  9.00it/s]\n",
      "Epoch 90: 100%|██████████| 262/262 [00:34<00:00,  7.60it/s]\n",
      "Epoch 91: 100%|██████████| 262/262 [00:33<00:00,  7.71it/s]\n",
      "Epoch 92: 100%|██████████| 262/262 [00:33<00:00,  7.75it/s]\n",
      "Epoch 93: 100%|██████████| 262/262 [00:34<00:00,  7.64it/s]\n",
      "Epoch 94: 100%|██████████| 262/262 [00:34<00:00,  7.54it/s]\n",
      "Epoch 95: 100%|██████████| 262/262 [00:34<00:00,  7.54it/s]\n",
      "Epoch 96: 100%|██████████| 262/262 [00:34<00:00,  7.63it/s]\n",
      "Epoch 97: 100%|██████████| 262/262 [00:34<00:00,  7.56it/s]\n",
      "Epoch 98: 100%|██████████| 262/262 [00:34<00:00,  7.59it/s]\n",
      "Epoch 99: 100%|██████████| 262/262 [1:54:16<00:00, 26.17s/it]     \n"
     ]
    }
   ],
   "source": [
    "# Train model\n",
    "trainer.fit(model,trainloaders,testloaders,num_epochs=100)"
   ]
  },
  {
   "cell_type": "code",
   "execution_count": 9,
   "metadata": {},
   "outputs": [
    {
     "name": "stdout",
     "output_type": "stream",
     "text": [
      "{'ASD': {'accuracy': 55.55555555555556, 'loss': 0.653813979580385}, 'SZ': {'accuracy': 74.21875, 'loss': 0.3402351257904599}, 'BIP': {'accuracy': 68.75, 'loss': 0.3467380428305213}, 'DEL22q11_2': {'accuracy': 72.22222222222221, 'loss': 0.2958129666503766}, 'DUP22q11_2': {'accuracy': 77.77777777777779, 'loss': 0.23247258258316825}, 'DEL16p11_2': {'accuracy': 61.53846153846154, 'loss': 0.7337267183569757}, 'DUP16p11_2': {'accuracy': 57.14285714285714, 'loss': 0.7190567740938035}, 'DEL1q21_1': {'accuracy': 40.0, 'loss': 0.9328059291598466}, 'DUP1q21_1': {'accuracy': 50.0, 'loss': 0.6144760775060327}, 'AGE': {'accuracy': 0.0, 'loss': 7.062814278533668}}\n"
     ]
    }
   ],
   "source": [
    "# Evaluate at end\n",
    "metrics = model.score(testloaders)\n",
    "print(metrics)"
   ]
  },
  {
   "cell_type": "code",
   "execution_count": 10,
   "metadata": {},
   "outputs": [
    {
     "data": {
      "text/plain": [
       "{'ASD': {'accuracy': 55.55555555555556, 'loss': 0.653813979580385},\n",
       " 'SZ': {'accuracy': 74.21875, 'loss': 0.3402351257904599},\n",
       " 'BIP': {'accuracy': 68.75, 'loss': 0.3467380428305213},\n",
       " 'DEL22q11_2': {'accuracy': 72.22222222222221, 'loss': 0.2958129666503766},\n",
       " 'DUP22q11_2': {'accuracy': 77.77777777777779, 'loss': 0.23247258258316825},\n",
       " 'DEL16p11_2': {'accuracy': 61.53846153846154, 'loss': 0.7337267183569757},\n",
       " 'DUP16p11_2': {'accuracy': 57.14285714285714, 'loss': 0.7190567740938035},\n",
       " 'DEL1q21_1': {'accuracy': 40.0, 'loss': 0.9328059291598466},\n",
       " 'DUP1q21_1': {'accuracy': 50.0, 'loss': 0.6144760775060327},\n",
       " 'AGE': {'accuracy': 0.0, 'loss': 7.062814278533668}}"
      ]
     },
     "execution_count": 10,
     "metadata": {},
     "output_type": "execute_result"
    }
   ],
   "source": [
    "metrics"
   ]
  },
  {
   "cell_type": "code",
   "execution_count": 11,
   "metadata": {},
   "outputs": [],
   "source": [
    "import matplotlib.pyplot as plt\n",
    "import seaborn as sns\n",
    "\n",
    "metrics = {'ASD': {'accuracy': 55.55555555555556, 'loss': 0.653813979580385},\n",
    " 'SZ': {'accuracy': 74.21875, 'loss': 0.3402351257904599},\n",
    " 'BIP': {'accuracy': 68.75, 'loss': 0.3467380428305213},\n",
    " 'DEL22q11_2': {'accuracy': 72.22222222222221, 'loss': 0.2958129666503766},\n",
    " 'DUP22q11_2': {'accuracy': 77.77777777777779, 'loss': 0.23247258258316825},\n",
    " 'DEL16p11_2': {'accuracy': 61.53846153846154, 'loss': 0.7337267183569757},\n",
    " 'DUP16p11_2': {'accuracy': 57.14285714285714, 'loss': 0.7190567740938035},\n",
    " 'DEL1q21_1': {'accuracy': 40.0, 'loss': 0.9328059291598466},\n",
    " 'DUP1q21_1': {'accuracy': 50.0, 'loss': 0.6144760775060327},\n",
    " 'AGE': {'accuracy': 0.0, 'loss': 7.062814278533668}}"
   ]
  },
  {
   "cell_type": "code",
   "execution_count": 20,
   "metadata": {},
   "outputs": [
    {
     "data": {
      "text/plain": [
       "dict_keys(['ASD', 'SZ', 'BIP', 'DEL22q11_2', 'DUP22q11_2', 'DEL16p11_2', 'DUP16p11_2', 'DEL1q21_1', 'DUP1q21_1', 'AGE'])"
      ]
     },
     "execution_count": 20,
     "metadata": {},
     "output_type": "execute_result"
    }
   ],
   "source": [
    "metrics.keys()"
   ]
  },
  {
   "cell_type": "code",
   "execution_count": 24,
   "metadata": {},
   "outputs": [],
   "source": [
    "st = [61.085219, 75.709892, 79.012097, 84.967320, 41.388889, 73.461538, 64.285714, 70.000000, 53.214286]\n",
    "mtl_no_age = [60.87245, 73.983760, 82.177419, 74.509804, 54.722222, 64.230769, 62.857143, 70.000000, 57.857143]\n",
    "mtl_age = [55.55555555555556, 74.21875, 68.75, 72.22222222222221, 77.77777777777779, 61.53846153846154, 57.14285714285714, 40.0, 50.0]\n",
    "cases = ['ASD', 'SZ', 'BIP', 'DEL22q11_2', 'DUP22q11_2', 'DEL16p11_2', 'DUP16p11_2', 'DEL1q21_1', 'DUP1q21_1']"
   ]
  },
  {
   "cell_type": "code",
   "execution_count": 27,
   "metadata": {},
   "outputs": [
    {
     "data": {
      "image/png": "[encoded data removed]",
      "text/plain": [
       "<Figure size 600x400 with 9 Axes>"
      ]
     },
     "metadata": {},
     "output_type": "display_data"
    }
   ],
   "source": [
    "###############\n",
    "# MTL W/ AGE VS W/O (BASELINE) #\n",
    "###############\n",
    "title = 'MTL W/ AGE VS W/O (BASELINE)'\n",
    "fig,ax = plt.subplots(1,len(cases),figsize=(6,4),sharey=True,sharex=True)\n",
    "plt.yticks([40,50,60,70,80,90])\n",
    "sns.set_style('whitegrid')\n",
    "colors = ['black','darkorchid','red','orange','dodgerblue','forestgreen']\n",
    "\n",
    "for j,case in enumerate(cases):\n",
    "    st_acc = mtl_no_age[j]\n",
    "    mtl_acc = mtl_age[j]\n",
    "    if st_acc > mtl_acc:\n",
    "        mfc = 'white'\n",
    "        ls =''\n",
    "    else:\n",
    "        mfc = colors[0]\n",
    "        ls = '-'\n",
    "\n",
    "    ax[j].plot(5,mtl_acc,marker='o',color=colors[0],ms=4,markerfacecolor=mfc)\n",
    "    ax[j].plot(5,st_acc,marker='o',color=colors[0],ms=4,markerfacecolor=mfc)\n",
    "    ax[j].plot((5,5),(st_acc,mtl_acc),color=colors[0],ls=ls)\n",
    "    ax[j].set_xticklabels([])\n",
    "    ax[j].set_xticks([])\n",
    "    #ax[j].set_xlabel(labels[j],rotation=270)\n",
    "\n",
    "    lines = ax[j].get_ygridlines()\n",
    "    b = lines[1]\n",
    "    b.set_color('black')\n",
    "    b.set_linewidth(1.15)\n",
    "    b.set_linestyle('--')\n",
    "\n",
    "ax[0].set_ylabel('Accuracy')\n",
    "plt.suptitle(title)\n",
    "plt.ylim(40,90)\n",
    "plt.tight_layout(pad=0.5)\n",
    "plt.subplots_adjust(wspace=0)\n",
    "#plt.savefig(os.path.join(p_intra,'figures/st_vs_mtl.png'),dpi=300)"
   ]
  },
  {
   "cell_type": "code",
   "execution_count": null,
   "metadata": {},
   "outputs": [],
   "source": []
  }
 ],
 "metadata": {
  "kernelspec": {
   "display_name": "fmri",
   "language": "python",
   "name": "python3"
  },
  "language_info": {
   "codemirror_mode": {
    "name": "ipython",
    "version": 3
   },
   "file_extension": ".py",
   "mimetype": "text/x-python",
   "name": "python",
   "nbconvert_exporter": "python",
   "pygments_lexer": "ipython3",
   "version": "3.9.15"
  },
  "orig_nbformat": 4
 },
 "nbformat": 4,
 "nbformat_minor": 2
}
