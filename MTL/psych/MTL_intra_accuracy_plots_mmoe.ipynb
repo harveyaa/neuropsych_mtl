{
 "cells": [
  {
   "cell_type": "code",
   "execution_count": 2,
   "metadata": {},
   "outputs": [],
   "source": [
    "import os\n",
    "import pandas as pd\n",
    "import numpy as np\n",
    "import matplotlib.pyplot as plt\n",
    "import seaborn as sns"
   ]
  },
  {
   "cell_type": "code",
   "execution_count": 3,
   "metadata": {},
   "outputs": [],
   "source": [
    "# Ordered roughly by accuracy\n",
    "cases = ['ADHD','ASD','SZ','BIP']\n",
    "\n",
    "case_labels =       ['BIP                  n=44',\n",
    "                    'SZ                   n=283',\n",
    "                    'ASD                 n=472',\n",
    "                    'ADHD              n=223']\n",
    "case_labels.reverse()\n",
    "\n",
    "p_single = '../results_paper/baseline/mlp/'\n",
    "p_mtl = '../results_paper/mtl_psych/mmoe_8/'"
   ]
  },
  {
   "attachments": {},
   "cell_type": "markdown",
   "metadata": {},
   "source": [
    "# Load Data"
   ]
  },
  {
   "cell_type": "code",
   "execution_count": 4,
   "metadata": {},
   "outputs": [],
   "source": [
    "# Single Task\n",
    "st_data_conn = []\n",
    "for case in cases:\n",
    "    folds_conn = []\n",
    "    for fold in range(5):\n",
    "        # Connectomes\n",
    "        p_parent = os.path.join(p_single, f\"{case}/fold_{fold}\")\n",
    "        file = [f for f in os.listdir(p_parent) if f[-4:]=='.csv'][0]\n",
    "        folds_conn.append(pd.read_csv(os.path.join(p_parent,file),index_col=0,header=[0,1])[case])\n",
    "\n",
    "    st_data_conn.append(folds_conn)\n",
    "\n",
    "st_data_conn = dict(zip(cases,st_data_conn))"
   ]
  },
  {
   "cell_type": "code",
   "execution_count": 5,
   "metadata": {},
   "outputs": [],
   "source": [
    "# Multi-task\n",
    "mtl_data_conn = []\n",
    "for fold in range(5):\n",
    "    # Connectomes\n",
    "    p_parent = os.path.join(p_mtl, f\"fold_{fold}\")\n",
    "    file = [f for f in os.listdir(p_parent) if f[-4:]=='.csv'][0]\n",
    "    mtl_data_conn.append(pd.read_csv(os.path.join(p_parent,file),index_col=0,header=[0,1]))\n"
   ]
  },
  {
   "attachments": {},
   "cell_type": "markdown",
   "metadata": {},
   "source": [
    "# Get Accuracy"
   ]
  },
  {
   "cell_type": "code",
   "execution_count": 6,
   "metadata": {},
   "outputs": [],
   "source": [
    "# Single Task\n",
    "st_acc_conn = []\n",
    "st_acc_conn_std = []\n",
    "for case in cases:\n",
    "    # Connectomes\n",
    "    vals = [st_data_conn[case][fold]['Accuracy/test'].iloc[-1] for fold in range(5)]\n",
    "    st_acc_conn.append(np.mean(vals))\n",
    "    st_acc_conn_std.append(np.std(vals))\n",
    "\n",
    "\n",
    "st_acc_conn = pd.Series(st_acc_conn,index=cases)\n",
    "st_acc_conn_std = pd.Series(st_acc_conn_std,index=cases)"
   ]
  },
  {
   "cell_type": "code",
   "execution_count": 7,
   "metadata": {},
   "outputs": [
    {
     "data": {
      "text/plain": [
       "ADHD    55.206897\n",
       "ASD     61.085219\n",
       "SZ      75.709892\n",
       "BIP     79.012097\n",
       "dtype: float64"
      ]
     },
     "execution_count": 7,
     "metadata": {},
     "output_type": "execute_result"
    }
   ],
   "source": [
    "st_acc_conn"
   ]
  },
  {
   "cell_type": "code",
   "execution_count": 8,
   "metadata": {},
   "outputs": [],
   "source": [
    "# Multi-task\n",
    "mtl_acc_conn = []\n",
    "for fold in range(5):\n",
    "    # Connectomes\n",
    "    df = mtl_data_conn[fold].transpose().reset_index()\n",
    "    df = df[df['level_1']=='Accuracy/test'].set_index('level_0')[99]\n",
    "    mtl_acc_conn.append(df)\n",
    "    \n",
    "mtl_acc_conn_std = pd.concat(mtl_acc_conn,axis=1).std(axis=1)\n",
    "mtl_acc_conn = pd.concat(mtl_acc_conn,axis=1).mean(axis=1)"
   ]
  },
  {
   "attachments": {},
   "cell_type": "markdown",
   "metadata": {},
   "source": [
    "# Tables"
   ]
  },
  {
   "cell_type": "code",
   "execution_count": 9,
   "metadata": {},
   "outputs": [
    {
     "data": {
      "text/html": [
       "<div>\n",
       "<style scoped>\n",
       "    .dataframe tbody tr th:only-of-type {\n",
       "        vertical-align: middle;\n",
       "    }\n",
       "\n",
       "    .dataframe tbody tr th {\n",
       "        vertical-align: top;\n",
       "    }\n",
       "\n",
       "    .dataframe thead th {\n",
       "        text-align: right;\n",
       "    }\n",
       "</style>\n",
       "<table border=\"1\" class=\"dataframe\">\n",
       "  <thead>\n",
       "    <tr style=\"text-align: right;\">\n",
       "      <th></th>\n",
       "      <th>ST</th>\n",
       "      <th>MTL</th>\n",
       "      <th>ST_std</th>\n",
       "      <th>MTL_std</th>\n",
       "    </tr>\n",
       "  </thead>\n",
       "  <tbody>\n",
       "    <tr>\n",
       "      <th>ADHD</th>\n",
       "      <td>55.206897</td>\n",
       "      <td>60.401799</td>\n",
       "      <td>2.576093</td>\n",
       "      <td>6.525154</td>\n",
       "    </tr>\n",
       "    <tr>\n",
       "      <th>ASD</th>\n",
       "      <td>61.085219</td>\n",
       "      <td>58.644602</td>\n",
       "      <td>2.463449</td>\n",
       "      <td>3.174685</td>\n",
       "    </tr>\n",
       "    <tr>\n",
       "      <th>SZ</th>\n",
       "      <td>75.709892</td>\n",
       "      <td>71.002707</td>\n",
       "      <td>1.652202</td>\n",
       "      <td>3.130570</td>\n",
       "    </tr>\n",
       "    <tr>\n",
       "      <th>BIP</th>\n",
       "      <td>79.012097</td>\n",
       "      <td>80.262097</td>\n",
       "      <td>3.023118</td>\n",
       "      <td>5.183648</td>\n",
       "    </tr>\n",
       "  </tbody>\n",
       "</table>\n",
       "</div>"
      ],
      "text/plain": [
       "             ST        MTL    ST_std   MTL_std\n",
       "ADHD  55.206897  60.401799  2.576093  6.525154\n",
       "ASD   61.085219  58.644602  2.463449  3.174685\n",
       "SZ    75.709892  71.002707  1.652202  3.130570\n",
       "BIP   79.012097  80.262097  3.023118  5.183648"
      ]
     },
     "execution_count": 9,
     "metadata": {},
     "output_type": "execute_result"
    }
   ],
   "source": [
    "# Connectomes\n",
    "df_conn = pd.concat([st_acc_conn,mtl_acc_conn,st_acc_conn_std,mtl_acc_conn_std],axis=1)\n",
    "df_conn.columns = ['ST','MTL','ST_std','MTL_std']\n",
    "df_conn"
   ]
  },
  {
   "cell_type": "code",
   "execution_count": 10,
   "metadata": {},
   "outputs": [
    {
     "data": {
      "text/plain": [
       "ST         67.753526\n",
       "MTL        67.577801\n",
       "ST_std      2.428715\n",
       "MTL_std     4.503514\n",
       "dtype: float64"
      ]
     },
     "execution_count": 10,
     "metadata": {},
     "output_type": "execute_result"
    }
   ],
   "source": [
    "df_conn.mean()"
   ]
  },
  {
   "attachments": {},
   "cell_type": "markdown",
   "metadata": {},
   "source": [
    "# Plots"
   ]
  },
  {
   "cell_type": "code",
   "execution_count": 13,
   "metadata": {},
   "outputs": [
    {
     "data": {
      "image/png": "[encoded data removed]",
      "text/plain": [
       "<Figure size 600x400 with 4 Axes>"
      ]
     },
     "metadata": {},
     "output_type": "display_data"
    }
   ],
   "source": [
    "###############\n",
    "# CONNECTOMES #\n",
    "###############\n",
    "title = 'Single vs Multi-Task - MMOE_8'\n",
    "fig,ax = plt.subplots(1,len(cases),figsize=(6,4),sharey=True,sharex=True)\n",
    "plt.yticks([40,50,60,70,80,90])\n",
    "sns.set_style('whitegrid')\n",
    "colors = ['black','darkorchid','red','orange','dodgerblue','forestgreen']\n",
    "\n",
    "for j,case in enumerate(cases):\n",
    "    st_acc = df_conn.loc[case]['ST']\n",
    "    mtl_acc = df_conn.loc[case]['MTL']\n",
    "    if st_acc > mtl_acc:\n",
    "        mfc = 'white'\n",
    "        ls =''\n",
    "    else:\n",
    "        mfc = colors[0]\n",
    "        ls = '-'\n",
    "\n",
    "    ax[j].plot(5,mtl_acc,marker='o',color=colors[0],ms=4,markerfacecolor=mfc)\n",
    "    ax[j].plot(5,st_acc,marker='o',color=colors[0],ms=4,markerfacecolor=mfc)\n",
    "    ax[j].plot((5,5),(st_acc,mtl_acc),color=colors[0],ls=ls)\n",
    "    ax[j].set_xticklabels([])\n",
    "    ax[j].set_xticks([])\n",
    "    ax[j].set_xlabel(case_labels[j],rotation=270)\n",
    "\n",
    "    lines = ax[j].get_ygridlines()\n",
    "    b = lines[1]\n",
    "    b.set_color('black')\n",
    "    b.set_linewidth(1.15)\n",
    "    b.set_linestyle('--')\n",
    "\n",
    "ax[0].set_ylabel('Accuracy')\n",
    "plt.suptitle(title)\n",
    "plt.ylim(35,95)\n",
    "plt.tight_layout(pad=0.5)\n",
    "plt.subplots_adjust(wspace=0)\n",
    "#plt.savefig(os.path.join('/Users/harveyaa/Documents/masters/neuropsych_mtl/MTL/results_paper/mtl/','figures/st_vs_mtl.png'),dpi=300)"
   ]
  },
  {
   "cell_type": "code",
   "execution_count": 12,
   "metadata": {},
   "outputs": [
    {
     "data": {
      "image/png": "[encoded data removed]",
      "text/plain": [
       "<Figure size 800x400 with 4 Axes>"
      ]
     },
     "metadata": {},
     "output_type": "display_data"
    }
   ],
   "source": [
    "###############\n",
    "# CONNECTOMES #\n",
    "###############\n",
    "title = 'Single vs Multi-Task - MMOE'\n",
    "fig,ax = plt.subplots(1,len(cases),figsize=(8,4),sharey=True,sharex=True)\n",
    "plt.yticks([40,50,60,70,80,90])\n",
    "sns.set_style('whitegrid')\n",
    "colors = ['black','darkorchid','red','orange','dodgerblue','forestgreen']\n",
    "\n",
    "for j,case in enumerate(cases):\n",
    "    st_acc = df_conn.loc[case]['ST']\n",
    "    mtl_acc = df_conn.loc[case]['MTL']\n",
    "    if st_acc > mtl_acc:\n",
    "        mfc = 'white'\n",
    "        ls =''\n",
    "    else:\n",
    "        mfc = colors[0]\n",
    "        ls = '-'\n",
    "\n",
    "    ax[j].plot(5,mtl_acc,marker='o',color=colors[0],ms=4,markerfacecolor=mfc)\n",
    "    ax[j].plot(5,st_acc,marker='o',color=colors[0],ms=4,markerfacecolor=mfc)\n",
    "    ax[j].plot((5,5),(st_acc,mtl_acc),color=colors[0],ls=ls)\n",
    "    ax[j].set_xticklabels([])\n",
    "    ax[j].set_xticks([])\n",
    "    ax[j].set_xlabel(case_labels[j],rotation=270)\n",
    "\n",
    "    lines = ax[j].get_ygridlines()\n",
    "    b = lines[1]\n",
    "    b.set_color('black')\n",
    "    b.set_linewidth(1.15)\n",
    "    b.set_linestyle('--')\n",
    "\n",
    "ax[0].set_ylabel('Accuracy')\n",
    "#plt.suptitle(title)\n",
    "plt.ylim(30,90)\n",
    "plt.tight_layout(pad=0.5)\n",
    "plt.subplots_adjust(wspace=0)\n",
    "#plt.savefig(os.path.join('/Users/harveyaa/Documents/masters/neuropsych_mtl/MTL/results_paper/mtl_psych/','figures/st_vs_mtl.png'),dpi=300)"
   ]
  },
  {
   "cell_type": "code",
   "execution_count": null,
   "metadata": {},
   "outputs": [],
   "source": []
  }
 ],
 "metadata": {
  "kernelspec": {
   "display_name": "Python 3.9.15 ('fmri')",
   "language": "python",
   "name": "python3"
  },
  "language_info": {
   "codemirror_mode": {
    "name": "ipython",
    "version": 3
   },
   "file_extension": ".py",
   "mimetype": "text/x-python",
   "name": "python",
   "nbconvert_exporter": "python",
   "pygments_lexer": "ipython3",
   "version": "3.9.15"
  },
  "orig_nbformat": 4,
  "vscode": {
   "interpreter": {
    "hash": "7ea07d7e26f64274b859969024e9bc122a0aaa5b386426249452447396636cf1"
   }
  }
 },
 "nbformat": 4,
 "nbformat_minor": 2
}
