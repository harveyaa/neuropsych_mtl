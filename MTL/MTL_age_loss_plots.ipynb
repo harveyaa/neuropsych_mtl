{
 "cells": [
  {
   "cell_type": "code",
   "execution_count": 23,
   "metadata": {},
   "outputs": [],
   "source": [
    "import os\n",
    "import pandas as pd\n",
    "import numpy as np\n",
    "import matplotlib.pyplot as plt\n",
    "import seaborn as sns"
   ]
  },
  {
   "cell_type": "code",
   "execution_count": 24,
   "metadata": {},
   "outputs": [],
   "source": [
    "#sites = ['ADHD1',\n",
    "#        'ADHD3',\n",
    "#        'ADHD5',\n",
    "#        'ADHD6',\n",
    "#        'HSJ',\n",
    "#        'Svip1',\n",
    "#        'Svip2',\n",
    "#        'SZ3',\n",
    "#        'SZ6',\n",
    "#        'UCLA_CB',\n",
    "#        'UCLA_DS1',\n",
    "#        'UKBB11025',\n",
    "#        'UKBB11026',\n",
    "#        'UKBB11027']\n",
    "\n",
    "# Order by n in site\n",
    "sites = [#'USM', # why this missing?\n",
    "        'SZ3',\n",
    "        'SZ6',\n",
    "        'Svip2',\n",
    "        'ADHD6',\n",
    "        'HSJ',\n",
    "        'SZ2',\n",
    "        'SZ1',\n",
    "        'UCLA_CB',\n",
    "        'Svip1',\n",
    "        'ADHD1',\n",
    "        'ADHD3',\n",
    "        'NYU',\n",
    "        'ADHD5',\n",
    "        'UCLA_DS1',\n",
    "        'UKBB11026',\n",
    "        'UKBB11027',\n",
    "        'UKBB11025']\n",
    "\n",
    "p_age = './results/age/'"
   ]
  },
  {
   "cell_type": "markdown",
   "metadata": {},
   "source": [
    "# Load Data"
   ]
  },
  {
   "cell_type": "code",
   "execution_count": 25,
   "metadata": {},
   "outputs": [],
   "source": [
    "# Single Task\n",
    "st_data = []\n",
    "for site in sites:\n",
    "    folds = []\n",
    "    for fold in range(5):\n",
    "        p_parent = os.path.join(p_age, f\"{site}/fold_{fold}\")\n",
    "        file = [f for f in os.listdir(p_parent) if f[-4:]=='.csv'][0]\n",
    "        folds.append(pd.read_csv(os.path.join(p_parent,file),index_col=0,header=[0,1])[site])\n",
    "    st_data.append(folds)\n",
    "\n",
    "st_data = dict(zip(sites,st_data))"
   ]
  },
  {
   "cell_type": "code",
   "execution_count": 26,
   "metadata": {},
   "outputs": [],
   "source": [
    "# Multi-task\n",
    "mtl_data = []\n",
    "for fold in range(4): # missing last fold\n",
    "    p_parent = os.path.join(p_age, f\"all/fold_{fold}\")\n",
    "    file = [f for f in os.listdir(p_parent) if f[-4:]=='.csv'][0]\n",
    "    mtl_data.append(pd.read_csv(os.path.join(p_parent,file),index_col=0,header=[0,1]))\n"
   ]
  },
  {
   "cell_type": "code",
   "execution_count": 27,
   "metadata": {},
   "outputs": [],
   "source": [
    "# Multi-task no UKBB\n",
    "mtl_data_no_ukbb = []\n",
    "for fold in range(5):\n",
    "    p_parent = os.path.join(p_age, f\"all_no_ukbb/fold_{fold}\")\n",
    "    file = [f for f in os.listdir(p_parent) if f[-4:]=='.csv'][0]\n",
    "    mtl_data_no_ukbb.append(pd.read_csv(os.path.join(p_parent,file),index_col=0,header=[0,1]))\n"
   ]
  },
  {
   "cell_type": "markdown",
   "metadata": {},
   "source": [
    "# Get Loss"
   ]
  },
  {
   "cell_type": "code",
   "execution_count": 28,
   "metadata": {},
   "outputs": [],
   "source": [
    "# Single Task\n",
    "st_loss = []\n",
    "st_loss_var = []\n",
    "for site in sites:\n",
    "    vals = [st_data[site][fold]['Loss/test'].iloc[-1] for fold in range(5)]\n",
    "    st_loss.append(np.mean(vals))\n",
    "    st_loss_var.append(np.var(vals))\n",
    "\n",
    "st_loss = pd.Series(st_loss,index=sites)\n",
    "st_loss_var = pd.Series(st_loss_var,index=sites)"
   ]
  },
  {
   "cell_type": "code",
   "execution_count": 29,
   "metadata": {},
   "outputs": [],
   "source": [
    "# Multi-task\n",
    "mtl_loss = []\n",
    "for fold in range(4): # missing last fold\n",
    "    df = mtl_data[fold].transpose().reset_index()\n",
    "    df = df[df['level_1']=='Loss/test'].set_index('level_0')[99]\n",
    "    mtl_loss.append(df)\n",
    "    \n",
    "mtl_loss_var = pd.concat(mtl_loss,axis=1).var(axis=1)\n",
    "mtl_loss = pd.concat(mtl_loss,axis=1).mean(axis=1)"
   ]
  },
  {
   "cell_type": "code",
   "execution_count": 30,
   "metadata": {},
   "outputs": [],
   "source": [
    "# Multi-task no UKBB\n",
    "mtl_loss_no_ukbb = []\n",
    "for fold in range(5):\n",
    "    df = mtl_data_no_ukbb[fold].transpose().reset_index()\n",
    "    df = df[df['level_1']=='Loss/test'].set_index('level_0')[99]\n",
    "    mtl_loss_no_ukbb.append(df)\n",
    "    \n",
    "mtl_loss_no_ukbb_var = pd.concat(mtl_loss_no_ukbb,axis=1).var(axis=1)\n",
    "mtl_loss_no_ukbb = pd.concat(mtl_loss_no_ukbb,axis=1).mean(axis=1)"
   ]
  },
  {
   "cell_type": "markdown",
   "metadata": {},
   "source": [
    "# Tables"
   ]
  },
  {
   "cell_type": "code",
   "execution_count": 31,
   "metadata": {},
   "outputs": [
    {
     "data": {
      "text/html": [
       "<div>\n",
       "<style scoped>\n",
       "    .dataframe tbody tr th:only-of-type {\n",
       "        vertical-align: middle;\n",
       "    }\n",
       "\n",
       "    .dataframe tbody tr th {\n",
       "        vertical-align: top;\n",
       "    }\n",
       "\n",
       "    .dataframe thead th {\n",
       "        text-align: right;\n",
       "    }\n",
       "</style>\n",
       "<table border=\"1\" class=\"dataframe\">\n",
       "  <thead>\n",
       "    <tr style=\"text-align: right;\">\n",
       "      <th></th>\n",
       "      <th>ST</th>\n",
       "      <th>MTL</th>\n",
       "      <th>ST_var</th>\n",
       "      <th>MTL_var</th>\n",
       "      <th>MTL_no_ukbb</th>\n",
       "      <th>MTL_no_ukbb_var</th>\n",
       "    </tr>\n",
       "  </thead>\n",
       "  <tbody>\n",
       "    <tr>\n",
       "      <th>SZ3</th>\n",
       "      <td>13.445051</td>\n",
       "      <td>14.140224</td>\n",
       "      <td>28.292219</td>\n",
       "      <td>176.043600</td>\n",
       "      <td>11.978199</td>\n",
       "      <td>41.565785</td>\n",
       "    </tr>\n",
       "    <tr>\n",
       "      <th>SZ6</th>\n",
       "      <td>11.565257</td>\n",
       "      <td>7.225637</td>\n",
       "      <td>32.575848</td>\n",
       "      <td>8.516456</td>\n",
       "      <td>14.204214</td>\n",
       "      <td>89.355687</td>\n",
       "    </tr>\n",
       "    <tr>\n",
       "      <th>Svip2</th>\n",
       "      <td>13.100706</td>\n",
       "      <td>7.359330</td>\n",
       "      <td>25.007232</td>\n",
       "      <td>27.373925</td>\n",
       "      <td>4.785418</td>\n",
       "      <td>6.122893</td>\n",
       "    </tr>\n",
       "    <tr>\n",
       "      <th>ADHD6</th>\n",
       "      <td>0.185142</td>\n",
       "      <td>0.346925</td>\n",
       "      <td>0.008460</td>\n",
       "      <td>0.017609</td>\n",
       "      <td>0.253110</td>\n",
       "      <td>0.031094</td>\n",
       "    </tr>\n",
       "    <tr>\n",
       "      <th>HSJ</th>\n",
       "      <td>21.970699</td>\n",
       "      <td>20.501324</td>\n",
       "      <td>59.201747</td>\n",
       "      <td>119.361162</td>\n",
       "      <td>35.022453</td>\n",
       "      <td>92.495139</td>\n",
       "    </tr>\n",
       "    <tr>\n",
       "      <th>SZ2</th>\n",
       "      <td>19.448307</td>\n",
       "      <td>20.147567</td>\n",
       "      <td>90.604922</td>\n",
       "      <td>238.063326</td>\n",
       "      <td>13.594409</td>\n",
       "      <td>60.113807</td>\n",
       "    </tr>\n",
       "    <tr>\n",
       "      <th>SZ1</th>\n",
       "      <td>23.763197</td>\n",
       "      <td>21.857235</td>\n",
       "      <td>172.458097</td>\n",
       "      <td>23.317006</td>\n",
       "      <td>28.858098</td>\n",
       "      <td>444.628270</td>\n",
       "    </tr>\n",
       "    <tr>\n",
       "      <th>UCLA_CB</th>\n",
       "      <td>5.705241</td>\n",
       "      <td>5.545194</td>\n",
       "      <td>4.020034</td>\n",
       "      <td>24.386471</td>\n",
       "      <td>2.832970</td>\n",
       "      <td>1.451072</td>\n",
       "    </tr>\n",
       "    <tr>\n",
       "      <th>Svip1</th>\n",
       "      <td>25.537179</td>\n",
       "      <td>16.107686</td>\n",
       "      <td>157.529647</td>\n",
       "      <td>91.590638</td>\n",
       "      <td>17.023387</td>\n",
       "      <td>211.146177</td>\n",
       "    </tr>\n",
       "    <tr>\n",
       "      <th>ADHD1</th>\n",
       "      <td>0.414617</td>\n",
       "      <td>1.515768</td>\n",
       "      <td>0.007683</td>\n",
       "      <td>2.866679</td>\n",
       "      <td>0.588194</td>\n",
       "      <td>0.086338</td>\n",
       "    </tr>\n",
       "    <tr>\n",
       "      <th>ADHD3</th>\n",
       "      <td>0.435155</td>\n",
       "      <td>0.423767</td>\n",
       "      <td>0.053284</td>\n",
       "      <td>0.108344</td>\n",
       "      <td>0.519710</td>\n",
       "      <td>0.033652</td>\n",
       "    </tr>\n",
       "    <tr>\n",
       "      <th>NYU</th>\n",
       "      <td>4.022784</td>\n",
       "      <td>5.022908</td>\n",
       "      <td>1.055195</td>\n",
       "      <td>5.508676</td>\n",
       "      <td>5.645454</td>\n",
       "      <td>10.022257</td>\n",
       "    </tr>\n",
       "    <tr>\n",
       "      <th>ADHD5</th>\n",
       "      <td>1.360875</td>\n",
       "      <td>1.149696</td>\n",
       "      <td>0.328917</td>\n",
       "      <td>0.265043</td>\n",
       "      <td>1.075386</td>\n",
       "      <td>0.044337</td>\n",
       "    </tr>\n",
       "    <tr>\n",
       "      <th>UCLA_DS1</th>\n",
       "      <td>13.405938</td>\n",
       "      <td>8.639910</td>\n",
       "      <td>19.099694</td>\n",
       "      <td>12.490738</td>\n",
       "      <td>12.224287</td>\n",
       "      <td>2.044861</td>\n",
       "    </tr>\n",
       "    <tr>\n",
       "      <th>UKBB11026</th>\n",
       "      <td>7.151213</td>\n",
       "      <td>6.524316</td>\n",
       "      <td>0.896676</td>\n",
       "      <td>2.846197</td>\n",
       "      <td>NaN</td>\n",
       "      <td>NaN</td>\n",
       "    </tr>\n",
       "    <tr>\n",
       "      <th>UKBB11027</th>\n",
       "      <td>6.246198</td>\n",
       "      <td>5.889952</td>\n",
       "      <td>0.212562</td>\n",
       "      <td>0.065739</td>\n",
       "      <td>NaN</td>\n",
       "      <td>NaN</td>\n",
       "    </tr>\n",
       "    <tr>\n",
       "      <th>UKBB11025</th>\n",
       "      <td>6.668554</td>\n",
       "      <td>5.674271</td>\n",
       "      <td>0.328551</td>\n",
       "      <td>0.612757</td>\n",
       "      <td>NaN</td>\n",
       "      <td>NaN</td>\n",
       "    </tr>\n",
       "    <tr>\n",
       "      <th>USM</th>\n",
       "      <td>NaN</td>\n",
       "      <td>3.436285</td>\n",
       "      <td>NaN</td>\n",
       "      <td>1.560481</td>\n",
       "      <td>4.160274</td>\n",
       "      <td>13.061795</td>\n",
       "    </tr>\n",
       "  </tbody>\n",
       "</table>\n",
       "</div>"
      ],
      "text/plain": [
       "                  ST        MTL      ST_var     MTL_var  MTL_no_ukbb  \\\n",
       "SZ3        13.445051  14.140224   28.292219  176.043600    11.978199   \n",
       "SZ6        11.565257   7.225637   32.575848    8.516456    14.204214   \n",
       "Svip2      13.100706   7.359330   25.007232   27.373925     4.785418   \n",
       "ADHD6       0.185142   0.346925    0.008460    0.017609     0.253110   \n",
       "HSJ        21.970699  20.501324   59.201747  119.361162    35.022453   \n",
       "SZ2        19.448307  20.147567   90.604922  238.063326    13.594409   \n",
       "SZ1        23.763197  21.857235  172.458097   23.317006    28.858098   \n",
       "UCLA_CB     5.705241   5.545194    4.020034   24.386471     2.832970   \n",
       "Svip1      25.537179  16.107686  157.529647   91.590638    17.023387   \n",
       "ADHD1       0.414617   1.515768    0.007683    2.866679     0.588194   \n",
       "ADHD3       0.435155   0.423767    0.053284    0.108344     0.519710   \n",
       "NYU         4.022784   5.022908    1.055195    5.508676     5.645454   \n",
       "ADHD5       1.360875   1.149696    0.328917    0.265043     1.075386   \n",
       "UCLA_DS1   13.405938   8.639910   19.099694   12.490738    12.224287   \n",
       "UKBB11026   7.151213   6.524316    0.896676    2.846197          NaN   \n",
       "UKBB11027   6.246198   5.889952    0.212562    0.065739          NaN   \n",
       "UKBB11025   6.668554   5.674271    0.328551    0.612757          NaN   \n",
       "USM              NaN   3.436285         NaN    1.560481     4.160274   \n",
       "\n",
       "           MTL_no_ukbb_var  \n",
       "SZ3              41.565785  \n",
       "SZ6              89.355687  \n",
       "Svip2             6.122893  \n",
       "ADHD6             0.031094  \n",
       "HSJ              92.495139  \n",
       "SZ2              60.113807  \n",
       "SZ1             444.628270  \n",
       "UCLA_CB           1.451072  \n",
       "Svip1           211.146177  \n",
       "ADHD1             0.086338  \n",
       "ADHD3             0.033652  \n",
       "NYU              10.022257  \n",
       "ADHD5             0.044337  \n",
       "UCLA_DS1          2.044861  \n",
       "UKBB11026              NaN  \n",
       "UKBB11027              NaN  \n",
       "UKBB11025              NaN  \n",
       "USM              13.061795  "
      ]
     },
     "execution_count": 31,
     "metadata": {},
     "output_type": "execute_result"
    }
   ],
   "source": [
    "df = pd.concat([st_loss,mtl_loss,st_loss_var,mtl_loss_var,mtl_loss_no_ukbb,mtl_loss_no_ukbb_var],axis=1)\n",
    "df.columns = ['ST','MTL','ST_var','MTL_var','MTL_no_ukbb','MTL_no_ukbb_var']\n",
    "df"
   ]
  },
  {
   "cell_type": "code",
   "execution_count": 32,
   "metadata": {},
   "outputs": [
    {
     "data": {
      "text/plain": [
       "ST                 10.260360\n",
       "MTL                 8.417111\n",
       "ST_var             34.804751\n",
       "MTL_var            40.833047\n",
       "MTL_no_ukbb        10.184371\n",
       "MTL_no_ukbb_var    64.813544\n",
       "dtype: float64"
      ]
     },
     "execution_count": 32,
     "metadata": {},
     "output_type": "execute_result"
    }
   ],
   "source": [
    "df.mean()"
   ]
  },
  {
   "cell_type": "markdown",
   "metadata": {},
   "source": [
    "# Plots"
   ]
  },
  {
   "cell_type": "code",
   "execution_count": 18,
   "metadata": {},
   "outputs": [
    {
     "data": {
      "image/png": "[encoded data removed]",
      "text/plain": [
       "<Figure size 600x400 with 17 Axes>"
      ]
     },
     "metadata": {},
     "output_type": "display_data"
    }
   ],
   "source": [
    "###############\n",
    "# CONNECTOMES #\n",
    "###############\n",
    "title = 'Single Task vs Multi-Task - Age'\n",
    "fig,ax = plt.subplots(1,len(sites),figsize=(6,4),sharey=True,sharex=True)\n",
    "#plt.yticks([40,50,60,70,80,90])\n",
    "sns.set_style('whitegrid')\n",
    "colors = ['black','darkorchid','red','orange','dodgerblue','forestgreen']\n",
    "\n",
    "for j,site in enumerate(sites):\n",
    "    st_loss = df.loc[site]['ST']\n",
    "    mtl_loss = df.loc[site]['MTL']\n",
    "    # DIRECTION IS INVERTED FOR LOSS\n",
    "    if st_loss < mtl_loss:\n",
    "        mfc = 'white'\n",
    "        ls =''\n",
    "    else:\n",
    "        mfc = colors[0]\n",
    "        ls = '-'\n",
    "\n",
    "    ax[j].plot(5,mtl_loss,marker='o',color=colors[0],ms=4,markerfacecolor=mfc)\n",
    "    ax[j].plot(5,st_loss,marker='o',color=colors[0],ms=4,markerfacecolor=mfc)\n",
    "    ax[j].plot((5,5),(st_loss,mtl_loss),color=colors[0],ls=ls)\n",
    "    ax[j].set_xticklabels([])\n",
    "    ax[j].set_xticks([])\n",
    "    ax[j].set_xlabel(sites[j],rotation=270)\n",
    "\n",
    "ax[0].set_ylabel('Loss')\n",
    "plt.suptitle(title)\n",
    "#plt.ylim(30,100)\n",
    "plt.tight_layout()\n",
    "plt.subplots_adjust(wspace=0)\n",
    "plt.savefig(os.path.join(p_age,'figures/st_vs_mtl.png'),dpi=300)"
   ]
  },
  {
   "cell_type": "code",
   "execution_count": 34,
   "metadata": {},
   "outputs": [
    {
     "data": {
      "image/png": "[encoded data removed]",
      "text/plain": [
       "<Figure size 600x400 with 14 Axes>"
      ]
     },
     "metadata": {},
     "output_type": "display_data"
    }
   ],
   "source": [
    "###############\n",
    "# CONNECTOMES #\n",
    "###############\n",
    "sites_no_ukbb = [site for site in sites if site[:4]!='UKBB']\n",
    "title = 'Single Task vs Multi-Task - Age - No UKBB'\n",
    "fig,ax = plt.subplots(1,len(sites_no_ukbb),figsize=(6,4),sharey=True,sharex=True)\n",
    "#plt.yticks([40,50,60,70,80,90])\n",
    "sns.set_style('whitegrid')\n",
    "colors = ['black','darkorchid','red','orange','dodgerblue','forestgreen']\n",
    "\n",
    "for j,site in enumerate(sites_no_ukbb):\n",
    "    st_loss = df.loc[site]['ST']\n",
    "    mtl_loss = df.loc[site]['MTL_no_ukbb']\n",
    "    # DIRECTION IS INVERTED FOR LOSS\n",
    "    if st_loss < mtl_loss:\n",
    "        mfc = 'white'\n",
    "        ls =''\n",
    "    else:\n",
    "        mfc = colors[0]\n",
    "        ls = '-'\n",
    "\n",
    "    ax[j].plot(5,mtl_loss,marker='o',color=colors[0],ms=4,markerfacecolor=mfc)\n",
    "    ax[j].plot(5,st_loss,marker='o',color=colors[0],ms=4,markerfacecolor=mfc)\n",
    "    ax[j].plot((5,5),(st_loss,mtl_loss),color=colors[0],ls=ls)\n",
    "    ax[j].set_xticklabels([])\n",
    "    ax[j].set_xticks([])\n",
    "    ax[j].set_xlabel(sites[j],rotation=270)\n",
    "\n",
    "ax[0].set_ylabel('Loss')\n",
    "plt.suptitle(title)\n",
    "#plt.ylim(30,100)\n",
    "plt.tight_layout()\n",
    "plt.subplots_adjust(wspace=0)\n",
    "plt.savefig(os.path.join(p_age,'figures/st_vs_mtl_no_ukbb.png'),dpi=300)"
   ]
  },
  {
   "cell_type": "code",
   "execution_count": 36,
   "metadata": {},
   "outputs": [],
   "source": [
    "df['diff'] = df['MTL'] - df['ST']\n",
    "df['diff_no_ukbb'] = df['MTL_no_ukbb'] - df['ST']"
   ]
  },
  {
   "cell_type": "code",
   "execution_count": 41,
   "metadata": {},
   "outputs": [
    {
     "data": {
      "text/plain": [
       "ST                 11.025725\n",
       "MTL                 9.284512\n",
       "ST_var             42.160213\n",
       "MTL_var            52.136405\n",
       "MTL_no_ukbb        10.614664\n",
       "MTL_no_ukbb_var    68.510098\n",
       "diff               -1.741212\n",
       "diff_no_ukbb       -0.411061\n",
       "dtype: float64"
      ]
     },
     "execution_count": 41,
     "metadata": {},
     "output_type": "execute_result"
    }
   ],
   "source": [
    "df[df.index.isin(sites_no_ukbb)].mean()"
   ]
  },
  {
   "cell_type": "code",
   "execution_count": null,
   "metadata": {},
   "outputs": [],
   "source": []
  }
 ],
 "metadata": {
  "kernelspec": {
   "display_name": "Python 3.9.15 ('fmri')",
   "language": "python",
   "name": "python3"
  },
  "language_info": {
   "codemirror_mode": {
    "name": "ipython",
    "version": 3
   },
   "file_extension": ".py",
   "mimetype": "text/x-python",
   "name": "python",
   "nbconvert_exporter": "python",
   "pygments_lexer": "ipython3",
   "version": "3.9.15"
  },
  "orig_nbformat": 4,
  "vscode": {
   "interpreter": {
    "hash": "7ea07d7e26f64274b859969024e9bc122a0aaa5b386426249452447396636cf1"
   }
  }
 },
 "nbformat": 4,
 "nbformat_minor": 2
}
