{
 "cells": [
  {
   "cell_type": "code",
   "execution_count": 1,
   "metadata": {},
   "outputs": [],
   "source": [
    "import os\n",
    "import pandas as pd\n",
    "import numpy as np\n",
    "import matplotlib.pyplot as plt\n",
    "import seaborn as sns"
   ]
  },
  {
   "cell_type": "code",
   "execution_count": 2,
   "metadata": {},
   "outputs": [],
   "source": [
    "#sites = ['ADHD1',\n",
    "#        'ADHD3',\n",
    "#        'ADHD5',\n",
    "#        'ADHD6',\n",
    "#        'HSJ',\n",
    "#        'Svip1',\n",
    "#        'Svip2',\n",
    "#        'SZ3',\n",
    "#        'SZ6',\n",
    "#        'UCLA_CB',\n",
    "#        'UCLA_DS1',\n",
    "#        'UKBB11025',\n",
    "#        'UKBB11026',\n",
    "#        'UKBB11027']\n",
    "\n",
    "# Order by n in site\n",
    "sites = ['SZ3',\n",
    "        'SZ6',\n",
    "        'Svip2',\n",
    "        'ADHD6',\n",
    "        'HSJ',\n",
    "        'UCLA_CB',\n",
    "        'Svip1',\n",
    "        'ADHD1',\n",
    "        'ADHD3',\n",
    "        'ADHD5',\n",
    "        'UCLA_DS1',\n",
    "        'UKBB11026',\n",
    "        'UKBB11027',\n",
    "        'UKBB11025']\n",
    "\n",
    "p_sex = './results/sex/'"
   ]
  },
  {
   "cell_type": "code",
   "execution_count": 3,
   "metadata": {},
   "outputs": [],
   "source": [
    "nsite = {'ABIDEII-BNI_1': 6,\n",
    " 'ABIDEII-ETH_1': 23,\n",
    " 'ABIDEII-GU_1': 26,\n",
    " 'ABIDEII-IP_1': 7,\n",
    " 'ABIDEII-IU_1': 3,\n",
    " 'ABIDEII-KKI_1': 17,\n",
    " 'ABIDEII-NYU_1': 27,\n",
    " 'ABIDEII-OHSU_1': 27,\n",
    " 'ABIDEII-OILH_2': 13,\n",
    " 'ABIDEII-SDSU_1': 21,\n",
    " 'ABIDEII-SU_2': 7,\n",
    " 'ABIDEII-TCD_1': 18,\n",
    " 'ABIDEII-UCD_1': 10,\n",
    " 'ABIDEII-UCLA_1': 9,\n",
    " 'ABIDEII-USM_1': 13,\n",
    " 'ABIDEII-U_MIA_1': 10,\n",
    " 'ADHD1': 54,\n",
    " 'ADHD3': 56,\n",
    " 'ADHD4': 14,\n",
    " 'ADHD5': 77,\n",
    " 'ADHD6': 39,\n",
    " 'Cardiff': 8,\n",
    " 'HSJ': 39,\n",
    " 'KKI': 22,\n",
    " 'LEUVEN_1': 5,\n",
    " 'MAX_MUN': 11,\n",
    " 'NYU': 66,\n",
    " 'OLIN': 8,\n",
    " 'SDSU': 13,\n",
    " 'SZ1': 42,\n",
    " 'SZ10': 9,\n",
    " 'SZ2': 41,\n",
    " 'SZ3': 31,\n",
    " 'SZ4': 25,\n",
    " 'SZ5': 17,\n",
    " 'SZ6': 35,\n",
    " 'SZ7': 14,\n",
    " 'SZ8': 14,\n",
    " 'SZ9': 14,\n",
    " 'Svip1': 48,\n",
    " 'Svip2': 36,\n",
    " 'TRINITY': 25,\n",
    " 'UCLA_1': 24,\n",
    " 'UCLA_2': 5,\n",
    " 'UCLA_CB': 43,\n",
    " 'UCLA_DS1': 94,\n",
    " 'UCLA_DS2': 19,\n",
    " 'UKBB11025': 1000,\n",
    " 'UKBB11026': 1000,\n",
    " 'UKBB11027': 1000,\n",
    " 'UM_1': 10,\n",
    " 'USM': 30,\n",
    " 'YALE': 15}"
   ]
  },
  {
   "cell_type": "markdown",
   "metadata": {},
   "source": [
    "# Load Data"
   ]
  },
  {
   "cell_type": "code",
   "execution_count": 4,
   "metadata": {},
   "outputs": [],
   "source": [
    "# Single Task\n",
    "st_data = []\n",
    "for site in sites:\n",
    "    folds = []\n",
    "    for fold in range(5):\n",
    "        p_parent = os.path.join(p_sex, f\"{site}/fold_{fold}\")\n",
    "        file = [f for f in os.listdir(p_parent) if f[-4:]=='.csv'][0]\n",
    "        folds.append(pd.read_csv(os.path.join(p_parent,file),index_col=0,header=[0,1])[site])\n",
    "    st_data.append(folds)\n",
    "\n",
    "st_data = dict(zip(sites,st_data))"
   ]
  },
  {
   "cell_type": "code",
   "execution_count": 5,
   "metadata": {},
   "outputs": [],
   "source": [
    "# Multi-task\n",
    "mtl_data = []\n",
    "for fold in range(5):\n",
    "    p_parent = os.path.join(p_sex, f\"all/fold_{fold}\")\n",
    "    file = [f for f in os.listdir(p_parent) if f[-4:]=='.csv'][0]\n",
    "    mtl_data.append(pd.read_csv(os.path.join(p_parent,file),index_col=0,header=[0,1]))\n"
   ]
  },
  {
   "cell_type": "markdown",
   "metadata": {},
   "source": [
    "# Get Accuracy"
   ]
  },
  {
   "cell_type": "code",
   "execution_count": 16,
   "metadata": {},
   "outputs": [],
   "source": [
    "# Single Task\n",
    "st_acc = []\n",
    "st_acc_std = []\n",
    "for site in sites:\n",
    "    # Connectomes\n",
    "    vals = [st_data[site][fold]['Accuracy/test'].iloc[-1] for fold in range(5)]\n",
    "    st_acc.append(np.mean(vals))\n",
    "    st_acc_std.append(np.std(vals))\n",
    "\n",
    "st_acc = pd.Series(st_acc,index=sites)\n",
    "st_acc_std = pd.Series(st_acc_std,index=sites)"
   ]
  },
  {
   "cell_type": "code",
   "execution_count": 17,
   "metadata": {},
   "outputs": [],
   "source": [
    "# Multi-task\n",
    "mtl_acc = []\n",
    "for fold in range(5):\n",
    "    df = mtl_data[fold].transpose().reset_index()\n",
    "    df = df[df['level_1']=='Accuracy/test'].set_index('level_0')[99]\n",
    "    mtl_acc.append(df)\n",
    "    \n",
    "mtl_acc_std = pd.concat(mtl_acc,axis=1).std(axis=1)\n",
    "mtl_acc = pd.concat(mtl_acc,axis=1).mean(axis=1)"
   ]
  },
  {
   "cell_type": "markdown",
   "metadata": {},
   "source": [
    "# Tables"
   ]
  },
  {
   "cell_type": "code",
   "execution_count": 18,
   "metadata": {},
   "outputs": [
    {
     "data": {
      "text/html": [
       "<div>\n",
       "<style scoped>\n",
       "    .dataframe tbody tr th:only-of-type {\n",
       "        vertical-align: middle;\n",
       "    }\n",
       "\n",
       "    .dataframe tbody tr th {\n",
       "        vertical-align: top;\n",
       "    }\n",
       "\n",
       "    .dataframe thead th {\n",
       "        text-align: right;\n",
       "    }\n",
       "</style>\n",
       "<table border=\"1\" class=\"dataframe\">\n",
       "  <thead>\n",
       "    <tr style=\"text-align: right;\">\n",
       "      <th></th>\n",
       "      <th>ST</th>\n",
       "      <th>MTL</th>\n",
       "      <th>ST_std</th>\n",
       "      <th>MTL_std</th>\n",
       "      <th>diff</th>\n",
       "    </tr>\n",
       "  </thead>\n",
       "  <tbody>\n",
       "    <tr>\n",
       "      <th>SZ3</th>\n",
       "      <td>57.142857</td>\n",
       "      <td>77.142857</td>\n",
       "      <td>15.649216</td>\n",
       "      <td>16.288220</td>\n",
       "      <td>20.000000</td>\n",
       "    </tr>\n",
       "    <tr>\n",
       "      <th>SZ6</th>\n",
       "      <td>71.428571</td>\n",
       "      <td>60.000000</td>\n",
       "      <td>20.203051</td>\n",
       "      <td>18.626293</td>\n",
       "      <td>-11.428571</td>\n",
       "    </tr>\n",
       "    <tr>\n",
       "      <th>Svip2</th>\n",
       "      <td>55.000000</td>\n",
       "      <td>65.000000</td>\n",
       "      <td>16.955825</td>\n",
       "      <td>18.540496</td>\n",
       "      <td>10.000000</td>\n",
       "    </tr>\n",
       "    <tr>\n",
       "      <th>ADHD6</th>\n",
       "      <td>40.000000</td>\n",
       "      <td>52.500000</td>\n",
       "      <td>22.912878</td>\n",
       "      <td>10.458250</td>\n",
       "      <td>12.500000</td>\n",
       "    </tr>\n",
       "    <tr>\n",
       "      <th>HSJ</th>\n",
       "      <td>40.000000</td>\n",
       "      <td>60.000000</td>\n",
       "      <td>20.000000</td>\n",
       "      <td>24.044230</td>\n",
       "      <td>20.000000</td>\n",
       "    </tr>\n",
       "    <tr>\n",
       "      <th>UCLA_CB</th>\n",
       "      <td>48.888889</td>\n",
       "      <td>46.666667</td>\n",
       "      <td>11.331154</td>\n",
       "      <td>24.088315</td>\n",
       "      <td>-2.222222</td>\n",
       "    </tr>\n",
       "    <tr>\n",
       "      <th>Svip1</th>\n",
       "      <td>54.000000</td>\n",
       "      <td>76.000000</td>\n",
       "      <td>13.564660</td>\n",
       "      <td>20.736441</td>\n",
       "      <td>22.000000</td>\n",
       "    </tr>\n",
       "    <tr>\n",
       "      <th>ADHD1</th>\n",
       "      <td>67.272727</td>\n",
       "      <td>74.545455</td>\n",
       "      <td>10.909091</td>\n",
       "      <td>20.730462</td>\n",
       "      <td>7.272727</td>\n",
       "    </tr>\n",
       "    <tr>\n",
       "      <th>ADHD3</th>\n",
       "      <td>58.333333</td>\n",
       "      <td>48.333333</td>\n",
       "      <td>14.907120</td>\n",
       "      <td>6.972167</td>\n",
       "      <td>-10.000000</td>\n",
       "    </tr>\n",
       "    <tr>\n",
       "      <th>ADHD5</th>\n",
       "      <td>58.750000</td>\n",
       "      <td>55.000000</td>\n",
       "      <td>6.373774</td>\n",
       "      <td>8.149003</td>\n",
       "      <td>-3.750000</td>\n",
       "    </tr>\n",
       "    <tr>\n",
       "      <th>UCLA_DS1</th>\n",
       "      <td>73.684211</td>\n",
       "      <td>67.368421</td>\n",
       "      <td>4.707512</td>\n",
       "      <td>8.648251</td>\n",
       "      <td>-6.315789</td>\n",
       "    </tr>\n",
       "    <tr>\n",
       "      <th>UKBB11026</th>\n",
       "      <td>84.000000</td>\n",
       "      <td>90.100000</td>\n",
       "      <td>2.645751</td>\n",
       "      <td>2.583602</td>\n",
       "      <td>6.100000</td>\n",
       "    </tr>\n",
       "    <tr>\n",
       "      <th>UKBB11027</th>\n",
       "      <td>86.800000</td>\n",
       "      <td>86.800000</td>\n",
       "      <td>1.691153</td>\n",
       "      <td>1.823458</td>\n",
       "      <td>0.000000</td>\n",
       "    </tr>\n",
       "    <tr>\n",
       "      <th>UKBB11025</th>\n",
       "      <td>83.900000</td>\n",
       "      <td>87.800000</td>\n",
       "      <td>1.655295</td>\n",
       "      <td>2.514955</td>\n",
       "      <td>3.900000</td>\n",
       "    </tr>\n",
       "  </tbody>\n",
       "</table>\n",
       "</div>"
      ],
      "text/plain": [
       "                  ST        MTL     ST_std    MTL_std       diff\n",
       "SZ3        57.142857  77.142857  15.649216  16.288220  20.000000\n",
       "SZ6        71.428571  60.000000  20.203051  18.626293 -11.428571\n",
       "Svip2      55.000000  65.000000  16.955825  18.540496  10.000000\n",
       "ADHD6      40.000000  52.500000  22.912878  10.458250  12.500000\n",
       "HSJ        40.000000  60.000000  20.000000  24.044230  20.000000\n",
       "UCLA_CB    48.888889  46.666667  11.331154  24.088315  -2.222222\n",
       "Svip1      54.000000  76.000000  13.564660  20.736441  22.000000\n",
       "ADHD1      67.272727  74.545455  10.909091  20.730462   7.272727\n",
       "ADHD3      58.333333  48.333333  14.907120   6.972167 -10.000000\n",
       "ADHD5      58.750000  55.000000   6.373774   8.149003  -3.750000\n",
       "UCLA_DS1   73.684211  67.368421   4.707512   8.648251  -6.315789\n",
       "UKBB11026  84.000000  90.100000   2.645751   2.583602   6.100000\n",
       "UKBB11027  86.800000  86.800000   1.691153   1.823458   0.000000\n",
       "UKBB11025  83.900000  87.800000   1.655295   2.514955   3.900000"
      ]
     },
     "execution_count": 18,
     "metadata": {},
     "output_type": "execute_result"
    }
   ],
   "source": [
    "df = pd.concat([st_acc,mtl_acc,st_acc_std,mtl_acc_std],axis=1)\n",
    "df.columns = ['ST','MTL','ST_std','MTL_std']\n",
    "df['diff'] = df['MTL'] - df['ST']\n",
    "df"
   ]
  },
  {
   "cell_type": "code",
   "execution_count": 19,
   "metadata": {},
   "outputs": [
    {
     "data": {
      "text/plain": [
       "ST         62.800042\n",
       "MTL        67.661195\n",
       "ST_std     11.679034\n",
       "MTL_std    13.157439\n",
       "diff        4.861153\n",
       "dtype: float64"
      ]
     },
     "execution_count": 19,
     "metadata": {},
     "output_type": "execute_result"
    }
   ],
   "source": [
    "df.mean()"
   ]
  },
  {
   "cell_type": "markdown",
   "metadata": {},
   "source": [
    "# Plots"
   ]
  },
  {
   "cell_type": "code",
   "execution_count": 10,
   "metadata": {},
   "outputs": [
    {
     "name": "stdout",
     "output_type": "stream",
     "text": [
      "'SZ3                 n=31',\n",
      "'SZ6                 n=35',\n",
      "'SVIP2             n=36',\n",
      "'ADHD6             n=39',\n",
      "'HSJ                 n=39',\n",
      "'UCLA_CB         n=43',\n",
      "'SVIP1             n=48',\n",
      "'ADHD1             n=54',\n",
      "'ADHD3             n=56',\n",
      "'ADHD5             n=77',\n",
      "'UCLA_DS1       n=94',\n",
      "'UKBB11026   n=1000',\n",
      "'UKBB11027   n=1000',\n",
      "'UKBB11025   n=1000',\n"
     ]
    }
   ],
   "source": [
    "lenmax = 25\n",
    "site_labels = []\n",
    "for site in sites:\n",
    "    n = f'{nsite[site]}'\n",
    "    nspaces = lenmax - 2*len(site) - len(n)\n",
    "    label = site.upper()+(' '*nspaces)+f'n={n}'\n",
    "    site_labels.append(label)\n",
    "    print(f\"'{label}',\")"
   ]
  },
  {
   "cell_type": "code",
   "execution_count": 11,
   "metadata": {},
   "outputs": [],
   "source": [
    "site_labels = [\n",
    "'SZ3                   n=31',\n",
    "'SZ6                   n=35',\n",
    "'SVIP2               n=36',\n",
    "'ADHD6             n=39',\n",
    "'HSJ                   n=39',\n",
    "'UCLA_CB         n=43',\n",
    "'SVIP1               n=48',\n",
    "'ADHD1             n=54',\n",
    "'ADHD3             n=56',\n",
    "'ADHD5             n=77',\n",
    "'UCLA_DS1       n=94',\n",
    "'UKBB11026   n=1000',\n",
    "'UKBB11027   n=1000',\n",
    "'UKBB11025   n=1000']"
   ]
  },
  {
   "cell_type": "code",
   "execution_count": 15,
   "metadata": {},
   "outputs": [
    {
     "data": {
      "image/png": "[encoded data removed]",
      "text/plain": [
       "<Figure size 600x400 with 14 Axes>"
      ]
     },
     "metadata": {},
     "output_type": "display_data"
    }
   ],
   "source": [
    "###############\n",
    "# CONNECTOMES #\n",
    "###############\n",
    "title = 'Sex - Single vs Multi-Task MLPconn'\n",
    "fig,ax = plt.subplots(1,len(sites),figsize=(6,4),sharey=True,sharex=True)\n",
    "plt.yticks([40,50,60,70,80,90])\n",
    "sns.set_style('whitegrid')\n",
    "colors = ['black','darkorchid','red','orange','dodgerblue','forestgreen']\n",
    "\n",
    "for j,site in enumerate(sites):\n",
    "    st_acc = df.loc[site]['ST']\n",
    "    mtl_acc = df.loc[site]['MTL']\n",
    "    if st_acc > mtl_acc:\n",
    "        mfc = 'white'\n",
    "        ls =''\n",
    "    else:\n",
    "        mfc = colors[0]\n",
    "        ls = '-'\n",
    "\n",
    "    ax[j].plot(5,mtl_acc,marker='o',color=colors[0],ms=4,markerfacecolor=mfc)\n",
    "    ax[j].plot(5,st_acc,marker='o',color=colors[0],ms=4,markerfacecolor=mfc)\n",
    "    ax[j].plot((5,5),(st_acc,mtl_acc),color=colors[0],ls=ls)\n",
    "    ax[j].set_xticklabels([])\n",
    "    ax[j].set_xticks([])\n",
    "    ax[j].set_xlabel(site_labels[j],rotation=270)\n",
    "\n",
    "    lines = ax[j].get_ygridlines()\n",
    "    b = lines[1]\n",
    "    b.set_color('black')\n",
    "    b.set_linewidth(1.15)\n",
    "    b.set_linestyle('--')\n",
    "\n",
    "ax[0].set_ylabel('Accuracy')\n",
    "plt.suptitle(title)\n",
    "plt.ylim(30,100)\n",
    "plt.tight_layout(pad=0.5)\n",
    "plt.subplots_adjust(wspace=0)\n",
    "plt.savefig(os.path.join(p_sex,'figures/st_vs_mtl.png'),dpi=300)"
   ]
  },
  {
   "cell_type": "code",
   "execution_count": null,
   "metadata": {},
   "outputs": [],
   "source": []
  }
 ],
 "metadata": {
  "kernelspec": {
   "display_name": "Python 3.9.15 ('fmri')",
   "language": "python",
   "name": "python3"
  },
  "language_info": {
   "codemirror_mode": {
    "name": "ipython",
    "version": 3
   },
   "file_extension": ".py",
   "mimetype": "text/x-python",
   "name": "python",
   "nbconvert_exporter": "python",
   "pygments_lexer": "ipython3",
   "version": "3.9.15"
  },
  "orig_nbformat": 4,
  "vscode": {
   "interpreter": {
    "hash": "7ea07d7e26f64274b859969024e9bc122a0aaa5b386426249452447396636cf1"
   }
  }
 },
 "nbformat": 4,
 "nbformat_minor": 2
}
