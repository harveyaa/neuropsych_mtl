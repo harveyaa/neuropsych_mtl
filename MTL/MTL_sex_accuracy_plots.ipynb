{
 "cells": [
  {
   "cell_type": "code",
   "execution_count": 28,
   "metadata": {},
   "outputs": [],
   "source": [
    "import os\n",
    "import pandas as pd\n",
    "import numpy as np\n",
    "import matplotlib.pyplot as plt\n",
    "import seaborn as sns"
   ]
  },
  {
   "cell_type": "code",
   "execution_count": 29,
   "metadata": {},
   "outputs": [],
   "source": [
    "#sites = ['ADHD1',\n",
    "#        'ADHD3',\n",
    "#        'ADHD5',\n",
    "#        'ADHD6',\n",
    "#        'HSJ',\n",
    "#        'Svip1',\n",
    "#        'Svip2',\n",
    "#        'SZ3',\n",
    "#        'SZ6',\n",
    "#        'UCLA_CB',\n",
    "#        'UCLA_DS1',\n",
    "#        'UKBB11025',\n",
    "#        'UKBB11026',\n",
    "#        'UKBB11027']\n",
    "\n",
    "# Order by n in site\n",
    "sites = ['SZ3',\n",
    "        'SZ6',\n",
    "        'Svip2',\n",
    "        'ADHD6',\n",
    "        'HSJ',\n",
    "        'UCLA_CB',\n",
    "        'Svip1',\n",
    "        'ADHD1',\n",
    "        'ADHD3',\n",
    "        'ADHD5',\n",
    "        'UCLA_DS1',\n",
    "        'UKBB11026',\n",
    "        'UKBB11027',\n",
    "        'UKBB11025']\n",
    "\n",
    "p_sex = './results/sex/'"
   ]
  },
  {
   "cell_type": "markdown",
   "metadata": {},
   "source": [
    "# Load Data"
   ]
  },
  {
   "cell_type": "code",
   "execution_count": 30,
   "metadata": {},
   "outputs": [],
   "source": [
    "# Single Task\n",
    "st_data = []\n",
    "for site in sites:\n",
    "    folds = []\n",
    "    for fold in range(5):\n",
    "        p_parent = os.path.join(p_sex, f\"{site}/fold_{fold}\")\n",
    "        file = [f for f in os.listdir(p_parent) if f[-4:]=='.csv'][0]\n",
    "        folds.append(pd.read_csv(os.path.join(p_parent,file),index_col=0,header=[0,1])[site])\n",
    "    st_data.append(folds)\n",
    "\n",
    "st_data = dict(zip(sites,st_data))"
   ]
  },
  {
   "cell_type": "code",
   "execution_count": 31,
   "metadata": {},
   "outputs": [],
   "source": [
    "# Multi-task\n",
    "mtl_data = []\n",
    "for fold in range(5):\n",
    "    p_parent = os.path.join(p_sex, f\"all/fold_{fold}\")\n",
    "    file = [f for f in os.listdir(p_parent) if f[-4:]=='.csv'][0]\n",
    "    mtl_data.append(pd.read_csv(os.path.join(p_parent,file),index_col=0,header=[0,1]))\n"
   ]
  },
  {
   "cell_type": "markdown",
   "metadata": {},
   "source": [
    "# Get Accuracy"
   ]
  },
  {
   "cell_type": "code",
   "execution_count": 32,
   "metadata": {},
   "outputs": [],
   "source": [
    "# Single Task\n",
    "st_acc = []\n",
    "st_acc_var = []\n",
    "for site in sites:\n",
    "    # Connectomes\n",
    "    vals = [st_data[site][fold]['Accuracy/test'].iloc[-1] for fold in range(5)]\n",
    "    st_acc.append(np.mean(vals))\n",
    "    st_acc_var.append(np.var(vals))\n",
    "\n",
    "st_acc = pd.Series(st_acc,index=sites)\n",
    "st_acc_var = pd.Series(st_acc_var,index=sites)"
   ]
  },
  {
   "cell_type": "code",
   "execution_count": 33,
   "metadata": {},
   "outputs": [],
   "source": [
    "# Multi-task\n",
    "mtl_acc = []\n",
    "for fold in range(5):\n",
    "    df = mtl_data[fold].transpose().reset_index()\n",
    "    df = df[df['level_1']=='Accuracy/test'].set_index('level_0')[99]\n",
    "    mtl_acc.append(df)\n",
    "    \n",
    "mtl_acc_var = pd.concat(mtl_acc,axis=1).var(axis=1)\n",
    "mtl_acc = pd.concat(mtl_acc,axis=1).mean(axis=1)"
   ]
  },
  {
   "cell_type": "markdown",
   "metadata": {},
   "source": [
    "# Tables"
   ]
  },
  {
   "cell_type": "code",
   "execution_count": 34,
   "metadata": {},
   "outputs": [
    {
     "data": {
      "text/html": [
       "<div>\n",
       "<style scoped>\n",
       "    .dataframe tbody tr th:only-of-type {\n",
       "        vertical-align: middle;\n",
       "    }\n",
       "\n",
       "    .dataframe tbody tr th {\n",
       "        vertical-align: top;\n",
       "    }\n",
       "\n",
       "    .dataframe thead th {\n",
       "        text-align: right;\n",
       "    }\n",
       "</style>\n",
       "<table border=\"1\" class=\"dataframe\">\n",
       "  <thead>\n",
       "    <tr style=\"text-align: right;\">\n",
       "      <th></th>\n",
       "      <th>ST</th>\n",
       "      <th>MTL</th>\n",
       "      <th>ST_var</th>\n",
       "      <th>MTL_var</th>\n",
       "      <th>diff</th>\n",
       "    </tr>\n",
       "  </thead>\n",
       "  <tbody>\n",
       "    <tr>\n",
       "      <th>SZ3</th>\n",
       "      <td>57.142857</td>\n",
       "      <td>77.142857</td>\n",
       "      <td>244.897959</td>\n",
       "      <td>265.306122</td>\n",
       "      <td>20.000000</td>\n",
       "    </tr>\n",
       "    <tr>\n",
       "      <th>SZ6</th>\n",
       "      <td>71.428571</td>\n",
       "      <td>60.000000</td>\n",
       "      <td>408.163265</td>\n",
       "      <td>346.938776</td>\n",
       "      <td>-11.428571</td>\n",
       "    </tr>\n",
       "    <tr>\n",
       "      <th>Svip2</th>\n",
       "      <td>55.000000</td>\n",
       "      <td>65.000000</td>\n",
       "      <td>287.500000</td>\n",
       "      <td>343.750000</td>\n",
       "      <td>10.000000</td>\n",
       "    </tr>\n",
       "    <tr>\n",
       "      <th>ADHD6</th>\n",
       "      <td>40.000000</td>\n",
       "      <td>52.500000</td>\n",
       "      <td>525.000000</td>\n",
       "      <td>109.375000</td>\n",
       "      <td>12.500000</td>\n",
       "    </tr>\n",
       "    <tr>\n",
       "      <th>HSJ</th>\n",
       "      <td>40.000000</td>\n",
       "      <td>60.000000</td>\n",
       "      <td>400.000000</td>\n",
       "      <td>578.125000</td>\n",
       "      <td>20.000000</td>\n",
       "    </tr>\n",
       "    <tr>\n",
       "      <th>UCLA_CB</th>\n",
       "      <td>48.888889</td>\n",
       "      <td>46.666667</td>\n",
       "      <td>128.395062</td>\n",
       "      <td>580.246914</td>\n",
       "      <td>-2.222222</td>\n",
       "    </tr>\n",
       "    <tr>\n",
       "      <th>Svip1</th>\n",
       "      <td>54.000000</td>\n",
       "      <td>76.000000</td>\n",
       "      <td>184.000000</td>\n",
       "      <td>430.000000</td>\n",
       "      <td>22.000000</td>\n",
       "    </tr>\n",
       "    <tr>\n",
       "      <th>ADHD1</th>\n",
       "      <td>67.272727</td>\n",
       "      <td>74.545455</td>\n",
       "      <td>119.008264</td>\n",
       "      <td>429.752066</td>\n",
       "      <td>7.272727</td>\n",
       "    </tr>\n",
       "    <tr>\n",
       "      <th>ADHD3</th>\n",
       "      <td>58.333333</td>\n",
       "      <td>48.333333</td>\n",
       "      <td>222.222222</td>\n",
       "      <td>48.611111</td>\n",
       "      <td>-10.000000</td>\n",
       "    </tr>\n",
       "    <tr>\n",
       "      <th>ADHD5</th>\n",
       "      <td>58.750000</td>\n",
       "      <td>55.000000</td>\n",
       "      <td>40.625000</td>\n",
       "      <td>66.406250</td>\n",
       "      <td>-3.750000</td>\n",
       "    </tr>\n",
       "    <tr>\n",
       "      <th>UCLA_DS1</th>\n",
       "      <td>73.684211</td>\n",
       "      <td>67.368421</td>\n",
       "      <td>22.160665</td>\n",
       "      <td>74.792244</td>\n",
       "      <td>-6.315789</td>\n",
       "    </tr>\n",
       "    <tr>\n",
       "      <th>UKBB11026</th>\n",
       "      <td>84.000000</td>\n",
       "      <td>90.100000</td>\n",
       "      <td>7.000000</td>\n",
       "      <td>6.675000</td>\n",
       "      <td>6.100000</td>\n",
       "    </tr>\n",
       "    <tr>\n",
       "      <th>UKBB11027</th>\n",
       "      <td>86.800000</td>\n",
       "      <td>86.800000</td>\n",
       "      <td>2.860000</td>\n",
       "      <td>3.325000</td>\n",
       "      <td>0.000000</td>\n",
       "    </tr>\n",
       "    <tr>\n",
       "      <th>UKBB11025</th>\n",
       "      <td>83.900000</td>\n",
       "      <td>87.800000</td>\n",
       "      <td>2.740000</td>\n",
       "      <td>6.325000</td>\n",
       "      <td>3.900000</td>\n",
       "    </tr>\n",
       "  </tbody>\n",
       "</table>\n",
       "</div>"
      ],
      "text/plain": [
       "                  ST        MTL      ST_var     MTL_var       diff\n",
       "SZ3        57.142857  77.142857  244.897959  265.306122  20.000000\n",
       "SZ6        71.428571  60.000000  408.163265  346.938776 -11.428571\n",
       "Svip2      55.000000  65.000000  287.500000  343.750000  10.000000\n",
       "ADHD6      40.000000  52.500000  525.000000  109.375000  12.500000\n",
       "HSJ        40.000000  60.000000  400.000000  578.125000  20.000000\n",
       "UCLA_CB    48.888889  46.666667  128.395062  580.246914  -2.222222\n",
       "Svip1      54.000000  76.000000  184.000000  430.000000  22.000000\n",
       "ADHD1      67.272727  74.545455  119.008264  429.752066   7.272727\n",
       "ADHD3      58.333333  48.333333  222.222222   48.611111 -10.000000\n",
       "ADHD5      58.750000  55.000000   40.625000   66.406250  -3.750000\n",
       "UCLA_DS1   73.684211  67.368421   22.160665   74.792244  -6.315789\n",
       "UKBB11026  84.000000  90.100000    7.000000    6.675000   6.100000\n",
       "UKBB11027  86.800000  86.800000    2.860000    3.325000   0.000000\n",
       "UKBB11025  83.900000  87.800000    2.740000    6.325000   3.900000"
      ]
     },
     "execution_count": 34,
     "metadata": {},
     "output_type": "execute_result"
    }
   ],
   "source": [
    "df = pd.concat([st_acc,mtl_acc,st_acc_var,mtl_acc_var],axis=1)\n",
    "df.columns = ['ST','MTL','ST_var','MTL_var']\n",
    "df['diff'] = df['MTL'] - df['ST']\n",
    "df"
   ]
  },
  {
   "cell_type": "code",
   "execution_count": 35,
   "metadata": {},
   "outputs": [
    {
     "data": {
      "text/plain": [
       "ST          62.800042\n",
       "MTL         67.661195\n",
       "ST_var     185.326603\n",
       "MTL_var    234.973463\n",
       "diff         4.861153\n",
       "dtype: float64"
      ]
     },
     "execution_count": 35,
     "metadata": {},
     "output_type": "execute_result"
    }
   ],
   "source": [
    "df.mean()"
   ]
  },
  {
   "cell_type": "markdown",
   "metadata": {},
   "source": [
    "# Plots"
   ]
  },
  {
   "cell_type": "code",
   "execution_count": 25,
   "metadata": {},
   "outputs": [
    {
     "data": {
      "image/png": "[encoded data removed]",
      "text/plain": [
       "<Figure size 600x400 with 14 Axes>"
      ]
     },
     "metadata": {},
     "output_type": "display_data"
    }
   ],
   "source": [
    "###############\n",
    "# CONNECTOMES #\n",
    "###############\n",
    "title = 'Single Task vs Multi-Task - Sex'\n",
    "fig,ax = plt.subplots(1,len(sites),figsize=(6,4),sharey=True,sharex=True)\n",
    "plt.yticks([40,50,60,70,80,90])\n",
    "sns.set_style('whitegrid')\n",
    "colors = ['black','darkorchid','red','orange','dodgerblue','forestgreen']\n",
    "\n",
    "for j,site in enumerate(sites):\n",
    "    st_acc = df.loc[site]['ST']\n",
    "    mtl_acc = df.loc[site]['MTL']\n",
    "    if st_acc > mtl_acc:\n",
    "        mfc = 'white'\n",
    "        ls =''\n",
    "    else:\n",
    "        mfc = colors[0]\n",
    "        ls = '-'\n",
    "\n",
    "    ax[j].plot(5,mtl_acc,marker='o',color=colors[0],ms=4,markerfacecolor=mfc)\n",
    "    ax[j].plot(5,st_acc,marker='o',color=colors[0],ms=4,markerfacecolor=mfc)\n",
    "    ax[j].plot((5,5),(st_acc,mtl_acc),color=colors[0],ls=ls)\n",
    "    ax[j].set_xticklabels([])\n",
    "    ax[j].set_xticks([])\n",
    "    ax[j].set_xlabel(sites[j],rotation=270)\n",
    "\n",
    "    lines = ax[j].get_ygridlines()\n",
    "    b = lines[1]\n",
    "    b.set_color('black')\n",
    "    b.set_linewidth(1.15)\n",
    "    b.set_linestyle('--')\n",
    "\n",
    "ax[0].set_ylabel('Accuracy')\n",
    "plt.suptitle(title)\n",
    "plt.ylim(30,100)\n",
    "plt.tight_layout()\n",
    "plt.subplots_adjust(wspace=0)\n",
    "plt.savefig(os.path.join(p_sex,'figures/st_vs_mtl.png'),dpi=300)"
   ]
  },
  {
   "cell_type": "code",
   "execution_count": null,
   "metadata": {},
   "outputs": [],
   "source": []
  }
 ],
 "metadata": {
  "kernelspec": {
   "display_name": "Python 3.9.15 ('fmri')",
   "language": "python",
   "name": "python3"
  },
  "language_info": {
   "codemirror_mode": {
    "name": "ipython",
    "version": 3
   },
   "file_extension": ".py",
   "mimetype": "text/x-python",
   "name": "python",
   "nbconvert_exporter": "python",
   "pygments_lexer": "ipython3",
   "version": "3.9.15"
  },
  "orig_nbformat": 4,
  "vscode": {
   "interpreter": {
    "hash": "7ea07d7e26f64274b859969024e9bc122a0aaa5b386426249452447396636cf1"
   }
  }
 },
 "nbformat": 4,
 "nbformat_minor": 2
}
