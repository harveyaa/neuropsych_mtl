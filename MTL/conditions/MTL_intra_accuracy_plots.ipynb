{
 "cells": [
  {
   "cell_type": "code",
   "execution_count": 27,
   "metadata": {},
   "outputs": [],
   "source": [
    "import os\n",
    "import pandas as pd\n",
    "import numpy as np\n",
    "import matplotlib.pyplot as plt\n",
    "import seaborn as sns"
   ]
  },
  {
   "cell_type": "code",
   "execution_count": 48,
   "metadata": {},
   "outputs": [],
   "source": [
    "\"\"\"\n",
    "cases = ['DEL15q11_2',\n",
    "        'DUP22q11_2',\n",
    "        'DUP16p11_2',\n",
    "        'DEL1q21_1',\n",
    "        'DUP1q21_1',\n",
    "        'DEL16p11_2',\n",
    "        'DEL22q11_2',\n",
    "        'ADHD',\n",
    "        'ASD',\n",
    "        'SZ',\n",
    "        'BIP',]\n",
    "\n",
    "labels = ['DEL 15q11.2',\n",
    "        'DUP 22q11.2',\n",
    "        'DUP 16p11.2',\n",
    "        'DEL 1q21.1',\n",
    "        'DUP 1q21.1',\n",
    "        'DEL 16p11.2',\n",
    "        'DEL 22q11.2',\n",
    "        'ADHD',\n",
    "        'ASD',\n",
    "        'SZ',\n",
    "        'BIP',]\n",
    "\n",
    "case_labels =       ['BIP                  n=44',\n",
    "                    'SZ                   n=283',\n",
    "                    'ASD                 n=472',\n",
    "                    'ADHD              n=223',\n",
    "\n",
    "                    'DEL 22q11.2     n=43',\n",
    "                    'DEL 16p11.2      n=32',\n",
    "                    'DUP 1q21.1       n=19',\n",
    "                    'DEL 1q21.1       n=25',\n",
    "                    'DUP 16p11.2     n=35',\n",
    "                    'DUP 22q11.2     n=22',\n",
    "                    'DEL 15q11.2    n=103']\n",
    "case_labels.reverse()\n",
    "\"\"\"\n",
    "\n",
    "# Ordered roughly by accuracy\n",
    "cases = ['DUP22q11_2','DEL15q11_2','DUP1q21_1','DEL1q21_1','DUP16p11_2','DEL16p11_2','DEL22q11_2','ADHD','ASD','SZ','BIP']\n",
    "\n",
    "case_labels =       ['BIP                  n=44',\n",
    "                    'SZ                   n=283',\n",
    "                    'ASD                 n=472',\n",
    "                    'ADHD              n=223',\n",
    "\n",
    "                    'DEL 22q11.2     n=43',\n",
    "                    'DEL 16p11.2      n=32',\n",
    "                    \n",
    "                    'DUP 16p11.2     n=35',\n",
    "                    'DEL 1q21.1       n=25',\n",
    "                    'DUP 1q21.1       n=19',\n",
    "                    'DEL 15q11.2    n=103',\n",
    "                    'DUP 22q11.2     n=22']\n",
    "case_labels.reverse()\n",
    "\n",
    "p_single = '../results_paper/baseline/mlp/'\n",
    "p_mtl = '../results_paper/mtl/mlp/'"
   ]
  },
  {
   "attachments": {},
   "cell_type": "markdown",
   "metadata": {},
   "source": [
    "# Load Data"
   ]
  },
  {
   "cell_type": "code",
   "execution_count": 49,
   "metadata": {},
   "outputs": [],
   "source": [
    "# Single Task\n",
    "st_data_conn = []\n",
    "for case in cases:\n",
    "    folds_conn = []\n",
    "    for fold in range(5):\n",
    "        # Connectomes\n",
    "        p_parent = os.path.join(p_single, f\"{case}/fold_{fold}\")\n",
    "        file = [f for f in os.listdir(p_parent) if f[-4:]=='.csv'][0]\n",
    "        folds_conn.append(pd.read_csv(os.path.join(p_parent,file),index_col=0,header=[0,1])[case])\n",
    "\n",
    "    st_data_conn.append(folds_conn)\n",
    "\n",
    "st_data_conn = dict(zip(cases,st_data_conn))"
   ]
  },
  {
   "cell_type": "code",
   "execution_count": 50,
   "metadata": {},
   "outputs": [],
   "source": [
    "# Multi-task\n",
    "mtl_data_conn = []\n",
    "for fold in range(5):\n",
    "    # Connectomes\n",
    "    p_parent = os.path.join(p_mtl, f\"fold_{fold}\")\n",
    "    file = [f for f in os.listdir(p_parent) if f[-4:]=='.csv'][0]\n",
    "    mtl_data_conn.append(pd.read_csv(os.path.join(p_parent,file),index_col=0,header=[0,1]))\n"
   ]
  },
  {
   "attachments": {},
   "cell_type": "markdown",
   "metadata": {},
   "source": [
    "# Get Accuracy"
   ]
  },
  {
   "cell_type": "code",
   "execution_count": 51,
   "metadata": {},
   "outputs": [],
   "source": [
    "# Single Task\n",
    "st_acc_conn = []\n",
    "st_acc_conn_std = []\n",
    "for case in cases:\n",
    "    # Connectomes\n",
    "    vals = [st_data_conn[case][fold]['Accuracy/test'].iloc[-1] for fold in range(5)]\n",
    "    st_acc_conn.append(np.mean(vals))\n",
    "    st_acc_conn_std.append(np.std(vals))\n",
    "\n",
    "\n",
    "st_acc_conn = pd.Series(st_acc_conn,index=cases)\n",
    "st_acc_conn_std = pd.Series(st_acc_conn_std,index=cases)"
   ]
  },
  {
   "cell_type": "code",
   "execution_count": 52,
   "metadata": {},
   "outputs": [
    {
     "data": {
      "text/plain": [
       "DUP22q11_2    41.388889\n",
       "DEL15q11_2    54.378630\n",
       "DUP1q21_1     53.214286\n",
       "DEL1q21_1     70.000000\n",
       "DUP16p11_2    64.285714\n",
       "DEL16p11_2    73.461538\n",
       "DEL22q11_2    84.967320\n",
       "ADHD          55.206897\n",
       "ASD           61.085219\n",
       "SZ            75.709892\n",
       "BIP           79.012097\n",
       "dtype: float64"
      ]
     },
     "execution_count": 52,
     "metadata": {},
     "output_type": "execute_result"
    }
   ],
   "source": [
    "st_acc_conn"
   ]
  },
  {
   "cell_type": "code",
   "execution_count": 53,
   "metadata": {},
   "outputs": [],
   "source": [
    "# Multi-task\n",
    "mtl_acc_conn = []\n",
    "for fold in range(5):\n",
    "    # Connectomes\n",
    "    df = mtl_data_conn[fold].transpose().reset_index()\n",
    "    df = df[df['level_1']=='Accuracy/test'].set_index('level_0')[99]\n",
    "    mtl_acc_conn.append(df)\n",
    "    \n",
    "mtl_acc_conn_std = pd.concat(mtl_acc_conn,axis=1).std(axis=1)\n",
    "mtl_acc_conn = pd.concat(mtl_acc_conn,axis=1).mean(axis=1)"
   ]
  },
  {
   "attachments": {},
   "cell_type": "markdown",
   "metadata": {},
   "source": [
    "# Tables"
   ]
  },
  {
   "cell_type": "code",
   "execution_count": 54,
   "metadata": {},
   "outputs": [
    {
     "data": {
      "text/html": [
       "<div>\n",
       "<style scoped>\n",
       "    .dataframe tbody tr th:only-of-type {\n",
       "        vertical-align: middle;\n",
       "    }\n",
       "\n",
       "    .dataframe tbody tr th {\n",
       "        vertical-align: top;\n",
       "    }\n",
       "\n",
       "    .dataframe thead th {\n",
       "        text-align: right;\n",
       "    }\n",
       "</style>\n",
       "<table border=\"1\" class=\"dataframe\">\n",
       "  <thead>\n",
       "    <tr style=\"text-align: right;\">\n",
       "      <th></th>\n",
       "      <th>ST</th>\n",
       "      <th>MTL</th>\n",
       "      <th>ST_std</th>\n",
       "      <th>MTL_std</th>\n",
       "    </tr>\n",
       "  </thead>\n",
       "  <tbody>\n",
       "    <tr>\n",
       "      <th>DUP22q11_2</th>\n",
       "      <td>41.388889</td>\n",
       "      <td>47.222222</td>\n",
       "      <td>13.391079</td>\n",
       "      <td>24.689429</td>\n",
       "    </tr>\n",
       "    <tr>\n",
       "      <th>DEL15q11_2</th>\n",
       "      <td>54.378630</td>\n",
       "      <td>57.735192</td>\n",
       "      <td>4.057667</td>\n",
       "      <td>8.362006</td>\n",
       "    </tr>\n",
       "    <tr>\n",
       "      <th>DUP1q21_1</th>\n",
       "      <td>53.214286</td>\n",
       "      <td>52.500000</td>\n",
       "      <td>22.314999</td>\n",
       "      <td>7.533937</td>\n",
       "    </tr>\n",
       "    <tr>\n",
       "      <th>DEL1q21_1</th>\n",
       "      <td>70.000000</td>\n",
       "      <td>46.000000</td>\n",
       "      <td>14.142136</td>\n",
       "      <td>23.021729</td>\n",
       "    </tr>\n",
       "    <tr>\n",
       "      <th>DUP16p11_2</th>\n",
       "      <td>64.285714</td>\n",
       "      <td>58.571429</td>\n",
       "      <td>4.517540</td>\n",
       "      <td>9.313146</td>\n",
       "    </tr>\n",
       "    <tr>\n",
       "      <th>DEL16p11_2</th>\n",
       "      <td>73.461538</td>\n",
       "      <td>64.230769</td>\n",
       "      <td>7.730674</td>\n",
       "      <td>8.113470</td>\n",
       "    </tr>\n",
       "    <tr>\n",
       "      <th>DEL22q11_2</th>\n",
       "      <td>84.967320</td>\n",
       "      <td>74.313725</td>\n",
       "      <td>8.571815</td>\n",
       "      <td>9.154994</td>\n",
       "    </tr>\n",
       "    <tr>\n",
       "      <th>ADHD</th>\n",
       "      <td>55.206897</td>\n",
       "      <td>59.197901</td>\n",
       "      <td>2.576093</td>\n",
       "      <td>3.358597</td>\n",
       "    </tr>\n",
       "    <tr>\n",
       "      <th>ASD</th>\n",
       "      <td>61.085219</td>\n",
       "      <td>59.389846</td>\n",
       "      <td>2.463449</td>\n",
       "      <td>5.414320</td>\n",
       "    </tr>\n",
       "    <tr>\n",
       "      <th>SZ</th>\n",
       "      <td>75.709892</td>\n",
       "      <td>74.147392</td>\n",
       "      <td>1.652202</td>\n",
       "      <td>3.962774</td>\n",
       "    </tr>\n",
       "    <tr>\n",
       "      <th>BIP</th>\n",
       "      <td>79.012097</td>\n",
       "      <td>84.758065</td>\n",
       "      <td>3.023118</td>\n",
       "      <td>3.931710</td>\n",
       "    </tr>\n",
       "  </tbody>\n",
       "</table>\n",
       "</div>"
      ],
      "text/plain": [
       "                   ST        MTL     ST_std    MTL_std\n",
       "DUP22q11_2  41.388889  47.222222  13.391079  24.689429\n",
       "DEL15q11_2  54.378630  57.735192   4.057667   8.362006\n",
       "DUP1q21_1   53.214286  52.500000  22.314999   7.533937\n",
       "DEL1q21_1   70.000000  46.000000  14.142136  23.021729\n",
       "DUP16p11_2  64.285714  58.571429   4.517540   9.313146\n",
       "DEL16p11_2  73.461538  64.230769   7.730674   8.113470\n",
       "DEL22q11_2  84.967320  74.313725   8.571815   9.154994\n",
       "ADHD        55.206897  59.197901   2.576093   3.358597\n",
       "ASD         61.085219  59.389846   2.463449   5.414320\n",
       "SZ          75.709892  74.147392   1.652202   3.962774\n",
       "BIP         79.012097  84.758065   3.023118   3.931710"
      ]
     },
     "execution_count": 54,
     "metadata": {},
     "output_type": "execute_result"
    }
   ],
   "source": [
    "# Connectomes\n",
    "df_conn = pd.concat([st_acc_conn,mtl_acc_conn,st_acc_conn_std,mtl_acc_conn_std],axis=1)\n",
    "df_conn.columns = ['ST','MTL','ST_std','MTL_std']\n",
    "df_conn"
   ]
  },
  {
   "cell_type": "code",
   "execution_count": 55,
   "metadata": {},
   "outputs": [
    {
     "data": {
      "text/plain": [
       "ST         64.791862\n",
       "MTL        61.642413\n",
       "ST_std      7.676434\n",
       "MTL_std     9.714192\n",
       "dtype: float64"
      ]
     },
     "execution_count": 55,
     "metadata": {},
     "output_type": "execute_result"
    }
   ],
   "source": [
    "df_conn.mean()"
   ]
  },
  {
   "attachments": {},
   "cell_type": "markdown",
   "metadata": {},
   "source": [
    "# Plots"
   ]
  },
  {
   "cell_type": "code",
   "execution_count": 56,
   "metadata": {},
   "outputs": [
    {
     "data": {
      "image/png": "[encoded data removed]",
      "text/plain": [
       "<Figure size 600x400 with 11 Axes>"
      ]
     },
     "metadata": {},
     "output_type": "display_data"
    }
   ],
   "source": [
    "###############\n",
    "# CONNECTOMES #\n",
    "###############\n",
    "title = 'Single vs Multi-Task - MLPconn'\n",
    "fig,ax = plt.subplots(1,len(cases),figsize=(6,4),sharey=True,sharex=True)\n",
    "plt.yticks([40,50,60,70,80,90])\n",
    "sns.set_style('whitegrid')\n",
    "colors = ['black','darkorchid','red','orange','dodgerblue','forestgreen']\n",
    "\n",
    "for j,case in enumerate(cases):\n",
    "    st_acc = df_conn.loc[case]['ST']\n",
    "    mtl_acc = df_conn.loc[case]['MTL']\n",
    "    if st_acc > mtl_acc:\n",
    "        mfc = 'white'\n",
    "        ls =''\n",
    "    else:\n",
    "        mfc = colors[0]\n",
    "        ls = '-'\n",
    "\n",
    "    ax[j].plot(5,mtl_acc,marker='o',color=colors[0],ms=4,markerfacecolor=mfc)\n",
    "    ax[j].plot(5,st_acc,marker='o',color=colors[0],ms=4,markerfacecolor=mfc)\n",
    "    ax[j].plot((5,5),(st_acc,mtl_acc),color=colors[0],ls=ls)\n",
    "    ax[j].set_xticklabels([])\n",
    "    ax[j].set_xticks([])\n",
    "    ax[j].set_xlabel(labels[j],rotation=270)\n",
    "\n",
    "    lines = ax[j].get_ygridlines()\n",
    "    b = lines[1]\n",
    "    b.set_color('black')\n",
    "    b.set_linewidth(1.15)\n",
    "    b.set_linestyle('--')\n",
    "\n",
    "ax[0].set_ylabel('Accuracy')\n",
    "plt.suptitle(title)\n",
    "plt.ylim(35,95)\n",
    "plt.tight_layout(pad=0.5)\n",
    "plt.subplots_adjust(wspace=0)\n",
    "#plt.savefig(os.path.join('/Users/harveyaa/Documents/masters/neuropsych_mtl/MTL/results_paper/mtl/','figures/st_vs_mtl.png'),dpi=300)"
   ]
  },
  {
   "cell_type": "code",
   "execution_count": 57,
   "metadata": {},
   "outputs": [
    {
     "data": {
      "image/png": "[encoded data removed]",
      "text/plain": [
       "<Figure size 800x400 with 11 Axes>"
      ]
     },
     "metadata": {},
     "output_type": "display_data"
    }
   ],
   "source": [
    "###############\n",
    "# CONNECTOMES #\n",
    "###############\n",
    "title = 'Single vs Multi-Task - MLPconn'\n",
    "fig,ax = plt.subplots(1,len(cases),figsize=(8,4),sharey=True,sharex=True)\n",
    "plt.yticks([40,50,60,70,80,90])\n",
    "sns.set_style('whitegrid')\n",
    "colors = ['black','darkorchid','red','orange','dodgerblue','forestgreen']\n",
    "\n",
    "for j,case in enumerate(cases):\n",
    "    st_acc = df_conn.loc[case]['ST']\n",
    "    mtl_acc = df_conn.loc[case]['MTL']\n",
    "    if st_acc > mtl_acc:\n",
    "        mfc = 'white'\n",
    "        ls =''\n",
    "    else:\n",
    "        mfc = colors[0]\n",
    "        ls = '-'\n",
    "\n",
    "    ax[j].plot(5,mtl_acc,marker='o',color=colors[0],ms=4,markerfacecolor=mfc)\n",
    "    ax[j].plot(5,st_acc,marker='o',color=colors[0],ms=4,markerfacecolor=mfc)\n",
    "    ax[j].plot((5,5),(st_acc,mtl_acc),color=colors[0],ls=ls)\n",
    "    ax[j].set_xticklabels([])\n",
    "    ax[j].set_xticks([])\n",
    "    ax[j].set_xlabel(case_labels[j],rotation=270)\n",
    "\n",
    "    lines = ax[j].get_ygridlines()\n",
    "    b = lines[1]\n",
    "    b.set_color('black')\n",
    "    b.set_linewidth(1.15)\n",
    "    b.set_linestyle('--')\n",
    "\n",
    "ax[0].set_ylabel('Accuracy')\n",
    "#plt.suptitle(title)\n",
    "plt.ylim(30,90)\n",
    "plt.tight_layout(pad=0.5)\n",
    "plt.subplots_adjust(wspace=0)\n",
    "plt.savefig(os.path.join('/Users/harveyaa/Documents/masters/neuropsych_mtl/MTL/results_paper/mtl/','figures/st_vs_mtl.png'),dpi=300)"
   ]
  },
  {
   "cell_type": "code",
   "execution_count": null,
   "metadata": {},
   "outputs": [],
   "source": []
  }
 ],
 "metadata": {
  "kernelspec": {
   "display_name": "Python 3.9.15 ('fmri')",
   "language": "python",
   "name": "python3"
  },
  "language_info": {
   "codemirror_mode": {
    "name": "ipython",
    "version": 3
   },
   "file_extension": ".py",
   "mimetype": "text/x-python",
   "name": "python",
   "nbconvert_exporter": "python",
   "pygments_lexer": "ipython3",
   "version": "3.9.15"
  },
  "orig_nbformat": 4,
  "vscode": {
   "interpreter": {
    "hash": "7ea07d7e26f64274b859969024e9bc122a0aaa5b386426249452447396636cf1"
   }
  }
 },
 "nbformat": 4,
 "nbformat_minor": 2
}
