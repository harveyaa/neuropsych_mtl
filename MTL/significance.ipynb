{
 "cells": [
  {
   "cell_type": "code",
   "execution_count": 1,
   "metadata": {},
   "outputs": [],
   "source": [
    "import os\n",
    "import pandas as pd\n",
    "import numpy as np\n",
    "\n",
    "from scipy.stats import wilcoxon"
   ]
  },
  {
   "cell_type": "code",
   "execution_count": 20,
   "metadata": {},
   "outputs": [],
   "source": [
    "p_cond_single = './results_paper/baseline/mlp'\n",
    "p_cond_mtl = './results_paper/mtl/mlp'\n",
    "p_sex = './results_paper/sex/'\n",
    "p_age = './results_paper/age/'\n",
    "\n",
    "cases = ['ASD',\n",
    "        'SZ',\n",
    "        'BIP',\n",
    "        'ADHD',\n",
    "        'DEL15q11_2',\n",
    "        'DEL22q11_2',\n",
    "        'DUP22q11_2',\n",
    "        'DEL16p11_2',\n",
    "        'DUP16p11_2',\n",
    "        'DEL1q21_1',\n",
    "        'DUP1q21_1']\n",
    "\n",
    "sites_sex = ['SZ3',\n",
    "        'SZ6',\n",
    "        'Svip2',\n",
    "        'ADHD6',\n",
    "        'HSJ',\n",
    "        'UCLA_CB',\n",
    "        'Svip1',\n",
    "        'UKBB11026',\n",
    "        'UKBB11027',\n",
    "        'UKBB11025',\n",
    "        'ADHD1',\n",
    "        'ADHD3',\n",
    "        'ADHD5',\n",
    "        'UCLA_DS1']\n",
    "\n",
    "sites_age = ['USM', # why this missing?\n",
    "        'SZ3',\n",
    "        'SZ6',\n",
    "        'Svip2',\n",
    "        'ADHD6',\n",
    "        'HSJ',\n",
    "        'SZ2',\n",
    "        'SZ1',\n",
    "        'UCLA_CB',\n",
    "        'Svip1',\n",
    "        'ADHD1',\n",
    "        'ADHD3',\n",
    "        'NYU',\n",
    "        'ADHD5',\n",
    "        'UCLA_DS1',\n",
    "        'UKBB11026',\n",
    "        'UKBB11027',\n",
    "        'UKBB11025']"
   ]
  },
  {
   "attachments": {},
   "cell_type": "markdown",
   "metadata": {},
   "source": [
    "# Load data\n",
    "## Conditions"
   ]
  },
  {
   "cell_type": "code",
   "execution_count": 21,
   "metadata": {},
   "outputs": [],
   "source": [
    "# Single Task\n",
    "st_data_conn = []\n",
    "for case in cases:\n",
    "    folds_conn = []\n",
    "    for fold in range(5):\n",
    "        # Connectomes\n",
    "        p_parent = os.path.join(p_cond_single, f\"{case}/fold_{fold}\")\n",
    "        file = [f for f in os.listdir(p_parent) if f[-4:]=='.csv'][0]\n",
    "        folds_conn.append(pd.read_csv(os.path.join(p_parent,file),index_col=0,header=[0,1])[case].loc[99]['Accuracy/test'])\n",
    "\n",
    "    st_data_conn.append(folds_conn)\n",
    "st_data_conn = dict(zip(cases,st_data_conn))\n",
    "df_st_cond = pd.DataFrame(st_data_conn).transpose()\n",
    "\n",
    "# Multi-task\n",
    "mtl_data_conn = []\n",
    "for fold in range(5):\n",
    "    # Connectomes\n",
    "    p_parent = os.path.join(p_cond_mtl, f\"fold_{fold}\")\n",
    "    file = [f for f in os.listdir(p_parent) if f[-4:]=='.csv'][0]\n",
    "    ddd = pd.read_csv(os.path.join(p_parent,file),index_col=0,header=[0,1]).loc[99]\n",
    "    mtl_data_conn.append(ddd.reset_index()[ddd.reset_index()['level_1']=='Accuracy/test'].set_index('level_0')[99])\n",
    "df_mtl_cond = pd.concat(mtl_data_conn,axis=1, keys= [0,1,2,3,4])\n"
   ]
  },
  {
   "attachments": {},
   "cell_type": "markdown",
   "metadata": {},
   "source": [
    "## Sex"
   ]
  },
  {
   "cell_type": "code",
   "execution_count": 24,
   "metadata": {},
   "outputs": [],
   "source": [
    "# Single Task\n",
    "st_data_sex = []\n",
    "for site in sites_sex:\n",
    "    folds_conn = []\n",
    "    for fold in range(5):\n",
    "        # Connectomes\n",
    "        p_parent = os.path.join(p_sex, f\"{site}/fold_{fold}\")\n",
    "        file = [f for f in os.listdir(p_parent) if f[-4:]=='.csv'][0]\n",
    "        folds_conn.append(pd.read_csv(os.path.join(p_parent,file),index_col=0,header=[0,1])[site].loc[99]['Accuracy/test'])\n",
    "\n",
    "    st_data_sex.append(folds_conn)\n",
    "st_data_sex = dict(zip(sites_sex,st_data_sex))\n",
    "df_st_sex = pd.DataFrame(st_data_sex).transpose()\n",
    "\n",
    "# Multi-task\n",
    "mtl_data_sex = []\n",
    "for fold in range(5):\n",
    "    # Connectomes\n",
    "    p_parent = os.path.join(p_sex, f\"all/fold_{fold}\")\n",
    "    file = [f for f in os.listdir(p_parent) if f[-4:]=='.csv'][0]\n",
    "    ddd = pd.read_csv(os.path.join(p_parent,file),index_col=0,header=[0,1]).loc[99]\n",
    "    mtl_data_sex.append(ddd.reset_index()[ddd.reset_index()['level_1']=='Accuracy/test'].set_index('level_0')[99])\n",
    "df_mtl_sex = pd.concat(mtl_data_sex,axis=1, keys= [0,1,2,3,4])\n"
   ]
  },
  {
   "attachments": {},
   "cell_type": "markdown",
   "metadata": {},
   "source": [
    "## Age"
   ]
  },
  {
   "cell_type": "code",
   "execution_count": 25,
   "metadata": {},
   "outputs": [],
   "source": [
    "# Single Task\n",
    "st_data_age = []\n",
    "for site in sites_age:\n",
    "    folds_conn = []\n",
    "    for fold in range(5):\n",
    "        # Connectomes\n",
    "        p_parent = os.path.join(p_age, f\"{site}/fold_{fold}\")\n",
    "        file = [f for f in os.listdir(p_parent) if f[-4:]=='.csv'][0]\n",
    "        folds_conn.append(pd.read_csv(os.path.join(p_parent,file),index_col=0,header=[0,1])[site].loc[99]['Loss/test'])\n",
    "\n",
    "    st_data_age.append(folds_conn)\n",
    "st_data_age = dict(zip(sites_age,st_data_age))\n",
    "df_st_age = pd.DataFrame(st_data_age).transpose()\n",
    "\n",
    "# Multi-task\n",
    "mtl_data_age = []\n",
    "for fold in range(5):\n",
    "    # Connectomes\n",
    "    p_parent = os.path.join(p_age, f\"all/fold_{fold}\")\n",
    "    file = [f for f in os.listdir(p_parent) if f[-4:]=='.csv'][0]\n",
    "    ddd = pd.read_csv(os.path.join(p_parent,file),index_col=0,header=[0,1]).loc[99]\n",
    "    mtl_data_age.append(ddd.reset_index()[ddd.reset_index()['level_1']=='Loss/test'].set_index('level_0')[99])\n",
    "df_mtl_age = pd.concat(mtl_data_age,axis=1, keys= [0,1,2,3,4])\n"
   ]
  },
  {
   "attachments": {},
   "cell_type": "markdown",
   "metadata": {},
   "source": [
    "# Wilcoxon signed rank test"
   ]
  },
  {
   "cell_type": "code",
   "execution_count": 27,
   "metadata": {},
   "outputs": [
    {
     "data": {
      "text/plain": [
       "WilcoxonResult(statistic=390.5, pvalue=0.9668319594203625)"
      ]
     },
     "execution_count": 27,
     "metadata": {},
     "output_type": "execute_result"
    }
   ],
   "source": [
    "mtl_cond_flat = pd.concat([df_mtl_cond[0],df_mtl_cond[1],df_mtl_cond[2],df_mtl_cond[3],df_mtl_cond[4]])\n",
    "st_cond_flat = pd.concat([df_st_cond[0],df_st_cond[1],df_st_cond[2],df_st_cond[3],df_st_cond[4]])\n",
    "wilcoxon(mtl_cond_flat - st_cond_flat, alternative='greater')"
   ]
  },
  {
   "cell_type": "code",
   "execution_count": 28,
   "metadata": {},
   "outputs": [
    {
     "data": {
      "text/plain": [
       "WilcoxonResult(statistic=28740.0, pvalue=7.011120300088531e-06)"
      ]
     },
     "execution_count": 28,
     "metadata": {},
     "output_type": "execute_result"
    }
   ],
   "source": [
    "mtl_sex_flat = pd.concat([df_mtl_sex[0],df_mtl_sex[1],df_mtl_sex[2],df_mtl_sex[3],df_mtl_sex[4]])\n",
    "st_sex_flat = pd.concat([df_st_sex[0],df_st_sex[1],df_st_sex[2],df_st_sex[3],df_st_sex[4]])\n",
    "wilcoxon(mtl_sex_flat - st_sex_flat, alternative='greater')"
   ]
  },
  {
   "cell_type": "code",
   "execution_count": 17,
   "metadata": {},
   "outputs": [
    {
     "data": {
      "text/plain": [
       "WilcoxonResult(statistic=28291.0, pvalue=2.1113370683412383e-16)"
      ]
     },
     "execution_count": 17,
     "metadata": {},
     "output_type": "execute_result"
    }
   ],
   "source": [
    "mtl_age_flat = pd.concat([df_mtl_age[0],df_mtl_age[1],df_mtl_age[2],df_mtl_age[3],df_mtl_age[4]])\n",
    "st_age_flat = pd.concat([df_st_age[0],df_st_age[1],df_st_age[2],df_st_age[3],df_st_age[4]])\n",
    "wilcoxon(mtl_age_flat - st_age_flat, alternative='less')"
   ]
  },
  {
   "cell_type": "code",
   "execution_count": null,
   "metadata": {},
   "outputs": [],
   "source": []
  }
 ],
 "metadata": {
  "kernelspec": {
   "display_name": "fmri",
   "language": "python",
   "name": "python3"
  },
  "language_info": {
   "codemirror_mode": {
    "name": "ipython",
    "version": 3
   },
   "file_extension": ".py",
   "mimetype": "text/x-python",
   "name": "python",
   "nbconvert_exporter": "python",
   "pygments_lexer": "ipython3",
   "version": "3.9.15"
  },
  "orig_nbformat": 4
 },
 "nbformat": 4,
 "nbformat_minor": 2
}
