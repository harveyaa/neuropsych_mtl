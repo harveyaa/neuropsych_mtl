{
 "cells": [
  {
   "cell_type": "code",
   "execution_count": 82,
   "metadata": {},
   "outputs": [],
   "source": [
    "import os\n",
    "import pandas as pd\n",
    "import numpy as np\n",
    "import matplotlib.pyplot as plt\n",
    "import seaborn as sns"
   ]
  },
  {
   "cell_type": "code",
   "execution_count": 83,
   "metadata": {},
   "outputs": [],
   "source": [
    "cases = ['ASD',\n",
    "        'SZ',\n",
    "        'BIP',\n",
    "        'DEL22q11_2',\n",
    "        'DUP22q11_2',\n",
    "        'DEL16p11_2',\n",
    "        'DUP16p11_2',\n",
    "        'DEL1q21_1',\n",
    "        'DUP1q21_1']\n",
    "\n",
    "p_bal = './results/condition/balanced/'"
   ]
  },
  {
   "cell_type": "markdown",
   "metadata": {},
   "source": [
    "# Load Data"
   ]
  },
  {
   "cell_type": "code",
   "execution_count": 84,
   "metadata": {},
   "outputs": [],
   "source": [
    "# Single Task\n",
    "st_data_conn = []\n",
    "st_data_conf = []\n",
    "for case in cases:\n",
    "    folds_conn = []\n",
    "    folds_conf = []\n",
    "    for fold in range(5):\n",
    "        # Connectomes\n",
    "        p_parent = os.path.join(p_bal, f\"connectomes/{case}/fold_{fold}\")\n",
    "        file = [f for f in os.listdir(p_parent) if f[-4:]=='.csv'][0]\n",
    "        folds_conn.append(pd.read_csv(os.path.join(p_parent,file),index_col=0,header=[0,1])[case])\n",
    "\n",
    "        # Confounds\n",
    "        p_parent = os.path.join(p_bal, f\"confounds/{case}/fold_{fold}\")\n",
    "        file = [f for f in os.listdir(p_parent) if f[-4:]=='.csv'][0]\n",
    "        folds_conf.append(pd.read_csv(os.path.join(p_parent,file),index_col=0,header=[0,1])[case])\n",
    "    st_data_conn.append(folds_conn)\n",
    "    st_data_conf.append(folds_conf)\n",
    "\n",
    "st_data_conn = dict(zip(cases,st_data_conn))\n",
    "st_data_conf = dict(zip(cases,st_data_conf))"
   ]
  },
  {
   "cell_type": "code",
   "execution_count": 85,
   "metadata": {},
   "outputs": [],
   "source": [
    "# Multi-task\n",
    "mtl_data_conn = []\n",
    "mtl_data_conf = []\n",
    "for fold in range(5):\n",
    "    # Connectomes\n",
    "    p_parent = os.path.join(p_bal, f\"connectomes/all/fold_{fold}\")\n",
    "    file = [f for f in os.listdir(p_parent) if f[-4:]=='.csv'][0]\n",
    "    mtl_data_conn.append(pd.read_csv(os.path.join(p_parent,file),index_col=0,header=[0,1]))\n",
    "\n",
    "    # Confounds\n",
    "    p_parent = os.path.join(p_bal, f\"confounds/all/fold_{fold}\")\n",
    "    file = [f for f in os.listdir(p_parent) if f[-4:]=='.csv'][0]\n",
    "    mtl_data_conf.append(pd.read_csv(os.path.join(p_parent,file),index_col=0,header=[0,1]))\n"
   ]
  },
  {
   "cell_type": "markdown",
   "metadata": {},
   "source": [
    "# Get Accuracy"
   ]
  },
  {
   "cell_type": "code",
   "execution_count": 86,
   "metadata": {},
   "outputs": [],
   "source": [
    "# Single Task\n",
    "st_acc_conn = []\n",
    "st_acc_conf = []\n",
    "st_acc_conn_var = []\n",
    "st_acc_conf_var = []\n",
    "for case in cases:\n",
    "    # Connectomes\n",
    "    vals = [st_data_conn[case][fold]['Accuracy/test'].iloc[-1] for fold in range(5)]\n",
    "    st_acc_conn.append(np.mean(vals))\n",
    "    st_acc_conn_var.append(np.var(vals))\n",
    "\n",
    "    # Confounds\n",
    "    vals = [st_data_conf[case][fold]['Accuracy/test'].iloc[-1] for fold in range(5)]\n",
    "    st_acc_conf.append(np.mean(vals))\n",
    "    st_acc_conf_var.append(np.var(vals))\n",
    "\n",
    "st_acc_conn = pd.Series(st_acc_conn,index=cases)\n",
    "st_acc_conf = pd.Series(st_acc_conf,index=cases)\n",
    "st_acc_conn_var = pd.Series(st_acc_conn_var,index=cases)\n",
    "st_acc_conf_var = pd.Series(st_acc_conf_var,index=cases)"
   ]
  },
  {
   "cell_type": "code",
   "execution_count": 87,
   "metadata": {},
   "outputs": [],
   "source": [
    "# Multi-task\n",
    "mtl_acc_conn = []\n",
    "mtl_acc_conf = []\n",
    "for fold in range(5):\n",
    "    # Connectomes\n",
    "    df = mtl_data_conn[fold].transpose().reset_index()\n",
    "    df = df[df['level_1']=='Accuracy/test'].set_index('level_0')[99]\n",
    "    mtl_acc_conn.append(df)\n",
    "\n",
    "    # Confounds\n",
    "    df = mtl_data_conf[fold].transpose().reset_index()\n",
    "    df = df[df['level_1']=='Accuracy/test'].set_index('level_0')[99]\n",
    "    mtl_acc_conf.append(df)\n",
    "    \n",
    "mtl_acc_conn_var = pd.concat(mtl_acc_conn,axis=1).var(axis=1)\n",
    "mtl_acc_conf_var = pd.concat(mtl_acc_conf,axis=1).var(axis=1)\n",
    "mtl_acc_conn = pd.concat(mtl_acc_conn,axis=1).mean(axis=1)\n",
    "mtl_acc_conf = pd.concat(mtl_acc_conf,axis=1).mean(axis=1)"
   ]
  },
  {
   "cell_type": "markdown",
   "metadata": {},
   "source": [
    "# Tables"
   ]
  },
  {
   "cell_type": "code",
   "execution_count": 88,
   "metadata": {},
   "outputs": [
    {
     "data": {
      "text/html": [
       "<div>\n",
       "<style scoped>\n",
       "    .dataframe tbody tr th:only-of-type {\n",
       "        vertical-align: middle;\n",
       "    }\n",
       "\n",
       "    .dataframe tbody tr th {\n",
       "        vertical-align: top;\n",
       "    }\n",
       "\n",
       "    .dataframe thead th {\n",
       "        text-align: right;\n",
       "    }\n",
       "</style>\n",
       "<table border=\"1\" class=\"dataframe\">\n",
       "  <thead>\n",
       "    <tr style=\"text-align: right;\">\n",
       "      <th></th>\n",
       "      <th>ST</th>\n",
       "      <th>MTL</th>\n",
       "      <th>ST_var</th>\n",
       "      <th>MTL_var</th>\n",
       "    </tr>\n",
       "  </thead>\n",
       "  <tbody>\n",
       "    <tr>\n",
       "      <th>ASD</th>\n",
       "      <td>63.512977</td>\n",
       "      <td>59.752824</td>\n",
       "      <td>1.916503</td>\n",
       "      <td>3.123481</td>\n",
       "    </tr>\n",
       "    <tr>\n",
       "      <th>SZ</th>\n",
       "      <td>72.857143</td>\n",
       "      <td>72.380952</td>\n",
       "      <td>13.706223</td>\n",
       "      <td>7.684555</td>\n",
       "    </tr>\n",
       "    <tr>\n",
       "      <th>BIP</th>\n",
       "      <td>63.532499</td>\n",
       "      <td>73.582235</td>\n",
       "      <td>7.558024</td>\n",
       "      <td>34.438183</td>\n",
       "    </tr>\n",
       "    <tr>\n",
       "      <th>DEL22q11_2</th>\n",
       "      <td>80.809524</td>\n",
       "      <td>71.238095</td>\n",
       "      <td>37.950113</td>\n",
       "      <td>57.437642</td>\n",
       "    </tr>\n",
       "    <tr>\n",
       "      <th>DUP22q11_2</th>\n",
       "      <td>61.527778</td>\n",
       "      <td>58.055556</td>\n",
       "      <td>42.361111</td>\n",
       "      <td>104.552469</td>\n",
       "    </tr>\n",
       "    <tr>\n",
       "      <th>DEL16p11_2</th>\n",
       "      <td>69.004744</td>\n",
       "      <td>66.383872</td>\n",
       "      <td>16.757859</td>\n",
       "      <td>91.186978</td>\n",
       "    </tr>\n",
       "    <tr>\n",
       "      <th>DUP16p11_2</th>\n",
       "      <td>67.555556</td>\n",
       "      <td>53.111111</td>\n",
       "      <td>292.049383</td>\n",
       "      <td>333.117284</td>\n",
       "    </tr>\n",
       "    <tr>\n",
       "      <th>DEL1q21_1</th>\n",
       "      <td>68.169935</td>\n",
       "      <td>56.797386</td>\n",
       "      <td>81.831774</td>\n",
       "      <td>71.895425</td>\n",
       "    </tr>\n",
       "    <tr>\n",
       "      <th>DUP1q21_1</th>\n",
       "      <td>69.047619</td>\n",
       "      <td>48.809524</td>\n",
       "      <td>29.478458</td>\n",
       "      <td>66.609977</td>\n",
       "    </tr>\n",
       "  </tbody>\n",
       "</table>\n",
       "</div>"
      ],
      "text/plain": [
       "                   ST        MTL      ST_var     MTL_var\n",
       "ASD         63.512977  59.752824    1.916503    3.123481\n",
       "SZ          72.857143  72.380952   13.706223    7.684555\n",
       "BIP         63.532499  73.582235    7.558024   34.438183\n",
       "DEL22q11_2  80.809524  71.238095   37.950113   57.437642\n",
       "DUP22q11_2  61.527778  58.055556   42.361111  104.552469\n",
       "DEL16p11_2  69.004744  66.383872   16.757859   91.186978\n",
       "DUP16p11_2  67.555556  53.111111  292.049383  333.117284\n",
       "DEL1q21_1   68.169935  56.797386   81.831774   71.895425\n",
       "DUP1q21_1   69.047619  48.809524   29.478458   66.609977"
      ]
     },
     "execution_count": 88,
     "metadata": {},
     "output_type": "execute_result"
    }
   ],
   "source": [
    "# Connectomes\n",
    "df_conn = pd.concat([st_acc_conn,mtl_acc_conn,st_acc_conn_var,mtl_acc_conn_var],axis=1)\n",
    "df_conn.columns = ['ST','MTL','ST_var','MTL_var']\n",
    "df_conn"
   ]
  },
  {
   "cell_type": "code",
   "execution_count": 91,
   "metadata": {},
   "outputs": [
    {
     "data": {
      "text/plain": [
       "ST         68.446419\n",
       "MTL        62.234617\n",
       "ST_var     58.178828\n",
       "MTL_var    85.560666\n",
       "dtype: float64"
      ]
     },
     "execution_count": 91,
     "metadata": {},
     "output_type": "execute_result"
    }
   ],
   "source": [
    "df_conn.mean()"
   ]
  },
  {
   "cell_type": "code",
   "execution_count": 89,
   "metadata": {},
   "outputs": [
    {
     "data": {
      "text/html": [
       "<div>\n",
       "<style scoped>\n",
       "    .dataframe tbody tr th:only-of-type {\n",
       "        vertical-align: middle;\n",
       "    }\n",
       "\n",
       "    .dataframe tbody tr th {\n",
       "        vertical-align: top;\n",
       "    }\n",
       "\n",
       "    .dataframe thead th {\n",
       "        text-align: right;\n",
       "    }\n",
       "</style>\n",
       "<table border=\"1\" class=\"dataframe\">\n",
       "  <thead>\n",
       "    <tr style=\"text-align: right;\">\n",
       "      <th></th>\n",
       "      <th>ST</th>\n",
       "      <th>MTL</th>\n",
       "      <th>ST_var</th>\n",
       "      <th>MTL_var</th>\n",
       "    </tr>\n",
       "  </thead>\n",
       "  <tbody>\n",
       "    <tr>\n",
       "      <th>ASD</th>\n",
       "      <td>49.571069</td>\n",
       "      <td>49.879285</td>\n",
       "      <td>1.611679</td>\n",
       "      <td>0.664726</td>\n",
       "    </tr>\n",
       "    <tr>\n",
       "      <th>SZ</th>\n",
       "      <td>50.793651</td>\n",
       "      <td>52.222222</td>\n",
       "      <td>4.535147</td>\n",
       "      <td>9.889141</td>\n",
       "    </tr>\n",
       "    <tr>\n",
       "      <th>BIP</th>\n",
       "      <td>49.083773</td>\n",
       "      <td>52.417106</td>\n",
       "      <td>10.494474</td>\n",
       "      <td>53.160730</td>\n",
       "    </tr>\n",
       "    <tr>\n",
       "      <th>DEL22q11_2</th>\n",
       "      <td>51.285714</td>\n",
       "      <td>56.142857</td>\n",
       "      <td>7.564626</td>\n",
       "      <td>31.530612</td>\n",
       "    </tr>\n",
       "    <tr>\n",
       "      <th>DUP22q11_2</th>\n",
       "      <td>50.000000</td>\n",
       "      <td>46.666667</td>\n",
       "      <td>0.000000</td>\n",
       "      <td>40.123457</td>\n",
       "    </tr>\n",
       "    <tr>\n",
       "      <th>DEL16p11_2</th>\n",
       "      <td>53.256705</td>\n",
       "      <td>55.089856</td>\n",
       "      <td>12.577293</td>\n",
       "      <td>50.640043</td>\n",
       "    </tr>\n",
       "    <tr>\n",
       "      <th>DUP16p11_2</th>\n",
       "      <td>51.111111</td>\n",
       "      <td>46.111111</td>\n",
       "      <td>4.938272</td>\n",
       "      <td>145.061728</td>\n",
       "    </tr>\n",
       "    <tr>\n",
       "      <th>DEL1q21_1</th>\n",
       "      <td>47.712418</td>\n",
       "      <td>46.535948</td>\n",
       "      <td>18.240848</td>\n",
       "      <td>76.071169</td>\n",
       "    </tr>\n",
       "    <tr>\n",
       "      <th>DUP1q21_1</th>\n",
       "      <td>54.285714</td>\n",
       "      <td>48.571429</td>\n",
       "      <td>73.469388</td>\n",
       "      <td>10.204082</td>\n",
       "    </tr>\n",
       "  </tbody>\n",
       "</table>\n",
       "</div>"
      ],
      "text/plain": [
       "                   ST        MTL     ST_var     MTL_var\n",
       "ASD         49.571069  49.879285   1.611679    0.664726\n",
       "SZ          50.793651  52.222222   4.535147    9.889141\n",
       "BIP         49.083773  52.417106  10.494474   53.160730\n",
       "DEL22q11_2  51.285714  56.142857   7.564626   31.530612\n",
       "DUP22q11_2  50.000000  46.666667   0.000000   40.123457\n",
       "DEL16p11_2  53.256705  55.089856  12.577293   50.640043\n",
       "DUP16p11_2  51.111111  46.111111   4.938272  145.061728\n",
       "DEL1q21_1   47.712418  46.535948  18.240848   76.071169\n",
       "DUP1q21_1   54.285714  48.571429  73.469388   10.204082"
      ]
     },
     "execution_count": 89,
     "metadata": {},
     "output_type": "execute_result"
    }
   ],
   "source": [
    "# Confounds\n",
    "df_conf = pd.concat([st_acc_conf,mtl_acc_conf,st_acc_conf_var,mtl_acc_conf_var],axis=1)\n",
    "df_conf.columns = ['ST','MTL','ST_var','MTL_var']\n",
    "df_conf"
   ]
  },
  {
   "cell_type": "code",
   "execution_count": 90,
   "metadata": {},
   "outputs": [
    {
     "data": {
      "text/plain": [
       "ST         50.788906\n",
       "MTL        50.404053\n",
       "ST_var     14.825747\n",
       "MTL_var    46.371743\n",
       "dtype: float64"
      ]
     },
     "execution_count": 90,
     "metadata": {},
     "output_type": "execute_result"
    }
   ],
   "source": [
    "df_conf.mean()"
   ]
  },
  {
   "cell_type": "markdown",
   "metadata": {},
   "source": [
    "# Plots"
   ]
  },
  {
   "cell_type": "code",
   "execution_count": 72,
   "metadata": {},
   "outputs": [
    {
     "data": {
      "image/png": "[encoded data removed]",
      "text/plain": [
       "<Figure size 600x400 with 9 Axes>"
      ]
     },
     "metadata": {},
     "output_type": "display_data"
    }
   ],
   "source": [
    "###############\n",
    "# CONNECTOMES #\n",
    "###############\n",
    "title = 'Single Task vs Multi-Task - Connectomes - Balanced Test Sets'\n",
    "fig,ax = plt.subplots(1,len(cases),figsize=(6,4),sharey=True,sharex=True)\n",
    "plt.yticks([40,50,60,70,80,90])\n",
    "sns.set_style('whitegrid')\n",
    "colors = ['black','darkorchid','red','orange','dodgerblue','forestgreen']\n",
    "\n",
    "for j,case in enumerate(cases):\n",
    "    st_acc = df_conn.loc[case]['ST']\n",
    "    mtl_acc = df_conn.loc[case]['MTL']\n",
    "    if st_acc > mtl_acc:\n",
    "        mfc = 'white'\n",
    "        ls =''\n",
    "    else:\n",
    "        mfc = colors[0]\n",
    "        ls = '-'\n",
    "\n",
    "    ax[j].plot(5,mtl_acc,marker='o',color=colors[0],ms=4,markerfacecolor=mfc)\n",
    "    ax[j].plot(5,st_acc,marker='o',color=colors[0],ms=4,markerfacecolor=mfc)\n",
    "    ax[j].plot((5,5),(st_acc,mtl_acc),color=colors[0],ls=ls)\n",
    "    ax[j].set_xticklabels([])\n",
    "    ax[j].set_xticks([])\n",
    "    ax[j].set_xlabel(cases[j],rotation=270)\n",
    "\n",
    "    lines = ax[j].get_ygridlines()\n",
    "    b = lines[1]\n",
    "    b.set_color('black')\n",
    "    b.set_linewidth(1.15)\n",
    "    b.set_linestyle('--')\n",
    "\n",
    "ax[0].set_ylabel('Accuracy')\n",
    "plt.suptitle(title)\n",
    "plt.ylim(40,90)\n",
    "plt.tight_layout()\n",
    "plt.subplots_adjust(wspace=0)\n",
    "plt.savefig(os.path.join(p_bal,'connectomes/figures/st_vs_mtl.png'),dpi=300)"
   ]
  },
  {
   "cell_type": "code",
   "execution_count": null,
   "metadata": {},
   "outputs": [],
   "source": []
  }
 ],
 "metadata": {
  "kernelspec": {
   "display_name": "Python 3.9.15 ('fmri')",
   "language": "python",
   "name": "python3"
  },
  "language_info": {
   "codemirror_mode": {
    "name": "ipython",
    "version": 3
   },
   "file_extension": ".py",
   "mimetype": "text/x-python",
   "name": "python",
   "nbconvert_exporter": "python",
   "pygments_lexer": "ipython3",
   "version": "3.9.15"
  },
  "orig_nbformat": 4,
  "vscode": {
   "interpreter": {
    "hash": "7ea07d7e26f64274b859969024e9bc122a0aaa5b386426249452447396636cf1"
   }
  }
 },
 "nbformat": 4,
 "nbformat_minor": 2
}
