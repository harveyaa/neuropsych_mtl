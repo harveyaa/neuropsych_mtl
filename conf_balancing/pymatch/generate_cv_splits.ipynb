{
 "cells": [
  {
   "cell_type": "code",
   "execution_count": 1,
   "metadata": {},
   "outputs": [],
   "source": [
    "import os\n",
    "import sys\n",
    "import tempfile\n",
    "import numpy as np\n",
    "import pandas as pd\n",
    "\n",
    "import matplotlib.pyplot as plt\n",
    "import seaborn as sns\n",
    "\n",
    "from pymatch.Matcher import Matcher\n",
    "\n",
    "from sklearn.svm import SVC\n",
    "from sklearn.metrics import accuracy_score"
   ]
  },
  {
   "cell_type": "code",
   "execution_count": 2,
   "metadata": {},
   "outputs": [],
   "source": [
    "def save_ids(ids, path_out, case,fold=None):\n",
    "    tag = f'{case}.txt' if fold is None else f'{case}_test_set_{fold}.txt'\n",
    "    filename = os.path.join(path_out,tag)\n",
    "    with open(filename, 'w') as file:\n",
    "        for i in ids:\n",
    "            file.write(f\"{i}\\n\")"
   ]
  },
  {
   "cell_type": "code",
   "execution_count": 3,
   "metadata": {},
   "outputs": [],
   "source": [
    "class HiddenPrints:\n",
    "    def __enter__(self):\n",
    "        self._original_stdout = sys.stdout\n",
    "        sys.stdout = open(os.devnull, 'w')\n",
    "\n",
    "    def __exit__(self, exc_type, exc_val, exc_tb):\n",
    "        sys.stdout.close()\n",
    "        sys.stdout = self._original_stdout"
   ]
  },
  {
   "cell_type": "code",
   "execution_count": 4,
   "metadata": {},
   "outputs": [],
   "source": [
    "def gen_split(dcase,dcon,yvar,test_size=0.25,seed=123):\n",
    "    np.random.seed(seed)\n",
    "\n",
    "    n_sub_test = int(dcase.shape[0]*test_size)\n",
    "\n",
    "    case_select = np.random.choice(dcase.index,n_sub_test,replace=False)\n",
    "\n",
    "    m = Matcher(dcase[dcase.index.isin(case_select)],dcon,yvar=yvar)\n",
    "\n",
    "    m.fit_scores(balance=True, nmodels=100)\n",
    "    m.predict_scores()\n",
    "    m.match(method=\"min\", nmatches=1, threshold=0.0009,with_replacement=False)\n",
    "    return m.matched_data"
   ]
  },
  {
   "cell_type": "code",
   "execution_count": 10,
   "metadata": {},
   "outputs": [],
   "source": [
    "import warnings\n",
    "warnings.filterwarnings(\"ignore\")\n",
    "\n",
    "def gen_unique_splits(dcase,dcon,df,yvar,test_size=0.25,min_folds=5,max_fail=100,max_acc=0.55,min_acc=0.45,min_test_size=0.15):\n",
    "    clf = SVC(C=100,class_weight='balanced')\n",
    "\n",
    "    accuracy = []\n",
    "    subsets = []\n",
    "    seeds = []\n",
    "    test_sizes = []\n",
    "    fail_attempts = 0\n",
    "    while (len(subsets) != min_folds) and (fail_attempts < max_fail):\n",
    "        seed = np.random.randint(1e5)\n",
    "        try:\n",
    "            with HiddenPrints():\n",
    "                matches = gen_split(dcase,dcon,yvar,test_size=test_size,seed=seed)\n",
    "            split_test_size = matches.shape[0]/df.shape[0]\n",
    "\n",
    "            X = pd.get_dummies(df[conf],['SEX','SITE'])\n",
    "            y = df[case]\n",
    "\n",
    "            X_train = X[~X.index.isin(matches['og_idx'])]\n",
    "            X_test = X[X.index.isin(matches['og_idx'])]\n",
    "            y_train = y[~y.index.isin(matches['og_idx'])]\n",
    "            y_test = y[y.index.isin(matches['og_idx'])]\n",
    "\n",
    "            clf.fit(X_train,y_train)\n",
    "            pred = clf.predict(X_test)\n",
    "            acc = accuracy_score(y_test,pred)\n",
    "            \n",
    "            fold_ids = matches['og_idx'].to_list()\n",
    "            if (min_acc < acc < max_acc) & (split_test_size > min_test_size):\n",
    "                if len(subsets) == 0:\n",
    "                    subsets.append(fold_ids)\n",
    "                    accuracy.append(acc)\n",
    "                    seeds.append(seed)\n",
    "                    test_sizes.append(split_test_size)\n",
    "                    print(f'Subsets: {len(subsets)}')\n",
    "                # Otherwise check if duplcate with existing selections\n",
    "                else:\n",
    "                    duplicate = []\n",
    "                    for subset in subsets:\n",
    "                        diff = set(subset).difference(set(fold_ids))\n",
    "                        duplicate.append(len(diff) == 0)\n",
    "                        \n",
    "                    if not np.any(duplicate):\n",
    "                        subsets.append(fold_ids)\n",
    "                        accuracy.append(acc)\n",
    "                        seeds.append(seed)\n",
    "                        test_sizes.append(split_test_size)\n",
    "                        print(f'Subsets: {len(subsets)}')\n",
    "\n",
    "                    else:\n",
    "                        fail_attempts += 1\n",
    "                        if fail_attempts % 10 == 0: print(f'Fail: {fail_attempts}')\n",
    "            else:\n",
    "                fail_attempts += 1\n",
    "                if fail_attempts % 10 == 0: print(f'Fail: {fail_attempts}')\n",
    "\n",
    "        except:\n",
    "            fail_attempts += 1\n",
    "            if fail_attempts % 10 == 0: print(f'Fail: {fail_attempts}')\n",
    "            \n",
    "    return subsets, seeds, accuracy, test_sizes"
   ]
  },
  {
   "cell_type": "markdown",
   "metadata": {},
   "source": [
    "## Load data"
   ]
  },
  {
   "cell_type": "code",
   "execution_count": 6,
   "metadata": {},
   "outputs": [],
   "source": [
    "p_pheno = '/home/harveyaa/Documents/fMRI/data/ukbb_9cohorts/pheno_26-01-22.csv'\n",
    "p_ids = '/home/harveyaa/Documents/masters/MTL/conf_balancing/mleming/dataset_ids'\n",
    "p_out = '/home/harveyaa/Documents/masters/MTL/conf_balancing/pymatch/dataset_ids'\n",
    "\n",
    "pheno = pd.read_csv(p_pheno,index_col=0)"
   ]
  },
  {
   "cell_type": "code",
   "execution_count": 7,
   "metadata": {},
   "outputs": [],
   "source": [
    "cases = [#'SZ',\n",
    "        #'ASD',\n",
    "        #'BIP',\n",
    "        #'DEL22q11_2', #FAIL\n",
    "        'DUP22q11_2', #GOOD\n",
    "        #'DEL16p11_2', #GOOD\n",
    "        #'DUP16p11_2', #FAIL\n",
    "        #'DEL1q21_1', #GOOD\n",
    "        #'DUP1q21_1' #GOOD\n",
    "        ]"
   ]
  },
  {
   "cell_type": "markdown",
   "metadata": {},
   "source": [
    "## Load datasets"
   ]
  },
  {
   "cell_type": "code",
   "execution_count": 8,
   "metadata": {},
   "outputs": [],
   "source": [
    "sel_ids = []\n",
    "for case in cases:\n",
    "    df = pd.read_csv(os.path.join(p_ids,f\"{case}.txt\"),header=None)\n",
    "    sel_ids.append(df)\n",
    "sel_ids = dict(zip(cases,sel_ids))"
   ]
  },
  {
   "cell_type": "markdown",
   "metadata": {},
   "source": [
    "## Generate splits"
   ]
  },
  {
   "cell_type": "code",
   "execution_count": 9,
   "metadata": {},
   "outputs": [
    {
     "name": "stdout",
     "output_type": "stream",
     "text": [
      "DUP22q11_2\n",
      "Subsets: 1\n",
      "Subsets: 2\n",
      "Fail: 10\n",
      "Subsets: 3\n",
      "Fail: 20\n",
      "Subsets: 4\n",
      "Fail: 30\n",
      "Subsets: 5\n",
      "5\n",
      "[0.5, 0.5, 0.5, 0.5]\n"
     ]
    }
   ],
   "source": [
    "all_selections = {}\n",
    "all_seeds = {}\n",
    "all_accuracy = {}\n",
    "all_test_sizes = {}\n",
    "for case in cases:\n",
    "    print(case)\n",
    "    control = 'CON_IPC' if case in ['SZ','ASD','BIP'] else 'non_carriers'\n",
    "    conf = ['AGE','SEX','SITE','mean_conn','FD_scrubbed'] if case != 'DEL22q11_2' else ['AGE','SEX','mean_conn','FD_scrubbed']\n",
    "\n",
    "    p = pheno[pheno.index.isin(sel_ids[case][0].to_list())]\n",
    "    df_con = p[(p[control] == 1)&(p['PI'].isin(p[p[case] == 1]['PI'].unique()))][conf + [case]]\n",
    "    df_case = p[p[case]==1][conf + [case]]\n",
    "\n",
    "    df_con.loc[:,case] = df_con.loc[:,case].astype(int)\n",
    "    df_case.loc[:,case] = df_case.loc[:,case].astype(int)\n",
    "\n",
    "    selections,seeds,accuracy,test_sizes = gen_unique_splits(df_case,df_con,p,case,\n",
    "                            test_size=0.3,\n",
    "                            min_folds=5,\n",
    "                            max_fail=300,\n",
    "                            max_acc=0.55,\n",
    "                            min_acc=0.45,\n",
    "                            min_test_size=0.1)\n",
    "    print(len(selections))\n",
    "    print(accuracy)\n",
    "    all_selections[case] = selections\n",
    "    all_seeds[case] = seeds\n",
    "    all_accuracy[case] = accuracy\n",
    "    all_test_sizes[case] = test_sizes"
   ]
  },
  {
   "cell_type": "code",
   "execution_count": 11,
   "metadata": {},
   "outputs": [
    {
     "name": "stdout",
     "output_type": "stream",
     "text": [
      "DUP22q11_2\n",
      "subsets:  5\n",
      "mean test size:  0.1590909090909091\n",
      "mean accuracy:  0.5\n",
      "\n",
      "Saving DUP22q11_2...\n"
     ]
    }
   ],
   "source": [
    "temp_dir = tempfile.mkdtemp()\n",
    "\n",
    "for case in all_selections:\n",
    "    print(case)\n",
    "    print(\"subsets: \", len(all_selections[case]))\n",
    "    print(\"mean test size: \", np.mean(all_test_sizes[case]))\n",
    "    print(\"mean accuracy: \", np.mean(all_accuracy[case]))\n",
    "    print()\n",
    "\n",
    "    if len(all_selections[case]) == 5:\n",
    "        print(f\"Saving {case}...\")\n",
    "        for i,ids in enumerate(all_selections[case]):\n",
    "            save_ids(ids,temp_dir,case,i)\n",
    "\n",
    "tag = '{}.txt'\n",
    "tag_split = '{}_test_set_{}.txt'\n",
    "\n",
    "for case in all_selections:\n",
    "    dataset_ids = pd.read_csv(os.path.join(p_ids,tag.format(case)),header=None)\n",
    "    dataset_ids.set_index(0,inplace=True)\n",
    "\n",
    "    for i in range(5):\n",
    "        p_split_ids = os.path.join(temp_dir,tag_split.format(case,i))\n",
    "        if os.path.exists(p_split_ids):\n",
    "            s_ids = pd.read_csv(p_split_ids,header=None)\n",
    "            dataset_ids[f'fold_{i}'] = 1*dataset_ids.index.isin(s_ids[0].to_list())\n",
    "\n",
    "    dataset_ids[case] = pheno[pheno.index.isin(dataset_ids.index)][case].values.astype(int)\n",
    "\n",
    "    if 'fold_4' in dataset_ids.columns:\n",
    "        dataset_ids.to_csv(os.path.join(p_out,f\"{case}.csv\"))\n"
   ]
  },
  {
   "cell_type": "code",
   "execution_count": 40,
   "metadata": {},
   "outputs": [
    {
     "data": {
      "image/png": "[encoded data removed]",
      "text/plain": [
       "<Figure size 504x864 with 10 Axes>"
      ]
     },
     "metadata": {
      "needs_background": "light"
     },
     "output_type": "display_data"
    }
   ],
   "source": [
    "ids = selections[1]\n",
    "        \n",
    "\n",
    "sites = pheno[pheno[case]==1]['SITE'].unique()\n",
    "df = pheno[(pheno['SITE'].isin(sites))\n",
    "        & ((pheno[case]==1)|(pheno[control]==1))]\n",
    "\n",
    "fig, ax = plt.subplots(len(conf),2,figsize=(7,12))\n",
    "for i,c in enumerate(conf):\n",
    "        sns.histplot(x=c,data=df,hue=case,bins=25,ax=ax[i,0])\n",
    "        \n",
    "        sns.histplot(x=c,data=df[df.index.isin(ids)],hue=case,bins=25,ax=ax[i,1])\n",
    "        if i == 0:\n",
    "                ax[i,0].set_title('Full dataset')\n",
    "                ax[i,1].set_title('Subset')\n",
    "plt.tight_layout()"
   ]
  },
  {
   "cell_type": "code",
   "execution_count": null,
   "metadata": {},
   "outputs": [],
   "source": []
  }
 ],
 "metadata": {
  "interpreter": {
   "hash": "9e9c9c5c044d2ea5dfa7d6bd44b9f426810f06c0ed392c2b436f27e01061f47c"
  },
  "kernelspec": {
   "display_name": "Python 3.7.12 ('MTL')",
   "language": "python",
   "name": "python3"
  },
  "language_info": {
   "codemirror_mode": {
    "name": "ipython",
    "version": 3
   },
   "file_extension": ".py",
   "mimetype": "text/x-python",
   "name": "python",
   "nbconvert_exporter": "python",
   "pygments_lexer": "ipython3",
   "version": "3.7.12"
  },
  "orig_nbformat": 4
 },
 "nbformat": 4,
 "nbformat_minor": 2
}
