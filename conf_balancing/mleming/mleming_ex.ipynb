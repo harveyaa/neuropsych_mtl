{
 "cells": [
  {
   "cell_type": "code",
   "execution_count": 1,
   "metadata": {},
   "outputs": [],
   "source": [
    "import numpy as np\n",
    "import pandas as pd\n",
    "from scipy.stats import mannwhitneyu\n",
    "from scipy import stats\n",
    "import random\n",
    "from numpy.random import normal as norm\n",
    "import matplotlib.pyplot as plt\n",
    "import seaborn as sns\n",
    "\n",
    "from general_class_balancer import *"
   ]
  },
  {
   "cell_type": "markdown",
   "metadata": {},
   "source": [
    "## Test Leming example"
   ]
  },
  {
   "cell_type": "code",
   "execution_count": 2,
   "metadata": {},
   "outputs": [],
   "source": [
    "# Sample script showing how this balances on simulated, random data.\n",
    "show_balanced = True\n",
    "N = int(12000) # Number of datapoints\n",
    "confounds = np.random.rand(2, N)"
   ]
  },
  {
   "cell_type": "code",
   "execution_count": 3,
   "metadata": {},
   "outputs": [
    {
     "data": {
      "text/plain": [
       "(2, 12000)"
      ]
     },
     "execution_count": 3,
     "metadata": {},
     "output_type": "execute_result"
    }
   ],
   "source": [
    "confounds.shape"
   ]
  },
  {
   "cell_type": "code",
   "execution_count": 4,
   "metadata": {},
   "outputs": [],
   "source": [
    "# Unfortunately, numpy arrays don't support mixed types, so in order to mix\n",
    "# floats (i.e., continuous covariates) and strings (i.e., discrete, or labeled,\n",
    "# covariates), it is necessary to cast them all as objects. Slows things down,\n",
    "# but if covariates are all of one type, they can be cast as one or the other.\n",
    "c1 = np.array([norm(1, 2, int(N/3)),norm(0.5, 2, int(N/3)),norm(2, 1, int(N/3))],dtype=object)\n",
    "c2 = np.array([norm(3, 2, int(N/3)),norm(0.5, 2, int(N/3)),norm(3.1, 0.25, int(N/3))],dtype=object)\n",
    "c3 = np.array([norm(2, 1, int(N/3)),norm(0.5, 2, int(N/3)),norm(2.9, 1, int(N/3))],dtype=object)\n",
    "confounds = np.concatenate((c1,c2,c3),axis=1)\n",
    "c4 = np.array([[np.random.choice([\"a\",\"b\",\"c\"]) for x in range(N)]],dtype=object)\n",
    "confounds = np.concatenate((confounds,c4),axis=0)"
   ]
  },
  {
   "cell_type": "code",
   "execution_count": 5,
   "metadata": {},
   "outputs": [
    {
     "name": "stdout",
     "output_type": "stream",
     "text": [
      "(4, 12000)\n"
     ]
    }
   ],
   "source": [
    "print(confounds.shape)"
   ]
  },
  {
   "cell_type": "code",
   "execution_count": 6,
   "metadata": {},
   "outputs": [
    {
     "name": "stdout",
     "output_type": "stream",
     "text": [
      "(12000,)\n"
     ]
    },
    {
     "data": {
      "text/plain": [
       "array([0, 0, 0, ..., 2, 2, 2])"
      ]
     },
     "execution_count": 6,
     "metadata": {},
     "output_type": "execute_result"
    }
   ],
   "source": [
    "classes = np.array([0 for x in range(int(N/2))] + [1 for x in range(int(N/2))])\n",
    "classes = np.array([0 for x in range(int(N/3))] + [1 for x in range(int(N/3))] + [2 for x in range(int(N/3))])\n",
    "\n",
    "print(classes.shape)\n",
    "classes"
   ]
  },
  {
   "cell_type": "code",
   "execution_count": 7,
   "metadata": {},
   "outputs": [
    {
     "name": "stdout",
     "output_type": "stream",
     "text": [
      "3150\n"
     ]
    }
   ],
   "source": [
    "selection = class_balance(classes,confounds,plim=0.25)\n",
    "print(np.sum(selection))"
   ]
  },
  {
   "cell_type": "code",
   "execution_count": 8,
   "metadata": {},
   "outputs": [
    {
     "name": "stdout",
     "output_type": "stream",
     "text": [
      "0.0786961055104515\n"
     ]
    }
   ],
   "source": [
    "print(test_all(classes[selection],confounds[:,selection]))"
   ]
  },
  {
   "cell_type": "code",
   "execution_count": 9,
   "metadata": {},
   "outputs": [
    {
     "data": {
      "image/png": "[encoded data removed]",
      "text/plain": [
       "<Figure size 432x288 with 1 Axes>"
      ]
     },
     "metadata": {
      "needs_background": "light"
     },
     "output_type": "display_data"
    }
   ],
   "source": [
    "cnum = 0\n",
    "no_bins = 50\n",
    "#bins = (np.array(range(no_bins)) - (no_bins/2))/(float(no_bins)/4)\n",
    "bins = 'auto'\n",
    "if show_balanced:\n",
    "\tplt.hist(confounds[cnum,np.logical_and(selection,classes == 0)], bins= bins, fc=(0, 0, 1, 0.5))\n",
    "\tplt.hist(confounds[cnum,np.logical_and(selection,classes == 1)], bins= bins, fc=(0, 1, 0, 0.5))\n",
    "\tplt.hist(confounds[cnum,np.logical_and(selection,classes == 2)], bins= bins, fc=(1, 0, 0, 0.5))\n",
    "else:\n",
    "\tplt.hist(confounds[cnum,classes == 0], bins= bins)\n",
    "\tplt.hist(confounds[cnum,classes == 1], bins= bins)\n",
    "\tplt.hist(confounds[cnum,classes == 2], bins= bins)\n",
    "\n",
    "\n",
    "plt.show()"
   ]
  },
  {
   "cell_type": "markdown",
   "metadata": {},
   "source": [
    "## SZ Data\n",
    "#### Load & format data"
   ]
  },
  {
   "cell_type": "code",
   "execution_count": 10,
   "metadata": {},
   "outputs": [
    {
     "name": "stderr",
     "output_type": "stream",
     "text": [
      "/home/harveyaa/miniconda3/envs/MTL/lib/python3.7/site-packages/IPython/core/interactiveshell.py:3457: DtypeWarning: Columns (7,8,12,13,14,19,20,24,27,31,42,43,44,49,51,59,60,62,64,65,68,101,121,163) have mixed types.Specify dtype option on import or set low_memory=False.\n",
      "  exec(code_obj, self.user_global_ns, self.user_ns)\n"
     ]
    }
   ],
   "source": [
    "p_pheno = '/home/harveyaa/Documents/fMRI/data/ukbb_9cohorts/pheno_26-01-22.csv'\n",
    "p_conn = '/home/harveyaa/Documents/fMRI/data/ukbb_9cohorts/connectomes_01-12-21.csv'\n",
    "\n",
    "pheno = pd.read_csv(p_pheno,index_col=0)\n",
    "conn = pd.read_csv(p_conn,index_col=0)"
   ]
  },
  {
   "cell_type": "code",
   "execution_count": 11,
   "metadata": {},
   "outputs": [],
   "source": [
    "pheno_con_sz = pheno[(pheno['CON_IPC'] == 1)&(pheno['PI'].isin(pheno[pheno['SZ'] == 1]['PI'].unique()))]\n",
    "pheno_sz = pd.concat([pheno_con_sz,pheno[pheno['SZ']==1]])\n",
    "pheno_sz.loc[:,'SZ'] = pheno_sz.loc[:,'SZ'].astype(int)"
   ]
  },
  {
   "cell_type": "markdown",
   "metadata": {},
   "source": [
    "#### Generate balanced subset"
   ]
  },
  {
   "cell_type": "code",
   "execution_count": 12,
   "metadata": {},
   "outputs": [],
   "source": [
    "conf = ['AGE','SEX','SITE','mean_conn','FD_scrubbed']\n",
    "\n",
    "confounds_sz = pheno_sz[conf].transpose().values\n",
    "classes_sz = pheno_sz['SZ'].values\n",
    "\n",
    "selection_sz = class_balance(classes_sz,confounds_sz,plim=0.25)"
   ]
  },
  {
   "cell_type": "markdown",
   "metadata": {},
   "source": [
    "#### Plot"
   ]
  },
  {
   "cell_type": "code",
   "execution_count": 13,
   "metadata": {},
   "outputs": [
    {
     "data": {
      "image/png": "[encoded data removed]",
      "text/plain": [
       "<Figure size 504x864 with 10 Axes>"
      ]
     },
     "metadata": {
      "needs_background": "light"
     },
     "output_type": "display_data"
    }
   ],
   "source": [
    "fig, ax = plt.subplots(len(conf),2,figsize=(7,12))\n",
    "\n",
    "for i,c in enumerate(conf):\n",
    "    sns.histplot(x=c,data=pheno_sz,hue='SZ',bins=25,ax=ax[i,0])\n",
    "    sns.histplot(x=c,data=pheno_sz[selection_sz],hue='SZ',bins=25,ax=ax[i,1])\n",
    "\n",
    "    if i == 0:\n",
    "        ax[i,0].set_title('Full dataset')\n",
    "        ax[i,1].set_title('Balanced subset')\n",
    "\n",
    "plt.tight_layout()"
   ]
  },
  {
   "cell_type": "code",
   "execution_count": 14,
   "metadata": {},
   "outputs": [
    {
     "name": "stdout",
     "output_type": "stream",
     "text": [
      "298\n"
     ]
    },
    {
     "data": {
      "text/plain": [
       "638"
      ]
     },
     "execution_count": 14,
     "metadata": {},
     "output_type": "execute_result"
    }
   ],
   "source": [
    "print(np.sum(selection_sz))\n",
    "\n",
    "pheno_sz.shape[0]"
   ]
  },
  {
   "cell_type": "markdown",
   "metadata": {},
   "source": [
    "#### Test prediction"
   ]
  },
  {
   "cell_type": "code",
   "execution_count": 15,
   "metadata": {},
   "outputs": [],
   "source": [
    "# X confounds array\n",
    "# y labels\n",
    "\n",
    "X = pd.get_dummies(pheno_sz[conf],columns=['SEX','SITE'],drop_first=True)\n",
    "y = pheno_sz['SZ']"
   ]
  },
  {
   "cell_type": "code",
   "execution_count": 16,
   "metadata": {},
   "outputs": [],
   "source": [
    "# Test set: balanced\n",
    "# Train set: rest\n",
    "\n",
    "X_train = X[~selection_sz]\n",
    "X_test = X[selection_sz]\n",
    "y_train = y[~selection_sz]\n",
    "y_test = y[selection_sz]"
   ]
  },
  {
   "cell_type": "code",
   "execution_count": 17,
   "metadata": {},
   "outputs": [
    {
     "name": "stdout",
     "output_type": "stream",
     "text": [
      "Chance level:  0.5\n"
     ]
    }
   ],
   "source": [
    "print('Chance level: ', np.sum(y_test)/len(y_test))"
   ]
  },
  {
   "cell_type": "code",
   "execution_count": 18,
   "metadata": {},
   "outputs": [],
   "source": [
    "from sklearn.svm import SVC\n",
    "from sklearn.metrics import accuracy_score\n",
    "\n",
    "clf = SVC()"
   ]
  },
  {
   "cell_type": "code",
   "execution_count": 19,
   "metadata": {},
   "outputs": [
    {
     "name": "stdout",
     "output_type": "stream",
     "text": [
      "Accuracy w/ conf:  0.47651006711409394\n"
     ]
    }
   ],
   "source": [
    "clf.fit(X_train,y_train)\n",
    "pred = clf.predict(X_test)\n",
    "acc = accuracy_score(y_test,pred)\n",
    "print('Accuracy w/ conf: ', acc)"
   ]
  },
  {
   "cell_type": "code",
   "execution_count": 20,
   "metadata": {},
   "outputs": [],
   "source": [
    "X_conn = conn[conn.index.isin(pheno_sz.index)]\n",
    "\n",
    "X_conn_train = X_conn[~selection_sz]\n",
    "X_conn_test = X_conn[selection_sz]"
   ]
  },
  {
   "cell_type": "code",
   "execution_count": 21,
   "metadata": {},
   "outputs": [
    {
     "name": "stdout",
     "output_type": "stream",
     "text": [
      "Accuracy w/ conn:  0.7114093959731543\n"
     ]
    }
   ],
   "source": [
    "clf.fit(X_conn_train,y_train)\n",
    "pred = clf.predict(X_conn_test)\n",
    "acc = accuracy_score(y_test,pred)\n",
    "print('Accuracy w/ conn: ', acc)"
   ]
  },
  {
   "cell_type": "markdown",
   "metadata": {},
   "source": [
    "#### Compare w/ random split"
   ]
  },
  {
   "cell_type": "code",
   "execution_count": 22,
   "metadata": {},
   "outputs": [
    {
     "name": "stdout",
     "output_type": "stream",
     "text": [
      "Chance level:  0.48125\n"
     ]
    }
   ],
   "source": [
    "from sklearn.model_selection import train_test_split\n",
    "\n",
    "X_train_rand,X_test_rand, y_train_rand, y_test_rand = train_test_split(pheno_sz.index,y)\n",
    "rand_train_mask = pheno_sz.index.isin(X_train_rand)\n",
    "\n",
    "print('Chance level: ',np.sum(y[~rand_train_mask])/len(y[~rand_train_mask]))"
   ]
  },
  {
   "cell_type": "code",
   "execution_count": 23,
   "metadata": {},
   "outputs": [
    {
     "name": "stdout",
     "output_type": "stream",
     "text": [
      "Accuracy w/ conf rand split:  0.51875\n"
     ]
    }
   ],
   "source": [
    "clf.fit(X[rand_train_mask],y[rand_train_mask])\n",
    "pred = clf.predict(X[~rand_train_mask])\n",
    "print('Accuracy w/ conf rand split: ',accuracy_score(y[~rand_train_mask],pred))"
   ]
  },
  {
   "cell_type": "code",
   "execution_count": 24,
   "metadata": {},
   "outputs": [
    {
     "name": "stdout",
     "output_type": "stream",
     "text": [
      "Accuracy w/ conn rand split:  0.79375\n"
     ]
    }
   ],
   "source": [
    "clf.fit(X_conn[rand_train_mask],y[rand_train_mask])\n",
    "pred = clf.predict(X_conn[~rand_train_mask])\n",
    "print('Accuracy w/ conn rand split: ',accuracy_score(y[~rand_train_mask],pred))"
   ]
  },
  {
   "cell_type": "markdown",
   "metadata": {},
   "source": [
    "#### Are balanced subsets different from each other?"
   ]
  },
  {
   "cell_type": "code",
   "execution_count": 32,
   "metadata": {},
   "outputs": [
    {
     "name": "stdout",
     "output_type": "stream",
     "text": [
      "300\n",
      "350\n",
      "298\n",
      "344\n",
      "302\n"
     ]
    }
   ],
   "source": [
    "selections = []\n",
    "for i in range(5):\n",
    "    selection_sz = class_balance(classes_sz,confounds_sz,plim=0.25)\n",
    "    idx = pheno_sz[selection_sz].index\n",
    "    selections.append(idx)\n",
    "    print(len(idx))"
   ]
  },
  {
   "cell_type": "code",
   "execution_count": 36,
   "metadata": {},
   "outputs": [
    {
     "name": "stdout",
     "output_type": "stream",
     "text": [
      "300\n",
      "350\n",
      "overlap:  254\n",
      "\n",
      "300\n",
      "298\n",
      "overlap:  258\n",
      "\n",
      "300\n",
      "344\n",
      "overlap:  238\n",
      "\n",
      "300\n",
      "302\n",
      "overlap:  262\n",
      "\n",
      "350\n",
      "298\n",
      "overlap:  243\n",
      "\n",
      "350\n",
      "344\n",
      "overlap:  269\n",
      "\n",
      "350\n",
      "302\n",
      "overlap:  248\n",
      "\n",
      "298\n",
      "344\n",
      "overlap:  234\n",
      "\n",
      "298\n",
      "302\n",
      "overlap:  262\n",
      "\n",
      "344\n",
      "302\n",
      "overlap:  246\n",
      "\n"
     ]
    }
   ],
   "source": [
    "from itertools import combinations\n",
    "\n",
    "for i,j in combinations(list(range(5)),2):\n",
    "    intersect = set(selections[i]).intersection(selections[j])\n",
    "    print(len(selections[i]))\n",
    "    print(len(selections[j]))\n",
    "    print('overlap: ', len(intersect))\n",
    "    print()"
   ]
  },
  {
   "cell_type": "markdown",
   "metadata": {},
   "source": [
    "## UKBB CNVs"
   ]
  },
  {
   "cell_type": "code",
   "execution_count": 40,
   "metadata": {},
   "outputs": [],
   "source": [
    "pis = pheno[pheno['DEL1q21_1']==1]['PI'].unique()\n",
    "pheno_cnv = pheno[pheno['PI'].isin(pis)]"
   ]
  },
  {
   "cell_type": "code",
   "execution_count": 50,
   "metadata": {},
   "outputs": [],
   "source": [
    "confounds_cnv = pheno_cnv[conf].transpose().values\n",
    "classes_cnv = pheno_cnv['DEL1q21_1'].values.astype(int)"
   ]
  },
  {
   "cell_type": "code",
   "execution_count": 53,
   "metadata": {},
   "outputs": [],
   "source": [
    "selection_cnv = class_balance(classes_cnv,confounds_cnv,plim=0.25)"
   ]
  },
  {
   "cell_type": "code",
   "execution_count": 54,
   "metadata": {},
   "outputs": [
    {
     "data": {
      "text/plain": [
       "50"
      ]
     },
     "execution_count": 54,
     "metadata": {},
     "output_type": "execute_result"
    }
   ],
   "source": [
    "np.sum(selection_cnv)"
   ]
  },
  {
   "cell_type": "markdown",
   "metadata": {},
   "source": [
    "#### try subset of balanced"
   ]
  },
  {
   "cell_type": "code",
   "execution_count": 57,
   "metadata": {},
   "outputs": [],
   "source": [
    "pheno_cnv2 = pheno_cnv[selection_cnv]"
   ]
  },
  {
   "cell_type": "code",
   "execution_count": 58,
   "metadata": {},
   "outputs": [
    {
     "data": {
      "text/plain": [
       "36"
      ]
     },
     "execution_count": 58,
     "metadata": {},
     "output_type": "execute_result"
    }
   ],
   "source": [
    "confounds_cnv2 = pheno_cnv2[conf].transpose().values\n",
    "classes_cnv2 = pheno_cnv2['DEL1q21_1'].values.astype(int)\n",
    "\n",
    "selection_cnv2 = class_balance(classes_cnv2,confounds_cnv2,plim=0.25)\n",
    "np.sum(selection_cnv2)"
   ]
  },
  {
   "cell_type": "markdown",
   "metadata": {},
   "source": [
    "#### Plot"
   ]
  },
  {
   "cell_type": "code",
   "execution_count": 59,
   "metadata": {},
   "outputs": [
    {
     "data": {
      "image/png": "[encoded data removed]",
      "text/plain": [
       "<Figure size 504x864 with 10 Axes>"
      ]
     },
     "metadata": {
      "needs_background": "light"
     },
     "output_type": "display_data"
    }
   ],
   "source": [
    "fig, ax = plt.subplots(len(conf),2,figsize=(7,12))\n",
    "\n",
    "for i,c in enumerate(conf):\n",
    "    sns.histplot(x=c,data=pheno_cnv2,hue='DEL1q21_1',bins=25,ax=ax[i,0])\n",
    "    sns.histplot(x=c,data=pheno_cnv2[selection_cnv2],hue='DEL1q21_1',bins=25,ax=ax[i,1])\n",
    "\n",
    "    if i == 0:\n",
    "        ax[i,0].set_title('Full dataset')\n",
    "        ax[i,1].set_title('Balanced subset')\n",
    "\n",
    "plt.tight_layout()"
   ]
  },
  {
   "cell_type": "markdown",
   "metadata": {},
   "source": [
    "#### Test prediction"
   ]
  },
  {
   "cell_type": "code",
   "execution_count": 60,
   "metadata": {},
   "outputs": [],
   "source": [
    "# X confounds array\n",
    "# y labels\n",
    "\n",
    "X = pd.get_dummies(pheno_cnv2[conf],columns=['SEX','SITE'],drop_first=True)\n",
    "y = pheno_cnv2['DEL1q21_1']"
   ]
  },
  {
   "cell_type": "code",
   "execution_count": 62,
   "metadata": {},
   "outputs": [],
   "source": [
    "# Test set: balanced\n",
    "# Train set: rest\n",
    "\n",
    "X_train = X[~selection_cnv2]\n",
    "X_test = X[selection_cnv2]\n",
    "y_train = y[~selection_cnv2]\n",
    "y_test = y[selection_cnv2]"
   ]
  },
  {
   "cell_type": "code",
   "execution_count": 63,
   "metadata": {},
   "outputs": [
    {
     "name": "stdout",
     "output_type": "stream",
     "text": [
      "Chance level:  0.5\n"
     ]
    }
   ],
   "source": [
    "print('Chance level: ', np.sum(y_test)/len(y_test))"
   ]
  },
  {
   "cell_type": "code",
   "execution_count": 64,
   "metadata": {},
   "outputs": [],
   "source": [
    "from sklearn.svm import SVC\n",
    "from sklearn.metrics import accuracy_score\n",
    "\n",
    "clf = SVC()"
   ]
  },
  {
   "cell_type": "code",
   "execution_count": 65,
   "metadata": {},
   "outputs": [
    {
     "name": "stdout",
     "output_type": "stream",
     "text": [
      "Accuracy w/ conf:  0.4722222222222222\n"
     ]
    }
   ],
   "source": [
    "clf.fit(X_train,y_train)\n",
    "pred = clf.predict(X_test)\n",
    "acc = accuracy_score(y_test,pred)\n",
    "print('Accuracy w/ conf: ', acc)"
   ]
  },
  {
   "cell_type": "code",
   "execution_count": 70,
   "metadata": {},
   "outputs": [],
   "source": [
    "X_conn = conn[conn.index.isin(pheno_cnv2.index)]\n",
    "\n",
    "X_conn_train = X_conn[~selection_cnv2]\n",
    "X_conn_test = X_conn[selection_cnv2]"
   ]
  },
  {
   "cell_type": "code",
   "execution_count": 71,
   "metadata": {},
   "outputs": [
    {
     "name": "stdout",
     "output_type": "stream",
     "text": [
      "Accuracy w/ conn:  0.3888888888888889\n"
     ]
    }
   ],
   "source": [
    "clf.fit(X_conn_train,y_train)\n",
    "pred = clf.predict(X_conn_test)\n",
    "acc = accuracy_score(y_test,pred)\n",
    "print('Accuracy w/ conn: ', acc)"
   ]
  },
  {
   "cell_type": "markdown",
   "metadata": {},
   "source": [
    "#### Compare w/ random split"
   ]
  },
  {
   "cell_type": "code",
   "execution_count": 73,
   "metadata": {},
   "outputs": [
    {
     "name": "stdout",
     "output_type": "stream",
     "text": [
      "Chance level:  0.46153846153846156\n"
     ]
    }
   ],
   "source": [
    "from sklearn.model_selection import train_test_split\n",
    "\n",
    "X_train_rand,X_test_rand, y_train_rand, y_test_rand = train_test_split(pheno_cnv2.index,y)\n",
    "rand_train_mask = pheno_cnv2.index.isin(X_train_rand)\n",
    "\n",
    "print('Chance level: ',np.sum(y[~rand_train_mask])/len(y[~rand_train_mask]))"
   ]
  },
  {
   "cell_type": "code",
   "execution_count": 74,
   "metadata": {},
   "outputs": [
    {
     "name": "stdout",
     "output_type": "stream",
     "text": [
      "Accuracy w/ conf rand split:  0.46153846153846156\n"
     ]
    }
   ],
   "source": [
    "clf.fit(X[rand_train_mask],y[rand_train_mask])\n",
    "pred = clf.predict(X[~rand_train_mask])\n",
    "print('Accuracy w/ conf rand split: ',accuracy_score(y[~rand_train_mask],pred))"
   ]
  },
  {
   "cell_type": "code",
   "execution_count": 75,
   "metadata": {},
   "outputs": [
    {
     "name": "stdout",
     "output_type": "stream",
     "text": [
      "Accuracy w/ conn rand split:  0.38461538461538464\n"
     ]
    }
   ],
   "source": [
    "clf.fit(X_conn[rand_train_mask],y[rand_train_mask])\n",
    "pred = clf.predict(X_conn[~rand_train_mask])\n",
    "print('Accuracy w/ conn rand split: ',accuracy_score(y[~rand_train_mask],pred))"
   ]
  },
  {
   "cell_type": "code",
   "execution_count": null,
   "metadata": {},
   "outputs": [],
   "source": []
  }
 ],
 "metadata": {
  "interpreter": {
   "hash": "9e9c9c5c044d2ea5dfa7d6bd44b9f426810f06c0ed392c2b436f27e01061f47c"
  },
  "kernelspec": {
   "display_name": "Python 3.7.12 ('MTL')",
   "language": "python",
   "name": "python3"
  },
  "language_info": {
   "codemirror_mode": {
    "name": "ipython",
    "version": 3
   },
   "file_extension": ".py",
   "mimetype": "text/x-python",
   "name": "python",
   "nbconvert_exporter": "python",
   "pygments_lexer": "ipython3",
   "version": "3.7.12"
  },
  "orig_nbformat": 4
 },
 "nbformat": 4,
 "nbformat_minor": 2
}
