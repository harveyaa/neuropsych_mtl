{
 "cells": [
  {
   "cell_type": "code",
   "execution_count": 1,
   "metadata": {},
   "outputs": [],
   "source": [
    "import os\n",
    "import numpy as np\n",
    "import pandas as pd\n",
    "from itertools import combinations\n",
    "\n",
    "from general_class_balancer import *"
   ]
  },
  {
   "cell_type": "markdown",
   "metadata": {},
   "source": [
    "# Generate Datasets\n",
    "This notebook is to generate datasets that are as balanced as possible for binary classification wrt confounding factors from the entire pool of controls.\n",
    "- For idiopathic conditions, just use controls from the same sites.\n",
    "- For CNVs use Matthew Leming's class balancing algorithm.\n",
    "\n",
    "## Define functions"
   ]
  },
  {
   "cell_type": "code",
   "execution_count": 2,
   "metadata": {},
   "outputs": [],
   "source": [
    "def save_ids(ids, path_out, case):\n",
    "    tag = f'{case}.txt'\n",
    "    filename = os.path.join(path_out,tag)\n",
    "    with open(filename, 'w') as file:\n",
    "        for i in ids:\n",
    "            file.write(f\"{i}\\n\")"
   ]
  },
  {
   "cell_type": "markdown",
   "metadata": {},
   "source": [
    "## Load data"
   ]
  },
  {
   "cell_type": "code",
   "execution_count": 3,
   "metadata": {},
   "outputs": [
    {
     "name": "stderr",
     "output_type": "stream",
     "text": [
      "/home/harveyaa/miniconda3/envs/MTL/lib/python3.7/site-packages/IPython/core/interactiveshell.py:3457: DtypeWarning: Columns (7,8,12,13,14,19,20,24,27,31,42,43,44,49,51,59,60,62,64,65,68,101,121,163) have mixed types.Specify dtype option on import or set low_memory=False.\n",
      "  exec(code_obj, self.user_global_ns, self.user_ns)\n"
     ]
    }
   ],
   "source": [
    "p_pheno = '/home/harveyaa/Documents/fMRI/data/ukbb_9cohorts/pheno_26-01-22.csv'\n",
    "path_out = '/home/harveyaa/Documents/masters/MTL/conf_balancing/dataset_ids'\n",
    "\n",
    "pheno = pd.read_csv(p_pheno,index_col=0)\n",
    "\n",
    "conf = ['AGE','SEX','SITE','mean_conn','FD_scrubbed']"
   ]
  },
  {
   "cell_type": "markdown",
   "metadata": {},
   "source": [
    "## IPC"
   ]
  },
  {
   "cell_type": "code",
   "execution_count": 4,
   "metadata": {},
   "outputs": [],
   "source": [
    "ipc = ['SZ',\n",
    "        'ASD',\n",
    "        'BIP']"
   ]
  },
  {
   "cell_type": "code",
   "execution_count": 5,
   "metadata": {},
   "outputs": [],
   "source": [
    "for case in ipc:  \n",
    "    control = 'CON_IPC'\n",
    "\n",
    "    df_con = pheno[(pheno[control] == 1)&(pheno['PI'].isin(pheno[pheno[case] == 1]['PI'].unique()))]\n",
    "    df = pd.concat([df_con,pheno[pheno[case]==1]])\n",
    "    df.loc[:,case] = df.loc[:,case].astype(int)\n",
    "\n",
    "    # Save out those ids\n",
    "    save_ids(df.index.to_list(),path_out,case)"
   ]
  },
  {
   "cell_type": "markdown",
   "metadata": {},
   "source": [
    "## Most CNVs"
   ]
  },
  {
   "cell_type": "code",
   "execution_count": 6,
   "metadata": {},
   "outputs": [],
   "source": [
    "cnvs = [#'DEL22q11_2',\n",
    "        'DUP22q11_2',\n",
    "        'DEL16p11_2',\n",
    "        #'DUP16p11_2',\n",
    "        'DEL1q21_1',\n",
    "        'DUP1q21_1'\n",
    "        ]"
   ]
  },
  {
   "cell_type": "code",
   "execution_count": 7,
   "metadata": {},
   "outputs": [
    {
     "name": "stdout",
     "output_type": "stream",
     "text": [
      "total cases:  22\n",
      "22\n",
      "total cases:  32\n",
      "32\n",
      "total cases:  25\n",
      "25\n",
      "total cases:  19\n",
      "19\n"
     ]
    }
   ],
   "source": [
    "for case in cnvs:\n",
    "    control = 'non_carriers'\n",
    "\n",
    "    df_con = pheno[(pheno[control] == 1)&(pheno['PI'].isin(pheno[pheno[case] == 1]['PI'].unique()))]\n",
    "    df = pd.concat([df_con,pheno[pheno[case]==1]])\n",
    "    df.loc[:,case] = df.loc[:,case].astype(int)\n",
    "\n",
    "    confounds = df[conf].transpose().values\n",
    "    classes = df[case].values.astype(int)\n",
    "    n_case = np.sum(classes)\n",
    "    print('total cases: ', n_case)\n",
    "\n",
    "    selected_case = 0\n",
    "    while selected_case != n_case:\n",
    "        selection = class_balance(classes,confounds)\n",
    "        selected_case = np.sum(classes[selection])\n",
    "        print(selected_case)\n",
    "\n",
    "    save_ids(df[selection].index.to_list(),path_out,case)"
   ]
  },
  {
   "cell_type": "markdown",
   "metadata": {},
   "source": [
    "## DUP16p11_2\n",
    "Special case, can't balance w/ all controls: pick a balance w/ 34/35 and hand select last control & add excluded case."
   ]
  },
  {
   "cell_type": "code",
   "execution_count": 8,
   "metadata": {},
   "outputs": [
    {
     "name": "stdout",
     "output_type": "stream",
     "text": [
      "total cases:  35\n",
      "32\n",
      "32\n",
      "34\n",
      "33\n",
      "34\n",
      "32\n",
      "34\n",
      "34\n",
      "33\n",
      "34\n"
     ]
    }
   ],
   "source": [
    "case = 'DUP16p11_2'\n",
    "dup16p_ids = []\n",
    "\n",
    "control = 'non_carriers'\n",
    "\n",
    "df_con = pheno[(pheno[control] == 1)&(pheno['PI'].isin(pheno[pheno[case] == 1]['PI'].unique()))]\n",
    "df = pd.concat([df_con,pheno[pheno[case]==1]])\n",
    "df.loc[:,case] = df.loc[:,case].astype(int)\n",
    "\n",
    "confounds = df[conf].transpose().values\n",
    "classes = df[case].values.astype(int)\n",
    "n_case = np.sum(classes)\n",
    "print('total cases: ', n_case)\n",
    "\n",
    "selected_case = 0\n",
    "while selected_case != n_case:\n",
    "    selection = class_balance(classes,confounds)\n",
    "    selected_case = np.sum(classes[selection])\n",
    "    print(selected_case)\n",
    "\n",
    "    if selected_case == 34:\n",
    "        dup16p_ids.append(df[selection].index.to_list())\n",
    "    \n",
    "    if len(dup16p_ids) == 5:\n",
    "        break"
   ]
  },
  {
   "cell_type": "code",
   "execution_count": 9,
   "metadata": {},
   "outputs": [
    {
     "name": "stdout",
     "output_type": "stream",
     "text": [
      "Excluded case:  {'s14723xx17xFCAP1'}\n",
      "Excluded case:  {'s14723xx17xFCAP1'}\n",
      "Excluded case:  {'s14723xx17xFCAP1'}\n",
      "Excluded case:  {'s14723xx17xFCAP1'}\n",
      "Excluded case:  {'s14723xx17xFCAP1'}\n"
     ]
    }
   ],
   "source": [
    "# ALWAYS THE SAME GUY EXCLUDED\n",
    "for i in range(5):\n",
    "    all_dup16 = pheno[pheno['DUP16p11_2']==1].index\n",
    "    sel_dup16 = pheno[(pheno.index.isin(dup16p_ids[i])) & (pheno['DUP16p11_2']==1)].index\n",
    "    print('Excluded case: ', set(all_dup16).difference(set(sel_dup16)))"
   ]
  },
  {
   "cell_type": "code",
   "execution_count": 10,
   "metadata": {},
   "outputs": [
    {
     "name": "stdout",
     "output_type": "stream",
     "text": [
      "Different controls 0,1: 0\n",
      "Different controls 0,2: 0\n",
      "Different controls 0,3: 0\n",
      "Different controls 0,4: 0\n",
      "Different controls 1,2: 0\n",
      "Different controls 1,3: 0\n",
      "Different controls 1,4: 0\n",
      "Different controls 2,3: 0\n",
      "Different controls 2,4: 0\n",
      "Different controls 3,4: 0\n"
     ]
    }
   ],
   "source": [
    "# ARE THE CONTROLS ALWAYS THE SAME?\n",
    "for i,j in combinations(range(5),2):\n",
    "    sel_con_i = pheno[(pheno.index.isin(dup16p_ids[i])) & (pheno['DUP16p11_2']==0)].index\n",
    "    sel_con_j = pheno[(pheno.index.isin(dup16p_ids[i])) & (pheno['DUP16p11_2']==0)].index\n",
    "    print(f'Different controls {i},{j}:', len(set(sel_con_i).difference(set(sel_con_j))))"
   ]
  },
  {
   "cell_type": "code",
   "execution_count": 11,
   "metadata": {},
   "outputs": [
    {
     "data": {
      "text/plain": [
       "AGE                 5.0\n",
       "SEX                Male\n",
       "SITE              Svip1\n",
       "mean_conn      0.293059\n",
       "FD_scrubbed    0.154738\n",
       "Name: s14723xx17xFCAP1, dtype: object"
      ]
     },
     "execution_count": 11,
     "metadata": {},
     "output_type": "execute_result"
    }
   ],
   "source": [
    "# subject age too young to find a match?\n",
    "pheno.loc['s14723xx17xFCAP1'][conf]"
   ]
  },
  {
   "cell_type": "code",
   "execution_count": 12,
   "metadata": {},
   "outputs": [],
   "source": [
    "# pick youngest 'matched' control not already in selection\n",
    "handpick_con = [pheno[(pheno['SITE'] == 'Svip1') \n",
    "                & (pheno['SEX'] == 'Male')\n",
    "                & (pheno['non_carriers'] == 1)\n",
    "                & (~pheno.index.isin(dup16p_ids[0]))][conf].sort_values('AGE').index[0]]\n",
    "\n",
    "excluded_case = ['s14723xx17xFCAP1']\n"
   ]
  },
  {
   "cell_type": "code",
   "execution_count": 13,
   "metadata": {},
   "outputs": [],
   "source": [
    "dup16p_hand_selection = dup16p_ids[0] + excluded_case + handpick_con\n",
    "\n",
    "save_ids(dup16p_hand_selection,path_out,'DUP16p11_2')"
   ]
  },
  {
   "cell_type": "markdown",
   "metadata": {},
   "source": [
    "## DEL22q11_2\n",
    "Special case, take all case/control from single site."
   ]
  },
  {
   "cell_type": "code",
   "execution_count": 14,
   "metadata": {},
   "outputs": [],
   "source": [
    "del22q_con_idx = pheno[(pheno['SITE']=='UCLA_CB') & (pheno['non_carriers']==1)].index.to_list()\n",
    "del22q_case_idx = pheno[(pheno['SITE']=='UCLA_CB') & (pheno['DEL22q11_2']==1)].index.to_list()\n",
    "save_ids(del22q_con_idx + del22q_case_idx,path_out,'DEL22q11_2')\n"
   ]
  }
 ],
 "metadata": {
  "interpreter": {
   "hash": "9e9c9c5c044d2ea5dfa7d6bd44b9f426810f06c0ed392c2b436f27e01061f47c"
  },
  "kernelspec": {
   "display_name": "Python 3.7.12 ('MTL')",
   "language": "python",
   "name": "python3"
  },
  "language_info": {
   "codemirror_mode": {
    "name": "ipython",
    "version": 3
   },
   "file_extension": ".py",
   "mimetype": "text/x-python",
   "name": "python",
   "nbconvert_exporter": "python",
   "pygments_lexer": "ipython3",
   "version": "3.7.12"
  },
  "orig_nbformat": 4
 },
 "nbformat": 4,
 "nbformat_minor": 2
}
