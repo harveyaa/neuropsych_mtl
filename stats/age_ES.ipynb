{
 "cells": [
  {
   "cell_type": "code",
   "execution_count": 1,
   "metadata": {},
   "outputs": [],
   "source": [
    "import os\n",
    "import numpy as np\n",
    "import pandas as pd\n",
    "from argparse import ArgumentParser\n",
    "\n",
    "import random\n",
    "import patsy as pat\n",
    "import statsmodels.api as sm\n",
    "from sklearn.preprocessing import StandardScaler\n",
    "from sklearn.model_selection import StratifiedKFold"
   ]
  },
  {
   "cell_type": "code",
   "execution_count": 13,
   "metadata": {},
   "outputs": [],
   "source": [
    "def standardize(mask,data):\n",
    "    scaler = StandardScaler(with_mean=False, with_std=True)\n",
    "    scaler.fit(data[mask])\n",
    "    standardized=scaler.transform(data)\n",
    "    return standardized\n",
    "\n",
    "# redefined function from util to only generate standardized betamaps\n",
    "def case_control(p,case,regressors,conn):\n",
    "    \"\"\"\n",
    "    pheno = dataframe:\n",
    "        -filtered to be only relevant subjects for case control (use mask_cc)\n",
    "        -case column is onehot encoded\n",
    "    case = column from pheno\n",
    "    regressors = list of strings, formatted for patsy\n",
    "    connectomes = n_subjects x n_edges array\n",
    "    \n",
    "    Returns:\n",
    "    table = n_edges\n",
    "        - betas_std = including standardization on controls\n",
    "        - pvalues = pvalues\n",
    "        - qvalues = fdr corrected pvalues alpha = 0.05\n",
    "    \"\"\"\n",
    "    n_edges = conn.shape[1]\n",
    "\n",
    "    betas_std = np.zeros(n_edges)\n",
    "\n",
    "    formula = ' + '.join((regressors + [case]))\n",
    "    dmat = pat.dmatrix(formula, p, return_type='dataframe',NA_action='raise')\n",
    "    \n",
    "    mask_std = ~p[case].to_numpy(dtype=bool)\n",
    "    conn_std = standardize(mask_std, conn)\n",
    "    \n",
    "    for edge in range(n_edges):\n",
    "        model_std = sm.OLS(conn_std[:,edge],dmat)\n",
    "        results_std = model_std.fit()\n",
    "        betas_std[edge] = results_std.params[case]\n",
    "    \n",
    "    table = pd.DataFrame(np.array([betas_std]).transpose(),\n",
    "                         columns=['betas_std'])\n",
    "    return table"
   ]
  },
  {
   "cell_type": "markdown",
   "metadata": {},
   "source": [
    "# Load Data"
   ]
  },
  {
   "cell_type": "code",
   "execution_count": 14,
   "metadata": {},
   "outputs": [
    {
     "name": "stderr",
     "output_type": "stream",
     "text": [
      "/var/folders/5x/9dwn0lbx633gccy22ts5bskh0000gn/T/ipykernel_70302/3622504503.py:2: DtypeWarning: Columns (7,8,12,13,14,19,20,24,27,31,42,43,44,49,51,59,60,62,64,65,68,101,121,163) have mixed types. Specify dtype option on import or set low_memory=False.\n",
      "  pheno = pd.read_csv(path_pheno,index_col=0)\n"
     ]
    }
   ],
   "source": [
    "path_pheno = '/Users/harveyaa/Documents/masters/data/pheno_26-01-22.csv'\n",
    "pheno = pd.read_csv(path_pheno,index_col=0)"
   ]
  },
  {
   "cell_type": "code",
   "execution_count": 4,
   "metadata": {},
   "outputs": [],
   "source": [
    "path_conn = '/Users/harveyaa/Documents/masters/data/connectomes_01-12-21.csv'\n",
    "conn = pd.read_csv(path_conn,index_col=0)"
   ]
  },
  {
   "cell_type": "code",
   "execution_count": 15,
   "metadata": {},
   "outputs": [],
   "source": [
    "age_sites = ['USM',\n",
    "        'SZ3',\n",
    "        'SZ6',\n",
    "        'Svip2',\n",
    "        'ADHD6',\n",
    "        'HSJ',\n",
    "        'SZ2',\n",
    "        'SZ1',\n",
    "        'UCLA_CB',\n",
    "        'Svip1',\n",
    "        'UKBB11026',\n",
    "        'UKBB11027',\n",
    "        'UKBB11025',\n",
    "        'ADHD1',\n",
    "        'ADHD3',\n",
    "        'NYU',\n",
    "        'ADHD5',\n",
    "        'UCLA_DS1']\n",
    "\n",
    "path_ids = '/Users/harveyaa/Documents/masters/neuropsych_mtl/datasets/cv_folds/age_sex/'"
   ]
  },
  {
   "cell_type": "code",
   "execution_count": 16,
   "metadata": {},
   "outputs": [],
   "source": [
    "site_ids = []\n",
    "for site in age_sites:\n",
    "    if site[:4] == 'UKBB':\n",
    "        site = site+'_50'\n",
    "    ids = pd.read_csv(os.path.join(path_ids, f\"{site}.csv\"),index_col=0).index\n",
    "    site_ids.append(ids)\n",
    "site_ids = dict(zip(age_sites,site_ids))"
   ]
  },
  {
   "cell_type": "markdown",
   "metadata": {},
   "source": [
    "# Calculate ES (by site)"
   ]
  },
  {
   "cell_type": "code",
   "execution_count": 17,
   "metadata": {},
   "outputs": [
    {
     "name": "stderr",
     "output_type": "stream",
     "text": [
      "/var/folders/5x/9dwn0lbx633gccy22ts5bskh0000gn/T/ipykernel_70302/3509714646.py:8: SettingWithCopyWarning: \n",
      "A value is trying to be set on a copy of a slice from a DataFrame\n",
      "\n",
      "See the caveats in the documentation: https://pandas.pydata.org/pandas-docs/stable/user_guide/indexing.html#returning-a-view-versus-a-copy\n",
      "  pheno_site.sort_values('AGE',inplace=True)\n",
      "/var/folders/5x/9dwn0lbx633gccy22ts5bskh0000gn/T/ipykernel_70302/3509714646.py:9: SettingWithCopyWarning: \n",
      "A value is trying to be set on a copy of a slice from a DataFrame.\n",
      "Try using .loc[row_indexer,col_indexer] = value instead\n",
      "\n",
      "See the caveats in the documentation: https://pandas.pydata.org/pandas-docs/stable/user_guide/indexing.html#returning-a-view-versus-a-copy\n",
      "  pheno_site['AGE_01'] = n_young*[0]+(len(pheno_site)-n_young)*[1]\n",
      "/var/folders/5x/9dwn0lbx633gccy22ts5bskh0000gn/T/ipykernel_70302/3509714646.py:10: SettingWithCopyWarning: \n",
      "A value is trying to be set on a copy of a slice from a DataFrame\n",
      "\n",
      "See the caveats in the documentation: https://pandas.pydata.org/pandas-docs/stable/user_guide/indexing.html#returning-a-view-versus-a-copy\n",
      "  pheno_site.sort_index(inplace=True)\n",
      "/var/folders/5x/9dwn0lbx633gccy22ts5bskh0000gn/T/ipykernel_70302/3509714646.py:8: SettingWithCopyWarning: \n",
      "A value is trying to be set on a copy of a slice from a DataFrame\n",
      "\n",
      "See the caveats in the documentation: https://pandas.pydata.org/pandas-docs/stable/user_guide/indexing.html#returning-a-view-versus-a-copy\n",
      "  pheno_site.sort_values('AGE',inplace=True)\n",
      "/var/folders/5x/9dwn0lbx633gccy22ts5bskh0000gn/T/ipykernel_70302/3509714646.py:9: SettingWithCopyWarning: \n",
      "A value is trying to be set on a copy of a slice from a DataFrame.\n",
      "Try using .loc[row_indexer,col_indexer] = value instead\n",
      "\n",
      "See the caveats in the documentation: https://pandas.pydata.org/pandas-docs/stable/user_guide/indexing.html#returning-a-view-versus-a-copy\n",
      "  pheno_site['AGE_01'] = n_young*[0]+(len(pheno_site)-n_young)*[1]\n",
      "/var/folders/5x/9dwn0lbx633gccy22ts5bskh0000gn/T/ipykernel_70302/3509714646.py:10: SettingWithCopyWarning: \n",
      "A value is trying to be set on a copy of a slice from a DataFrame\n",
      "\n",
      "See the caveats in the documentation: https://pandas.pydata.org/pandas-docs/stable/user_guide/indexing.html#returning-a-view-versus-a-copy\n",
      "  pheno_site.sort_index(inplace=True)\n",
      "/var/folders/5x/9dwn0lbx633gccy22ts5bskh0000gn/T/ipykernel_70302/3509714646.py:8: SettingWithCopyWarning: \n",
      "A value is trying to be set on a copy of a slice from a DataFrame\n",
      "\n",
      "See the caveats in the documentation: https://pandas.pydata.org/pandas-docs/stable/user_guide/indexing.html#returning-a-view-versus-a-copy\n",
      "  pheno_site.sort_values('AGE',inplace=True)\n",
      "/var/folders/5x/9dwn0lbx633gccy22ts5bskh0000gn/T/ipykernel_70302/3509714646.py:9: SettingWithCopyWarning: \n",
      "A value is trying to be set on a copy of a slice from a DataFrame.\n",
      "Try using .loc[row_indexer,col_indexer] = value instead\n",
      "\n",
      "See the caveats in the documentation: https://pandas.pydata.org/pandas-docs/stable/user_guide/indexing.html#returning-a-view-versus-a-copy\n",
      "  pheno_site['AGE_01'] = n_young*[0]+(len(pheno_site)-n_young)*[1]\n",
      "/var/folders/5x/9dwn0lbx633gccy22ts5bskh0000gn/T/ipykernel_70302/3509714646.py:10: SettingWithCopyWarning: \n",
      "A value is trying to be set on a copy of a slice from a DataFrame\n",
      "\n",
      "See the caveats in the documentation: https://pandas.pydata.org/pandas-docs/stable/user_guide/indexing.html#returning-a-view-versus-a-copy\n",
      "  pheno_site.sort_index(inplace=True)\n",
      "/var/folders/5x/9dwn0lbx633gccy22ts5bskh0000gn/T/ipykernel_70302/3509714646.py:8: SettingWithCopyWarning: \n",
      "A value is trying to be set on a copy of a slice from a DataFrame\n",
      "\n",
      "See the caveats in the documentation: https://pandas.pydata.org/pandas-docs/stable/user_guide/indexing.html#returning-a-view-versus-a-copy\n",
      "  pheno_site.sort_values('AGE',inplace=True)\n",
      "/var/folders/5x/9dwn0lbx633gccy22ts5bskh0000gn/T/ipykernel_70302/3509714646.py:9: SettingWithCopyWarning: \n",
      "A value is trying to be set on a copy of a slice from a DataFrame.\n",
      "Try using .loc[row_indexer,col_indexer] = value instead\n",
      "\n",
      "See the caveats in the documentation: https://pandas.pydata.org/pandas-docs/stable/user_guide/indexing.html#returning-a-view-versus-a-copy\n",
      "  pheno_site['AGE_01'] = n_young*[0]+(len(pheno_site)-n_young)*[1]\n",
      "/var/folders/5x/9dwn0lbx633gccy22ts5bskh0000gn/T/ipykernel_70302/3509714646.py:10: SettingWithCopyWarning: \n",
      "A value is trying to be set on a copy of a slice from a DataFrame\n",
      "\n",
      "See the caveats in the documentation: https://pandas.pydata.org/pandas-docs/stable/user_guide/indexing.html#returning-a-view-versus-a-copy\n",
      "  pheno_site.sort_index(inplace=True)\n",
      "/var/folders/5x/9dwn0lbx633gccy22ts5bskh0000gn/T/ipykernel_70302/3509714646.py:8: SettingWithCopyWarning: \n",
      "A value is trying to be set on a copy of a slice from a DataFrame\n",
      "\n",
      "See the caveats in the documentation: https://pandas.pydata.org/pandas-docs/stable/user_guide/indexing.html#returning-a-view-versus-a-copy\n",
      "  pheno_site.sort_values('AGE',inplace=True)\n",
      "/var/folders/5x/9dwn0lbx633gccy22ts5bskh0000gn/T/ipykernel_70302/3509714646.py:9: SettingWithCopyWarning: \n",
      "A value is trying to be set on a copy of a slice from a DataFrame.\n",
      "Try using .loc[row_indexer,col_indexer] = value instead\n",
      "\n",
      "See the caveats in the documentation: https://pandas.pydata.org/pandas-docs/stable/user_guide/indexing.html#returning-a-view-versus-a-copy\n",
      "  pheno_site['AGE_01'] = n_young*[0]+(len(pheno_site)-n_young)*[1]\n",
      "/var/folders/5x/9dwn0lbx633gccy22ts5bskh0000gn/T/ipykernel_70302/3509714646.py:10: SettingWithCopyWarning: \n",
      "A value is trying to be set on a copy of a slice from a DataFrame\n",
      "\n",
      "See the caveats in the documentation: https://pandas.pydata.org/pandas-docs/stable/user_guide/indexing.html#returning-a-view-versus-a-copy\n",
      "  pheno_site.sort_index(inplace=True)\n",
      "/var/folders/5x/9dwn0lbx633gccy22ts5bskh0000gn/T/ipykernel_70302/3509714646.py:8: SettingWithCopyWarning: \n",
      "A value is trying to be set on a copy of a slice from a DataFrame\n",
      "\n",
      "See the caveats in the documentation: https://pandas.pydata.org/pandas-docs/stable/user_guide/indexing.html#returning-a-view-versus-a-copy\n",
      "  pheno_site.sort_values('AGE',inplace=True)\n",
      "/var/folders/5x/9dwn0lbx633gccy22ts5bskh0000gn/T/ipykernel_70302/3509714646.py:9: SettingWithCopyWarning: \n",
      "A value is trying to be set on a copy of a slice from a DataFrame.\n",
      "Try using .loc[row_indexer,col_indexer] = value instead\n",
      "\n",
      "See the caveats in the documentation: https://pandas.pydata.org/pandas-docs/stable/user_guide/indexing.html#returning-a-view-versus-a-copy\n",
      "  pheno_site['AGE_01'] = n_young*[0]+(len(pheno_site)-n_young)*[1]\n",
      "/var/folders/5x/9dwn0lbx633gccy22ts5bskh0000gn/T/ipykernel_70302/3509714646.py:10: SettingWithCopyWarning: \n",
      "A value is trying to be set on a copy of a slice from a DataFrame\n",
      "\n",
      "See the caveats in the documentation: https://pandas.pydata.org/pandas-docs/stable/user_guide/indexing.html#returning-a-view-versus-a-copy\n",
      "  pheno_site.sort_index(inplace=True)\n",
      "/var/folders/5x/9dwn0lbx633gccy22ts5bskh0000gn/T/ipykernel_70302/3509714646.py:8: SettingWithCopyWarning: \n",
      "A value is trying to be set on a copy of a slice from a DataFrame\n",
      "\n",
      "See the caveats in the documentation: https://pandas.pydata.org/pandas-docs/stable/user_guide/indexing.html#returning-a-view-versus-a-copy\n",
      "  pheno_site.sort_values('AGE',inplace=True)\n",
      "/var/folders/5x/9dwn0lbx633gccy22ts5bskh0000gn/T/ipykernel_70302/3509714646.py:9: SettingWithCopyWarning: \n",
      "A value is trying to be set on a copy of a slice from a DataFrame.\n",
      "Try using .loc[row_indexer,col_indexer] = value instead\n",
      "\n",
      "See the caveats in the documentation: https://pandas.pydata.org/pandas-docs/stable/user_guide/indexing.html#returning-a-view-versus-a-copy\n",
      "  pheno_site['AGE_01'] = n_young*[0]+(len(pheno_site)-n_young)*[1]\n",
      "/var/folders/5x/9dwn0lbx633gccy22ts5bskh0000gn/T/ipykernel_70302/3509714646.py:10: SettingWithCopyWarning: \n",
      "A value is trying to be set on a copy of a slice from a DataFrame\n",
      "\n",
      "See the caveats in the documentation: https://pandas.pydata.org/pandas-docs/stable/user_guide/indexing.html#returning-a-view-versus-a-copy\n",
      "  pheno_site.sort_index(inplace=True)\n",
      "/var/folders/5x/9dwn0lbx633gccy22ts5bskh0000gn/T/ipykernel_70302/3509714646.py:8: SettingWithCopyWarning: \n",
      "A value is trying to be set on a copy of a slice from a DataFrame\n",
      "\n",
      "See the caveats in the documentation: https://pandas.pydata.org/pandas-docs/stable/user_guide/indexing.html#returning-a-view-versus-a-copy\n",
      "  pheno_site.sort_values('AGE',inplace=True)\n",
      "/var/folders/5x/9dwn0lbx633gccy22ts5bskh0000gn/T/ipykernel_70302/3509714646.py:9: SettingWithCopyWarning: \n",
      "A value is trying to be set on a copy of a slice from a DataFrame.\n",
      "Try using .loc[row_indexer,col_indexer] = value instead\n",
      "\n",
      "See the caveats in the documentation: https://pandas.pydata.org/pandas-docs/stable/user_guide/indexing.html#returning-a-view-versus-a-copy\n",
      "  pheno_site['AGE_01'] = n_young*[0]+(len(pheno_site)-n_young)*[1]\n",
      "/var/folders/5x/9dwn0lbx633gccy22ts5bskh0000gn/T/ipykernel_70302/3509714646.py:10: SettingWithCopyWarning: \n",
      "A value is trying to be set on a copy of a slice from a DataFrame\n",
      "\n",
      "See the caveats in the documentation: https://pandas.pydata.org/pandas-docs/stable/user_guide/indexing.html#returning-a-view-versus-a-copy\n",
      "  pheno_site.sort_index(inplace=True)\n",
      "/var/folders/5x/9dwn0lbx633gccy22ts5bskh0000gn/T/ipykernel_70302/3509714646.py:8: SettingWithCopyWarning: \n",
      "A value is trying to be set on a copy of a slice from a DataFrame\n",
      "\n",
      "See the caveats in the documentation: https://pandas.pydata.org/pandas-docs/stable/user_guide/indexing.html#returning-a-view-versus-a-copy\n",
      "  pheno_site.sort_values('AGE',inplace=True)\n",
      "/var/folders/5x/9dwn0lbx633gccy22ts5bskh0000gn/T/ipykernel_70302/3509714646.py:9: SettingWithCopyWarning: \n",
      "A value is trying to be set on a copy of a slice from a DataFrame.\n",
      "Try using .loc[row_indexer,col_indexer] = value instead\n",
      "\n",
      "See the caveats in the documentation: https://pandas.pydata.org/pandas-docs/stable/user_guide/indexing.html#returning-a-view-versus-a-copy\n",
      "  pheno_site['AGE_01'] = n_young*[0]+(len(pheno_site)-n_young)*[1]\n",
      "/var/folders/5x/9dwn0lbx633gccy22ts5bskh0000gn/T/ipykernel_70302/3509714646.py:10: SettingWithCopyWarning: \n",
      "A value is trying to be set on a copy of a slice from a DataFrame\n",
      "\n",
      "See the caveats in the documentation: https://pandas.pydata.org/pandas-docs/stable/user_guide/indexing.html#returning-a-view-versus-a-copy\n",
      "  pheno_site.sort_index(inplace=True)\n",
      "/var/folders/5x/9dwn0lbx633gccy22ts5bskh0000gn/T/ipykernel_70302/3509714646.py:8: SettingWithCopyWarning: \n",
      "A value is trying to be set on a copy of a slice from a DataFrame\n",
      "\n",
      "See the caveats in the documentation: https://pandas.pydata.org/pandas-docs/stable/user_guide/indexing.html#returning-a-view-versus-a-copy\n",
      "  pheno_site.sort_values('AGE',inplace=True)\n",
      "/var/folders/5x/9dwn0lbx633gccy22ts5bskh0000gn/T/ipykernel_70302/3509714646.py:9: SettingWithCopyWarning: \n",
      "A value is trying to be set on a copy of a slice from a DataFrame.\n",
      "Try using .loc[row_indexer,col_indexer] = value instead\n",
      "\n",
      "See the caveats in the documentation: https://pandas.pydata.org/pandas-docs/stable/user_guide/indexing.html#returning-a-view-versus-a-copy\n",
      "  pheno_site['AGE_01'] = n_young*[0]+(len(pheno_site)-n_young)*[1]\n",
      "/var/folders/5x/9dwn0lbx633gccy22ts5bskh0000gn/T/ipykernel_70302/3509714646.py:10: SettingWithCopyWarning: \n",
      "A value is trying to be set on a copy of a slice from a DataFrame\n",
      "\n",
      "See the caveats in the documentation: https://pandas.pydata.org/pandas-docs/stable/user_guide/indexing.html#returning-a-view-versus-a-copy\n",
      "  pheno_site.sort_index(inplace=True)\n",
      "/var/folders/5x/9dwn0lbx633gccy22ts5bskh0000gn/T/ipykernel_70302/3509714646.py:8: SettingWithCopyWarning: \n",
      "A value is trying to be set on a copy of a slice from a DataFrame\n",
      "\n",
      "See the caveats in the documentation: https://pandas.pydata.org/pandas-docs/stable/user_guide/indexing.html#returning-a-view-versus-a-copy\n",
      "  pheno_site.sort_values('AGE',inplace=True)\n",
      "/var/folders/5x/9dwn0lbx633gccy22ts5bskh0000gn/T/ipykernel_70302/3509714646.py:9: SettingWithCopyWarning: \n",
      "A value is trying to be set on a copy of a slice from a DataFrame.\n",
      "Try using .loc[row_indexer,col_indexer] = value instead\n",
      "\n",
      "See the caveats in the documentation: https://pandas.pydata.org/pandas-docs/stable/user_guide/indexing.html#returning-a-view-versus-a-copy\n",
      "  pheno_site['AGE_01'] = n_young*[0]+(len(pheno_site)-n_young)*[1]\n",
      "/var/folders/5x/9dwn0lbx633gccy22ts5bskh0000gn/T/ipykernel_70302/3509714646.py:10: SettingWithCopyWarning: \n",
      "A value is trying to be set on a copy of a slice from a DataFrame\n",
      "\n",
      "See the caveats in the documentation: https://pandas.pydata.org/pandas-docs/stable/user_guide/indexing.html#returning-a-view-versus-a-copy\n",
      "  pheno_site.sort_index(inplace=True)\n",
      "/var/folders/5x/9dwn0lbx633gccy22ts5bskh0000gn/T/ipykernel_70302/3509714646.py:8: SettingWithCopyWarning: \n",
      "A value is trying to be set on a copy of a slice from a DataFrame\n",
      "\n",
      "See the caveats in the documentation: https://pandas.pydata.org/pandas-docs/stable/user_guide/indexing.html#returning-a-view-versus-a-copy\n",
      "  pheno_site.sort_values('AGE',inplace=True)\n",
      "/var/folders/5x/9dwn0lbx633gccy22ts5bskh0000gn/T/ipykernel_70302/3509714646.py:9: SettingWithCopyWarning: \n",
      "A value is trying to be set on a copy of a slice from a DataFrame.\n",
      "Try using .loc[row_indexer,col_indexer] = value instead\n",
      "\n",
      "See the caveats in the documentation: https://pandas.pydata.org/pandas-docs/stable/user_guide/indexing.html#returning-a-view-versus-a-copy\n",
      "  pheno_site['AGE_01'] = n_young*[0]+(len(pheno_site)-n_young)*[1]\n",
      "/var/folders/5x/9dwn0lbx633gccy22ts5bskh0000gn/T/ipykernel_70302/3509714646.py:10: SettingWithCopyWarning: \n",
      "A value is trying to be set on a copy of a slice from a DataFrame\n",
      "\n",
      "See the caveats in the documentation: https://pandas.pydata.org/pandas-docs/stable/user_guide/indexing.html#returning-a-view-versus-a-copy\n",
      "  pheno_site.sort_index(inplace=True)\n",
      "/var/folders/5x/9dwn0lbx633gccy22ts5bskh0000gn/T/ipykernel_70302/3509714646.py:8: SettingWithCopyWarning: \n",
      "A value is trying to be set on a copy of a slice from a DataFrame\n",
      "\n",
      "See the caveats in the documentation: https://pandas.pydata.org/pandas-docs/stable/user_guide/indexing.html#returning-a-view-versus-a-copy\n",
      "  pheno_site.sort_values('AGE',inplace=True)\n",
      "/var/folders/5x/9dwn0lbx633gccy22ts5bskh0000gn/T/ipykernel_70302/3509714646.py:9: SettingWithCopyWarning: \n",
      "A value is trying to be set on a copy of a slice from a DataFrame.\n",
      "Try using .loc[row_indexer,col_indexer] = value instead\n",
      "\n",
      "See the caveats in the documentation: https://pandas.pydata.org/pandas-docs/stable/user_guide/indexing.html#returning-a-view-versus-a-copy\n",
      "  pheno_site['AGE_01'] = n_young*[0]+(len(pheno_site)-n_young)*[1]\n",
      "/var/folders/5x/9dwn0lbx633gccy22ts5bskh0000gn/T/ipykernel_70302/3509714646.py:10: SettingWithCopyWarning: \n",
      "A value is trying to be set on a copy of a slice from a DataFrame\n",
      "\n",
      "See the caveats in the documentation: https://pandas.pydata.org/pandas-docs/stable/user_guide/indexing.html#returning-a-view-versus-a-copy\n",
      "  pheno_site.sort_index(inplace=True)\n",
      "/var/folders/5x/9dwn0lbx633gccy22ts5bskh0000gn/T/ipykernel_70302/3509714646.py:8: SettingWithCopyWarning: \n",
      "A value is trying to be set on a copy of a slice from a DataFrame\n",
      "\n",
      "See the caveats in the documentation: https://pandas.pydata.org/pandas-docs/stable/user_guide/indexing.html#returning-a-view-versus-a-copy\n",
      "  pheno_site.sort_values('AGE',inplace=True)\n",
      "/var/folders/5x/9dwn0lbx633gccy22ts5bskh0000gn/T/ipykernel_70302/3509714646.py:9: SettingWithCopyWarning: \n",
      "A value is trying to be set on a copy of a slice from a DataFrame.\n",
      "Try using .loc[row_indexer,col_indexer] = value instead\n",
      "\n",
      "See the caveats in the documentation: https://pandas.pydata.org/pandas-docs/stable/user_guide/indexing.html#returning-a-view-versus-a-copy\n",
      "  pheno_site['AGE_01'] = n_young*[0]+(len(pheno_site)-n_young)*[1]\n",
      "/var/folders/5x/9dwn0lbx633gccy22ts5bskh0000gn/T/ipykernel_70302/3509714646.py:10: SettingWithCopyWarning: \n",
      "A value is trying to be set on a copy of a slice from a DataFrame\n",
      "\n",
      "See the caveats in the documentation: https://pandas.pydata.org/pandas-docs/stable/user_guide/indexing.html#returning-a-view-versus-a-copy\n",
      "  pheno_site.sort_index(inplace=True)\n",
      "/var/folders/5x/9dwn0lbx633gccy22ts5bskh0000gn/T/ipykernel_70302/3509714646.py:8: SettingWithCopyWarning: \n",
      "A value is trying to be set on a copy of a slice from a DataFrame\n",
      "\n",
      "See the caveats in the documentation: https://pandas.pydata.org/pandas-docs/stable/user_guide/indexing.html#returning-a-view-versus-a-copy\n",
      "  pheno_site.sort_values('AGE',inplace=True)\n",
      "/var/folders/5x/9dwn0lbx633gccy22ts5bskh0000gn/T/ipykernel_70302/3509714646.py:9: SettingWithCopyWarning: \n",
      "A value is trying to be set on a copy of a slice from a DataFrame.\n",
      "Try using .loc[row_indexer,col_indexer] = value instead\n",
      "\n",
      "See the caveats in the documentation: https://pandas.pydata.org/pandas-docs/stable/user_guide/indexing.html#returning-a-view-versus-a-copy\n",
      "  pheno_site['AGE_01'] = n_young*[0]+(len(pheno_site)-n_young)*[1]\n",
      "/var/folders/5x/9dwn0lbx633gccy22ts5bskh0000gn/T/ipykernel_70302/3509714646.py:10: SettingWithCopyWarning: \n",
      "A value is trying to be set on a copy of a slice from a DataFrame\n",
      "\n",
      "See the caveats in the documentation: https://pandas.pydata.org/pandas-docs/stable/user_guide/indexing.html#returning-a-view-versus-a-copy\n",
      "  pheno_site.sort_index(inplace=True)\n",
      "/var/folders/5x/9dwn0lbx633gccy22ts5bskh0000gn/T/ipykernel_70302/3509714646.py:8: SettingWithCopyWarning: \n",
      "A value is trying to be set on a copy of a slice from a DataFrame\n",
      "\n",
      "See the caveats in the documentation: https://pandas.pydata.org/pandas-docs/stable/user_guide/indexing.html#returning-a-view-versus-a-copy\n",
      "  pheno_site.sort_values('AGE',inplace=True)\n",
      "/var/folders/5x/9dwn0lbx633gccy22ts5bskh0000gn/T/ipykernel_70302/3509714646.py:9: SettingWithCopyWarning: \n",
      "A value is trying to be set on a copy of a slice from a DataFrame.\n",
      "Try using .loc[row_indexer,col_indexer] = value instead\n",
      "\n",
      "See the caveats in the documentation: https://pandas.pydata.org/pandas-docs/stable/user_guide/indexing.html#returning-a-view-versus-a-copy\n",
      "  pheno_site['AGE_01'] = n_young*[0]+(len(pheno_site)-n_young)*[1]\n",
      "/var/folders/5x/9dwn0lbx633gccy22ts5bskh0000gn/T/ipykernel_70302/3509714646.py:10: SettingWithCopyWarning: \n",
      "A value is trying to be set on a copy of a slice from a DataFrame\n",
      "\n",
      "See the caveats in the documentation: https://pandas.pydata.org/pandas-docs/stable/user_guide/indexing.html#returning-a-view-versus-a-copy\n",
      "  pheno_site.sort_index(inplace=True)\n",
      "/var/folders/5x/9dwn0lbx633gccy22ts5bskh0000gn/T/ipykernel_70302/3509714646.py:8: SettingWithCopyWarning: \n",
      "A value is trying to be set on a copy of a slice from a DataFrame\n",
      "\n",
      "See the caveats in the documentation: https://pandas.pydata.org/pandas-docs/stable/user_guide/indexing.html#returning-a-view-versus-a-copy\n",
      "  pheno_site.sort_values('AGE',inplace=True)\n",
      "/var/folders/5x/9dwn0lbx633gccy22ts5bskh0000gn/T/ipykernel_70302/3509714646.py:9: SettingWithCopyWarning: \n",
      "A value is trying to be set on a copy of a slice from a DataFrame.\n",
      "Try using .loc[row_indexer,col_indexer] = value instead\n",
      "\n",
      "See the caveats in the documentation: https://pandas.pydata.org/pandas-docs/stable/user_guide/indexing.html#returning-a-view-versus-a-copy\n",
      "  pheno_site['AGE_01'] = n_young*[0]+(len(pheno_site)-n_young)*[1]\n",
      "/var/folders/5x/9dwn0lbx633gccy22ts5bskh0000gn/T/ipykernel_70302/3509714646.py:10: SettingWithCopyWarning: \n",
      "A value is trying to be set on a copy of a slice from a DataFrame\n",
      "\n",
      "See the caveats in the documentation: https://pandas.pydata.org/pandas-docs/stable/user_guide/indexing.html#returning-a-view-versus-a-copy\n",
      "  pheno_site.sort_index(inplace=True)\n",
      "/var/folders/5x/9dwn0lbx633gccy22ts5bskh0000gn/T/ipykernel_70302/3509714646.py:8: SettingWithCopyWarning: \n",
      "A value is trying to be set on a copy of a slice from a DataFrame\n",
      "\n",
      "See the caveats in the documentation: https://pandas.pydata.org/pandas-docs/stable/user_guide/indexing.html#returning-a-view-versus-a-copy\n",
      "  pheno_site.sort_values('AGE',inplace=True)\n",
      "/var/folders/5x/9dwn0lbx633gccy22ts5bskh0000gn/T/ipykernel_70302/3509714646.py:9: SettingWithCopyWarning: \n",
      "A value is trying to be set on a copy of a slice from a DataFrame.\n",
      "Try using .loc[row_indexer,col_indexer] = value instead\n",
      "\n",
      "See the caveats in the documentation: https://pandas.pydata.org/pandas-docs/stable/user_guide/indexing.html#returning-a-view-versus-a-copy\n",
      "  pheno_site['AGE_01'] = n_young*[0]+(len(pheno_site)-n_young)*[1]\n",
      "/var/folders/5x/9dwn0lbx633gccy22ts5bskh0000gn/T/ipykernel_70302/3509714646.py:10: SettingWithCopyWarning: \n",
      "A value is trying to be set on a copy of a slice from a DataFrame\n",
      "\n",
      "See the caveats in the documentation: https://pandas.pydata.org/pandas-docs/stable/user_guide/indexing.html#returning-a-view-versus-a-copy\n",
      "  pheno_site.sort_index(inplace=True)\n"
     ]
    }
   ],
   "source": [
    "regressors = ['C(SEX)','FD_scrubbed', 'mean_conn']\n",
    "\n",
    "age_mtd = []\n",
    "for site in age_sites:\n",
    "\n",
    "    pheno_site = pheno.loc[pheno.index.isin(site_ids[site])]\n",
    "    n_young = int(len(pheno_site)/2)\n",
    "    pheno_site.sort_values('AGE',inplace=True)\n",
    "    pheno_site['AGE_01'] = n_young*[0]+(len(pheno_site)-n_young)*[1]\n",
    "    pheno_site.sort_index(inplace=True)\n",
    "\n",
    "    betamap = case_control(pheno_site,\n",
    "                'AGE_01',\n",
    "                regressors,\n",
    "                conn.loc[conn.index.isin(site_ids[site])].values)['betas_std']\n",
    "\n",
    "    rank = pd.qcut(betamap.abs(),10,labels=False)\n",
    "    decile_idx = rank[rank==9].index\n",
    "    mtd = np.mean(betamap.abs()[decile_idx])\n",
    "    age_mtd.append(mtd)\n",
    "df_mtd = pd.DataFrame(age_mtd,index=age_sites,columns=['mtd'])"
   ]
  },
  {
   "cell_type": "code",
   "execution_count": 21,
   "metadata": {},
   "outputs": [
    {
     "name": "stdout",
     "output_type": "stream",
     "text": [
      "USM   2\n"
     ]
    },
    {
     "name": "stderr",
     "output_type": "stream",
     "text": [
      "/var/folders/5x/9dwn0lbx633gccy22ts5bskh0000gn/T/ipykernel_70302/610918058.py:10: SettingWithCopyWarning: \n",
      "A value is trying to be set on a copy of a slice from a DataFrame\n",
      "\n",
      "See the caveats in the documentation: https://pandas.pydata.org/pandas-docs/stable/user_guide/indexing.html#returning-a-view-versus-a-copy\n",
      "  pheno_site.sort_values('AGE',inplace=True)\n",
      "/var/folders/5x/9dwn0lbx633gccy22ts5bskh0000gn/T/ipykernel_70302/610918058.py:11: SettingWithCopyWarning: \n",
      "A value is trying to be set on a copy of a slice from a DataFrame.\n",
      "Try using .loc[row_indexer,col_indexer] = value instead\n",
      "\n",
      "See the caveats in the documentation: https://pandas.pydata.org/pandas-docs/stable/user_guide/indexing.html#returning-a-view-versus-a-copy\n",
      "  pheno_site['AGE_01'] = n_young*[0]+(len(pheno_site)-n_young)*[1]\n",
      "/var/folders/5x/9dwn0lbx633gccy22ts5bskh0000gn/T/ipykernel_70302/610918058.py:12: SettingWithCopyWarning: \n",
      "A value is trying to be set on a copy of a slice from a DataFrame\n",
      "\n",
      "See the caveats in the documentation: https://pandas.pydata.org/pandas-docs/stable/user_guide/indexing.html#returning-a-view-versus-a-copy\n",
      "  pheno_site.sort_index(inplace=True)\n"
     ]
    },
    {
     "name": "stdout",
     "output_type": "stream",
     "text": [
      "SZ3   2\n"
     ]
    },
    {
     "name": "stderr",
     "output_type": "stream",
     "text": [
      "/var/folders/5x/9dwn0lbx633gccy22ts5bskh0000gn/T/ipykernel_70302/610918058.py:10: SettingWithCopyWarning: \n",
      "A value is trying to be set on a copy of a slice from a DataFrame\n",
      "\n",
      "See the caveats in the documentation: https://pandas.pydata.org/pandas-docs/stable/user_guide/indexing.html#returning-a-view-versus-a-copy\n",
      "  pheno_site.sort_values('AGE',inplace=True)\n",
      "/var/folders/5x/9dwn0lbx633gccy22ts5bskh0000gn/T/ipykernel_70302/610918058.py:11: SettingWithCopyWarning: \n",
      "A value is trying to be set on a copy of a slice from a DataFrame.\n",
      "Try using .loc[row_indexer,col_indexer] = value instead\n",
      "\n",
      "See the caveats in the documentation: https://pandas.pydata.org/pandas-docs/stable/user_guide/indexing.html#returning-a-view-versus-a-copy\n",
      "  pheno_site['AGE_01'] = n_young*[0]+(len(pheno_site)-n_young)*[1]\n",
      "/var/folders/5x/9dwn0lbx633gccy22ts5bskh0000gn/T/ipykernel_70302/610918058.py:12: SettingWithCopyWarning: \n",
      "A value is trying to be set on a copy of a slice from a DataFrame\n",
      "\n",
      "See the caveats in the documentation: https://pandas.pydata.org/pandas-docs/stable/user_guide/indexing.html#returning-a-view-versus-a-copy\n",
      "  pheno_site.sort_index(inplace=True)\n"
     ]
    },
    {
     "name": "stdout",
     "output_type": "stream",
     "text": [
      "SZ6   2\n"
     ]
    },
    {
     "name": "stderr",
     "output_type": "stream",
     "text": [
      "/var/folders/5x/9dwn0lbx633gccy22ts5bskh0000gn/T/ipykernel_70302/610918058.py:10: SettingWithCopyWarning: \n",
      "A value is trying to be set on a copy of a slice from a DataFrame\n",
      "\n",
      "See the caveats in the documentation: https://pandas.pydata.org/pandas-docs/stable/user_guide/indexing.html#returning-a-view-versus-a-copy\n",
      "  pheno_site.sort_values('AGE',inplace=True)\n",
      "/var/folders/5x/9dwn0lbx633gccy22ts5bskh0000gn/T/ipykernel_70302/610918058.py:11: SettingWithCopyWarning: \n",
      "A value is trying to be set on a copy of a slice from a DataFrame.\n",
      "Try using .loc[row_indexer,col_indexer] = value instead\n",
      "\n",
      "See the caveats in the documentation: https://pandas.pydata.org/pandas-docs/stable/user_guide/indexing.html#returning-a-view-versus-a-copy\n",
      "  pheno_site['AGE_01'] = n_young*[0]+(len(pheno_site)-n_young)*[1]\n",
      "/var/folders/5x/9dwn0lbx633gccy22ts5bskh0000gn/T/ipykernel_70302/610918058.py:12: SettingWithCopyWarning: \n",
      "A value is trying to be set on a copy of a slice from a DataFrame\n",
      "\n",
      "See the caveats in the documentation: https://pandas.pydata.org/pandas-docs/stable/user_guide/indexing.html#returning-a-view-versus-a-copy\n",
      "  pheno_site.sort_index(inplace=True)\n"
     ]
    },
    {
     "name": "stdout",
     "output_type": "stream",
     "text": [
      "Svip2   2\n"
     ]
    },
    {
     "name": "stderr",
     "output_type": "stream",
     "text": [
      "/var/folders/5x/9dwn0lbx633gccy22ts5bskh0000gn/T/ipykernel_70302/610918058.py:10: SettingWithCopyWarning: \n",
      "A value is trying to be set on a copy of a slice from a DataFrame\n",
      "\n",
      "See the caveats in the documentation: https://pandas.pydata.org/pandas-docs/stable/user_guide/indexing.html#returning-a-view-versus-a-copy\n",
      "  pheno_site.sort_values('AGE',inplace=True)\n",
      "/var/folders/5x/9dwn0lbx633gccy22ts5bskh0000gn/T/ipykernel_70302/610918058.py:11: SettingWithCopyWarning: \n",
      "A value is trying to be set on a copy of a slice from a DataFrame.\n",
      "Try using .loc[row_indexer,col_indexer] = value instead\n",
      "\n",
      "See the caveats in the documentation: https://pandas.pydata.org/pandas-docs/stable/user_guide/indexing.html#returning-a-view-versus-a-copy\n",
      "  pheno_site['AGE_01'] = n_young*[0]+(len(pheno_site)-n_young)*[1]\n",
      "/var/folders/5x/9dwn0lbx633gccy22ts5bskh0000gn/T/ipykernel_70302/610918058.py:12: SettingWithCopyWarning: \n",
      "A value is trying to be set on a copy of a slice from a DataFrame\n",
      "\n",
      "See the caveats in the documentation: https://pandas.pydata.org/pandas-docs/stable/user_guide/indexing.html#returning-a-view-versus-a-copy\n",
      "  pheno_site.sort_index(inplace=True)\n"
     ]
    },
    {
     "name": "stdout",
     "output_type": "stream",
     "text": [
      "ADHD6   2\n"
     ]
    },
    {
     "name": "stderr",
     "output_type": "stream",
     "text": [
      "/var/folders/5x/9dwn0lbx633gccy22ts5bskh0000gn/T/ipykernel_70302/610918058.py:10: SettingWithCopyWarning: \n",
      "A value is trying to be set on a copy of a slice from a DataFrame\n",
      "\n",
      "See the caveats in the documentation: https://pandas.pydata.org/pandas-docs/stable/user_guide/indexing.html#returning-a-view-versus-a-copy\n",
      "  pheno_site.sort_values('AGE',inplace=True)\n",
      "/var/folders/5x/9dwn0lbx633gccy22ts5bskh0000gn/T/ipykernel_70302/610918058.py:11: SettingWithCopyWarning: \n",
      "A value is trying to be set on a copy of a slice from a DataFrame.\n",
      "Try using .loc[row_indexer,col_indexer] = value instead\n",
      "\n",
      "See the caveats in the documentation: https://pandas.pydata.org/pandas-docs/stable/user_guide/indexing.html#returning-a-view-versus-a-copy\n",
      "  pheno_site['AGE_01'] = n_young*[0]+(len(pheno_site)-n_young)*[1]\n",
      "/var/folders/5x/9dwn0lbx633gccy22ts5bskh0000gn/T/ipykernel_70302/610918058.py:12: SettingWithCopyWarning: \n",
      "A value is trying to be set on a copy of a slice from a DataFrame\n",
      "\n",
      "See the caveats in the documentation: https://pandas.pydata.org/pandas-docs/stable/user_guide/indexing.html#returning-a-view-versus-a-copy\n",
      "  pheno_site.sort_index(inplace=True)\n"
     ]
    },
    {
     "name": "stdout",
     "output_type": "stream",
     "text": [
      "HSJ   2\n"
     ]
    },
    {
     "name": "stderr",
     "output_type": "stream",
     "text": [
      "/var/folders/5x/9dwn0lbx633gccy22ts5bskh0000gn/T/ipykernel_70302/610918058.py:10: SettingWithCopyWarning: \n",
      "A value is trying to be set on a copy of a slice from a DataFrame\n",
      "\n",
      "See the caveats in the documentation: https://pandas.pydata.org/pandas-docs/stable/user_guide/indexing.html#returning-a-view-versus-a-copy\n",
      "  pheno_site.sort_values('AGE',inplace=True)\n",
      "/var/folders/5x/9dwn0lbx633gccy22ts5bskh0000gn/T/ipykernel_70302/610918058.py:11: SettingWithCopyWarning: \n",
      "A value is trying to be set on a copy of a slice from a DataFrame.\n",
      "Try using .loc[row_indexer,col_indexer] = value instead\n",
      "\n",
      "See the caveats in the documentation: https://pandas.pydata.org/pandas-docs/stable/user_guide/indexing.html#returning-a-view-versus-a-copy\n",
      "  pheno_site['AGE_01'] = n_young*[0]+(len(pheno_site)-n_young)*[1]\n",
      "/var/folders/5x/9dwn0lbx633gccy22ts5bskh0000gn/T/ipykernel_70302/610918058.py:12: SettingWithCopyWarning: \n",
      "A value is trying to be set on a copy of a slice from a DataFrame\n",
      "\n",
      "See the caveats in the documentation: https://pandas.pydata.org/pandas-docs/stable/user_guide/indexing.html#returning-a-view-versus-a-copy\n",
      "  pheno_site.sort_index(inplace=True)\n"
     ]
    },
    {
     "name": "stdout",
     "output_type": "stream",
     "text": [
      "SZ2   2\n"
     ]
    },
    {
     "name": "stderr",
     "output_type": "stream",
     "text": [
      "/var/folders/5x/9dwn0lbx633gccy22ts5bskh0000gn/T/ipykernel_70302/610918058.py:10: SettingWithCopyWarning: \n",
      "A value is trying to be set on a copy of a slice from a DataFrame\n",
      "\n",
      "See the caveats in the documentation: https://pandas.pydata.org/pandas-docs/stable/user_guide/indexing.html#returning-a-view-versus-a-copy\n",
      "  pheno_site.sort_values('AGE',inplace=True)\n",
      "/var/folders/5x/9dwn0lbx633gccy22ts5bskh0000gn/T/ipykernel_70302/610918058.py:11: SettingWithCopyWarning: \n",
      "A value is trying to be set on a copy of a slice from a DataFrame.\n",
      "Try using .loc[row_indexer,col_indexer] = value instead\n",
      "\n",
      "See the caveats in the documentation: https://pandas.pydata.org/pandas-docs/stable/user_guide/indexing.html#returning-a-view-versus-a-copy\n",
      "  pheno_site['AGE_01'] = n_young*[0]+(len(pheno_site)-n_young)*[1]\n",
      "/var/folders/5x/9dwn0lbx633gccy22ts5bskh0000gn/T/ipykernel_70302/610918058.py:12: SettingWithCopyWarning: \n",
      "A value is trying to be set on a copy of a slice from a DataFrame\n",
      "\n",
      "See the caveats in the documentation: https://pandas.pydata.org/pandas-docs/stable/user_guide/indexing.html#returning-a-view-versus-a-copy\n",
      "  pheno_site.sort_index(inplace=True)\n"
     ]
    },
    {
     "name": "stdout",
     "output_type": "stream",
     "text": [
      "SZ1   2\n"
     ]
    },
    {
     "name": "stderr",
     "output_type": "stream",
     "text": [
      "/var/folders/5x/9dwn0lbx633gccy22ts5bskh0000gn/T/ipykernel_70302/610918058.py:10: SettingWithCopyWarning: \n",
      "A value is trying to be set on a copy of a slice from a DataFrame\n",
      "\n",
      "See the caveats in the documentation: https://pandas.pydata.org/pandas-docs/stable/user_guide/indexing.html#returning-a-view-versus-a-copy\n",
      "  pheno_site.sort_values('AGE',inplace=True)\n",
      "/var/folders/5x/9dwn0lbx633gccy22ts5bskh0000gn/T/ipykernel_70302/610918058.py:11: SettingWithCopyWarning: \n",
      "A value is trying to be set on a copy of a slice from a DataFrame.\n",
      "Try using .loc[row_indexer,col_indexer] = value instead\n",
      "\n",
      "See the caveats in the documentation: https://pandas.pydata.org/pandas-docs/stable/user_guide/indexing.html#returning-a-view-versus-a-copy\n",
      "  pheno_site['AGE_01'] = n_young*[0]+(len(pheno_site)-n_young)*[1]\n",
      "/var/folders/5x/9dwn0lbx633gccy22ts5bskh0000gn/T/ipykernel_70302/610918058.py:12: SettingWithCopyWarning: \n",
      "A value is trying to be set on a copy of a slice from a DataFrame\n",
      "\n",
      "See the caveats in the documentation: https://pandas.pydata.org/pandas-docs/stable/user_guide/indexing.html#returning-a-view-versus-a-copy\n",
      "  pheno_site.sort_index(inplace=True)\n"
     ]
    },
    {
     "name": "stdout",
     "output_type": "stream",
     "text": [
      "UCLA_CB   2\n"
     ]
    },
    {
     "name": "stderr",
     "output_type": "stream",
     "text": [
      "/var/folders/5x/9dwn0lbx633gccy22ts5bskh0000gn/T/ipykernel_70302/610918058.py:10: SettingWithCopyWarning: \n",
      "A value is trying to be set on a copy of a slice from a DataFrame\n",
      "\n",
      "See the caveats in the documentation: https://pandas.pydata.org/pandas-docs/stable/user_guide/indexing.html#returning-a-view-versus-a-copy\n",
      "  pheno_site.sort_values('AGE',inplace=True)\n",
      "/var/folders/5x/9dwn0lbx633gccy22ts5bskh0000gn/T/ipykernel_70302/610918058.py:11: SettingWithCopyWarning: \n",
      "A value is trying to be set on a copy of a slice from a DataFrame.\n",
      "Try using .loc[row_indexer,col_indexer] = value instead\n",
      "\n",
      "See the caveats in the documentation: https://pandas.pydata.org/pandas-docs/stable/user_guide/indexing.html#returning-a-view-versus-a-copy\n",
      "  pheno_site['AGE_01'] = n_young*[0]+(len(pheno_site)-n_young)*[1]\n",
      "/var/folders/5x/9dwn0lbx633gccy22ts5bskh0000gn/T/ipykernel_70302/610918058.py:12: SettingWithCopyWarning: \n",
      "A value is trying to be set on a copy of a slice from a DataFrame\n",
      "\n",
      "See the caveats in the documentation: https://pandas.pydata.org/pandas-docs/stable/user_guide/indexing.html#returning-a-view-versus-a-copy\n",
      "  pheno_site.sort_index(inplace=True)\n"
     ]
    },
    {
     "name": "stdout",
     "output_type": "stream",
     "text": [
      "Svip1   2\n"
     ]
    },
    {
     "name": "stderr",
     "output_type": "stream",
     "text": [
      "/var/folders/5x/9dwn0lbx633gccy22ts5bskh0000gn/T/ipykernel_70302/610918058.py:10: SettingWithCopyWarning: \n",
      "A value is trying to be set on a copy of a slice from a DataFrame\n",
      "\n",
      "See the caveats in the documentation: https://pandas.pydata.org/pandas-docs/stable/user_guide/indexing.html#returning-a-view-versus-a-copy\n",
      "  pheno_site.sort_values('AGE',inplace=True)\n",
      "/var/folders/5x/9dwn0lbx633gccy22ts5bskh0000gn/T/ipykernel_70302/610918058.py:11: SettingWithCopyWarning: \n",
      "A value is trying to be set on a copy of a slice from a DataFrame.\n",
      "Try using .loc[row_indexer,col_indexer] = value instead\n",
      "\n",
      "See the caveats in the documentation: https://pandas.pydata.org/pandas-docs/stable/user_guide/indexing.html#returning-a-view-versus-a-copy\n",
      "  pheno_site['AGE_01'] = n_young*[0]+(len(pheno_site)-n_young)*[1]\n",
      "/var/folders/5x/9dwn0lbx633gccy22ts5bskh0000gn/T/ipykernel_70302/610918058.py:12: SettingWithCopyWarning: \n",
      "A value is trying to be set on a copy of a slice from a DataFrame\n",
      "\n",
      "See the caveats in the documentation: https://pandas.pydata.org/pandas-docs/stable/user_guide/indexing.html#returning-a-view-versus-a-copy\n",
      "  pheno_site.sort_index(inplace=True)\n"
     ]
    },
    {
     "name": "stdout",
     "output_type": "stream",
     "text": [
      "UKBB11026   2\n"
     ]
    },
    {
     "name": "stderr",
     "output_type": "stream",
     "text": [
      "/var/folders/5x/9dwn0lbx633gccy22ts5bskh0000gn/T/ipykernel_70302/610918058.py:10: SettingWithCopyWarning: \n",
      "A value is trying to be set on a copy of a slice from a DataFrame\n",
      "\n",
      "See the caveats in the documentation: https://pandas.pydata.org/pandas-docs/stable/user_guide/indexing.html#returning-a-view-versus-a-copy\n",
      "  pheno_site.sort_values('AGE',inplace=True)\n",
      "/var/folders/5x/9dwn0lbx633gccy22ts5bskh0000gn/T/ipykernel_70302/610918058.py:11: SettingWithCopyWarning: \n",
      "A value is trying to be set on a copy of a slice from a DataFrame.\n",
      "Try using .loc[row_indexer,col_indexer] = value instead\n",
      "\n",
      "See the caveats in the documentation: https://pandas.pydata.org/pandas-docs/stable/user_guide/indexing.html#returning-a-view-versus-a-copy\n",
      "  pheno_site['AGE_01'] = n_young*[0]+(len(pheno_site)-n_young)*[1]\n",
      "/var/folders/5x/9dwn0lbx633gccy22ts5bskh0000gn/T/ipykernel_70302/610918058.py:12: SettingWithCopyWarning: \n",
      "A value is trying to be set on a copy of a slice from a DataFrame\n",
      "\n",
      "See the caveats in the documentation: https://pandas.pydata.org/pandas-docs/stable/user_guide/indexing.html#returning-a-view-versus-a-copy\n",
      "  pheno_site.sort_index(inplace=True)\n"
     ]
    },
    {
     "name": "stdout",
     "output_type": "stream",
     "text": [
      "UKBB11027   2\n"
     ]
    },
    {
     "name": "stderr",
     "output_type": "stream",
     "text": [
      "/var/folders/5x/9dwn0lbx633gccy22ts5bskh0000gn/T/ipykernel_70302/610918058.py:10: SettingWithCopyWarning: \n",
      "A value is trying to be set on a copy of a slice from a DataFrame\n",
      "\n",
      "See the caveats in the documentation: https://pandas.pydata.org/pandas-docs/stable/user_guide/indexing.html#returning-a-view-versus-a-copy\n",
      "  pheno_site.sort_values('AGE',inplace=True)\n",
      "/var/folders/5x/9dwn0lbx633gccy22ts5bskh0000gn/T/ipykernel_70302/610918058.py:11: SettingWithCopyWarning: \n",
      "A value is trying to be set on a copy of a slice from a DataFrame.\n",
      "Try using .loc[row_indexer,col_indexer] = value instead\n",
      "\n",
      "See the caveats in the documentation: https://pandas.pydata.org/pandas-docs/stable/user_guide/indexing.html#returning-a-view-versus-a-copy\n",
      "  pheno_site['AGE_01'] = n_young*[0]+(len(pheno_site)-n_young)*[1]\n",
      "/var/folders/5x/9dwn0lbx633gccy22ts5bskh0000gn/T/ipykernel_70302/610918058.py:12: SettingWithCopyWarning: \n",
      "A value is trying to be set on a copy of a slice from a DataFrame\n",
      "\n",
      "See the caveats in the documentation: https://pandas.pydata.org/pandas-docs/stable/user_guide/indexing.html#returning-a-view-versus-a-copy\n",
      "  pheno_site.sort_index(inplace=True)\n"
     ]
    },
    {
     "name": "stdout",
     "output_type": "stream",
     "text": [
      "UKBB11025   2\n"
     ]
    },
    {
     "name": "stderr",
     "output_type": "stream",
     "text": [
      "/var/folders/5x/9dwn0lbx633gccy22ts5bskh0000gn/T/ipykernel_70302/610918058.py:10: SettingWithCopyWarning: \n",
      "A value is trying to be set on a copy of a slice from a DataFrame\n",
      "\n",
      "See the caveats in the documentation: https://pandas.pydata.org/pandas-docs/stable/user_guide/indexing.html#returning-a-view-versus-a-copy\n",
      "  pheno_site.sort_values('AGE',inplace=True)\n",
      "/var/folders/5x/9dwn0lbx633gccy22ts5bskh0000gn/T/ipykernel_70302/610918058.py:11: SettingWithCopyWarning: \n",
      "A value is trying to be set on a copy of a slice from a DataFrame.\n",
      "Try using .loc[row_indexer,col_indexer] = value instead\n",
      "\n",
      "See the caveats in the documentation: https://pandas.pydata.org/pandas-docs/stable/user_guide/indexing.html#returning-a-view-versus-a-copy\n",
      "  pheno_site['AGE_01'] = n_young*[0]+(len(pheno_site)-n_young)*[1]\n",
      "/var/folders/5x/9dwn0lbx633gccy22ts5bskh0000gn/T/ipykernel_70302/610918058.py:12: SettingWithCopyWarning: \n",
      "A value is trying to be set on a copy of a slice from a DataFrame\n",
      "\n",
      "See the caveats in the documentation: https://pandas.pydata.org/pandas-docs/stable/user_guide/indexing.html#returning-a-view-versus-a-copy\n",
      "  pheno_site.sort_index(inplace=True)\n"
     ]
    },
    {
     "name": "stdout",
     "output_type": "stream",
     "text": [
      "ADHD1   2\n"
     ]
    },
    {
     "name": "stderr",
     "output_type": "stream",
     "text": [
      "/var/folders/5x/9dwn0lbx633gccy22ts5bskh0000gn/T/ipykernel_70302/610918058.py:10: SettingWithCopyWarning: \n",
      "A value is trying to be set on a copy of a slice from a DataFrame\n",
      "\n",
      "See the caveats in the documentation: https://pandas.pydata.org/pandas-docs/stable/user_guide/indexing.html#returning-a-view-versus-a-copy\n",
      "  pheno_site.sort_values('AGE',inplace=True)\n",
      "/var/folders/5x/9dwn0lbx633gccy22ts5bskh0000gn/T/ipykernel_70302/610918058.py:11: SettingWithCopyWarning: \n",
      "A value is trying to be set on a copy of a slice from a DataFrame.\n",
      "Try using .loc[row_indexer,col_indexer] = value instead\n",
      "\n",
      "See the caveats in the documentation: https://pandas.pydata.org/pandas-docs/stable/user_guide/indexing.html#returning-a-view-versus-a-copy\n",
      "  pheno_site['AGE_01'] = n_young*[0]+(len(pheno_site)-n_young)*[1]\n",
      "/var/folders/5x/9dwn0lbx633gccy22ts5bskh0000gn/T/ipykernel_70302/610918058.py:12: SettingWithCopyWarning: \n",
      "A value is trying to be set on a copy of a slice from a DataFrame\n",
      "\n",
      "See the caveats in the documentation: https://pandas.pydata.org/pandas-docs/stable/user_guide/indexing.html#returning-a-view-versus-a-copy\n",
      "  pheno_site.sort_index(inplace=True)\n"
     ]
    },
    {
     "name": "stdout",
     "output_type": "stream",
     "text": [
      "ADHD3   2\n"
     ]
    },
    {
     "name": "stderr",
     "output_type": "stream",
     "text": [
      "/var/folders/5x/9dwn0lbx633gccy22ts5bskh0000gn/T/ipykernel_70302/610918058.py:10: SettingWithCopyWarning: \n",
      "A value is trying to be set on a copy of a slice from a DataFrame\n",
      "\n",
      "See the caveats in the documentation: https://pandas.pydata.org/pandas-docs/stable/user_guide/indexing.html#returning-a-view-versus-a-copy\n",
      "  pheno_site.sort_values('AGE',inplace=True)\n",
      "/var/folders/5x/9dwn0lbx633gccy22ts5bskh0000gn/T/ipykernel_70302/610918058.py:11: SettingWithCopyWarning: \n",
      "A value is trying to be set on a copy of a slice from a DataFrame.\n",
      "Try using .loc[row_indexer,col_indexer] = value instead\n",
      "\n",
      "See the caveats in the documentation: https://pandas.pydata.org/pandas-docs/stable/user_guide/indexing.html#returning-a-view-versus-a-copy\n",
      "  pheno_site['AGE_01'] = n_young*[0]+(len(pheno_site)-n_young)*[1]\n",
      "/var/folders/5x/9dwn0lbx633gccy22ts5bskh0000gn/T/ipykernel_70302/610918058.py:12: SettingWithCopyWarning: \n",
      "A value is trying to be set on a copy of a slice from a DataFrame\n",
      "\n",
      "See the caveats in the documentation: https://pandas.pydata.org/pandas-docs/stable/user_guide/indexing.html#returning-a-view-versus-a-copy\n",
      "  pheno_site.sort_index(inplace=True)\n"
     ]
    },
    {
     "name": "stdout",
     "output_type": "stream",
     "text": [
      "NYU   2\n"
     ]
    },
    {
     "name": "stderr",
     "output_type": "stream",
     "text": [
      "/var/folders/5x/9dwn0lbx633gccy22ts5bskh0000gn/T/ipykernel_70302/610918058.py:10: SettingWithCopyWarning: \n",
      "A value is trying to be set on a copy of a slice from a DataFrame\n",
      "\n",
      "See the caveats in the documentation: https://pandas.pydata.org/pandas-docs/stable/user_guide/indexing.html#returning-a-view-versus-a-copy\n",
      "  pheno_site.sort_values('AGE',inplace=True)\n",
      "/var/folders/5x/9dwn0lbx633gccy22ts5bskh0000gn/T/ipykernel_70302/610918058.py:11: SettingWithCopyWarning: \n",
      "A value is trying to be set on a copy of a slice from a DataFrame.\n",
      "Try using .loc[row_indexer,col_indexer] = value instead\n",
      "\n",
      "See the caveats in the documentation: https://pandas.pydata.org/pandas-docs/stable/user_guide/indexing.html#returning-a-view-versus-a-copy\n",
      "  pheno_site['AGE_01'] = n_young*[0]+(len(pheno_site)-n_young)*[1]\n",
      "/var/folders/5x/9dwn0lbx633gccy22ts5bskh0000gn/T/ipykernel_70302/610918058.py:12: SettingWithCopyWarning: \n",
      "A value is trying to be set on a copy of a slice from a DataFrame\n",
      "\n",
      "See the caveats in the documentation: https://pandas.pydata.org/pandas-docs/stable/user_guide/indexing.html#returning-a-view-versus-a-copy\n",
      "  pheno_site.sort_index(inplace=True)\n"
     ]
    },
    {
     "name": "stdout",
     "output_type": "stream",
     "text": [
      "ADHD5   2\n"
     ]
    },
    {
     "name": "stderr",
     "output_type": "stream",
     "text": [
      "/var/folders/5x/9dwn0lbx633gccy22ts5bskh0000gn/T/ipykernel_70302/610918058.py:10: SettingWithCopyWarning: \n",
      "A value is trying to be set on a copy of a slice from a DataFrame\n",
      "\n",
      "See the caveats in the documentation: https://pandas.pydata.org/pandas-docs/stable/user_guide/indexing.html#returning-a-view-versus-a-copy\n",
      "  pheno_site.sort_values('AGE',inplace=True)\n",
      "/var/folders/5x/9dwn0lbx633gccy22ts5bskh0000gn/T/ipykernel_70302/610918058.py:11: SettingWithCopyWarning: \n",
      "A value is trying to be set on a copy of a slice from a DataFrame.\n",
      "Try using .loc[row_indexer,col_indexer] = value instead\n",
      "\n",
      "See the caveats in the documentation: https://pandas.pydata.org/pandas-docs/stable/user_guide/indexing.html#returning-a-view-versus-a-copy\n",
      "  pheno_site['AGE_01'] = n_young*[0]+(len(pheno_site)-n_young)*[1]\n",
      "/var/folders/5x/9dwn0lbx633gccy22ts5bskh0000gn/T/ipykernel_70302/610918058.py:12: SettingWithCopyWarning: \n",
      "A value is trying to be set on a copy of a slice from a DataFrame\n",
      "\n",
      "See the caveats in the documentation: https://pandas.pydata.org/pandas-docs/stable/user_guide/indexing.html#returning-a-view-versus-a-copy\n",
      "  pheno_site.sort_index(inplace=True)\n"
     ]
    },
    {
     "name": "stdout",
     "output_type": "stream",
     "text": [
      "UCLA_DS1   2\n"
     ]
    },
    {
     "name": "stderr",
     "output_type": "stream",
     "text": [
      "/var/folders/5x/9dwn0lbx633gccy22ts5bskh0000gn/T/ipykernel_70302/610918058.py:10: SettingWithCopyWarning: \n",
      "A value is trying to be set on a copy of a slice from a DataFrame\n",
      "\n",
      "See the caveats in the documentation: https://pandas.pydata.org/pandas-docs/stable/user_guide/indexing.html#returning-a-view-versus-a-copy\n",
      "  pheno_site.sort_values('AGE',inplace=True)\n",
      "/var/folders/5x/9dwn0lbx633gccy22ts5bskh0000gn/T/ipykernel_70302/610918058.py:11: SettingWithCopyWarning: \n",
      "A value is trying to be set on a copy of a slice from a DataFrame.\n",
      "Try using .loc[row_indexer,col_indexer] = value instead\n",
      "\n",
      "See the caveats in the documentation: https://pandas.pydata.org/pandas-docs/stable/user_guide/indexing.html#returning-a-view-versus-a-copy\n",
      "  pheno_site['AGE_01'] = n_young*[0]+(len(pheno_site)-n_young)*[1]\n",
      "/var/folders/5x/9dwn0lbx633gccy22ts5bskh0000gn/T/ipykernel_70302/610918058.py:12: SettingWithCopyWarning: \n",
      "A value is trying to be set on a copy of a slice from a DataFrame\n",
      "\n",
      "See the caveats in the documentation: https://pandas.pydata.org/pandas-docs/stable/user_guide/indexing.html#returning-a-view-versus-a-copy\n",
      "  pheno_site.sort_index(inplace=True)\n"
     ]
    },
    {
     "name": "stdout",
     "output_type": "stream",
     "text": [
      "USM   3\n"
     ]
    },
    {
     "name": "stderr",
     "output_type": "stream",
     "text": [
      "/var/folders/5x/9dwn0lbx633gccy22ts5bskh0000gn/T/ipykernel_70302/610918058.py:10: SettingWithCopyWarning: \n",
      "A value is trying to be set on a copy of a slice from a DataFrame\n",
      "\n",
      "See the caveats in the documentation: https://pandas.pydata.org/pandas-docs/stable/user_guide/indexing.html#returning-a-view-versus-a-copy\n",
      "  pheno_site.sort_values('AGE',inplace=True)\n",
      "/var/folders/5x/9dwn0lbx633gccy22ts5bskh0000gn/T/ipykernel_70302/610918058.py:11: SettingWithCopyWarning: \n",
      "A value is trying to be set on a copy of a slice from a DataFrame.\n",
      "Try using .loc[row_indexer,col_indexer] = value instead\n",
      "\n",
      "See the caveats in the documentation: https://pandas.pydata.org/pandas-docs/stable/user_guide/indexing.html#returning-a-view-versus-a-copy\n",
      "  pheno_site['AGE_01'] = n_young*[0]+(len(pheno_site)-n_young)*[1]\n",
      "/var/folders/5x/9dwn0lbx633gccy22ts5bskh0000gn/T/ipykernel_70302/610918058.py:12: SettingWithCopyWarning: \n",
      "A value is trying to be set on a copy of a slice from a DataFrame\n",
      "\n",
      "See the caveats in the documentation: https://pandas.pydata.org/pandas-docs/stable/user_guide/indexing.html#returning-a-view-versus-a-copy\n",
      "  pheno_site.sort_index(inplace=True)\n"
     ]
    },
    {
     "name": "stdout",
     "output_type": "stream",
     "text": [
      "SZ3   3\n"
     ]
    },
    {
     "name": "stderr",
     "output_type": "stream",
     "text": [
      "/var/folders/5x/9dwn0lbx633gccy22ts5bskh0000gn/T/ipykernel_70302/610918058.py:10: SettingWithCopyWarning: \n",
      "A value is trying to be set on a copy of a slice from a DataFrame\n",
      "\n",
      "See the caveats in the documentation: https://pandas.pydata.org/pandas-docs/stable/user_guide/indexing.html#returning-a-view-versus-a-copy\n",
      "  pheno_site.sort_values('AGE',inplace=True)\n",
      "/var/folders/5x/9dwn0lbx633gccy22ts5bskh0000gn/T/ipykernel_70302/610918058.py:11: SettingWithCopyWarning: \n",
      "A value is trying to be set on a copy of a slice from a DataFrame.\n",
      "Try using .loc[row_indexer,col_indexer] = value instead\n",
      "\n",
      "See the caveats in the documentation: https://pandas.pydata.org/pandas-docs/stable/user_guide/indexing.html#returning-a-view-versus-a-copy\n",
      "  pheno_site['AGE_01'] = n_young*[0]+(len(pheno_site)-n_young)*[1]\n",
      "/var/folders/5x/9dwn0lbx633gccy22ts5bskh0000gn/T/ipykernel_70302/610918058.py:12: SettingWithCopyWarning: \n",
      "A value is trying to be set on a copy of a slice from a DataFrame\n",
      "\n",
      "See the caveats in the documentation: https://pandas.pydata.org/pandas-docs/stable/user_guide/indexing.html#returning-a-view-versus-a-copy\n",
      "  pheno_site.sort_index(inplace=True)\n"
     ]
    },
    {
     "name": "stdout",
     "output_type": "stream",
     "text": [
      "SZ6   3\n"
     ]
    },
    {
     "name": "stderr",
     "output_type": "stream",
     "text": [
      "/var/folders/5x/9dwn0lbx633gccy22ts5bskh0000gn/T/ipykernel_70302/610918058.py:10: SettingWithCopyWarning: \n",
      "A value is trying to be set on a copy of a slice from a DataFrame\n",
      "\n",
      "See the caveats in the documentation: https://pandas.pydata.org/pandas-docs/stable/user_guide/indexing.html#returning-a-view-versus-a-copy\n",
      "  pheno_site.sort_values('AGE',inplace=True)\n",
      "/var/folders/5x/9dwn0lbx633gccy22ts5bskh0000gn/T/ipykernel_70302/610918058.py:11: SettingWithCopyWarning: \n",
      "A value is trying to be set on a copy of a slice from a DataFrame.\n",
      "Try using .loc[row_indexer,col_indexer] = value instead\n",
      "\n",
      "See the caveats in the documentation: https://pandas.pydata.org/pandas-docs/stable/user_guide/indexing.html#returning-a-view-versus-a-copy\n",
      "  pheno_site['AGE_01'] = n_young*[0]+(len(pheno_site)-n_young)*[1]\n",
      "/var/folders/5x/9dwn0lbx633gccy22ts5bskh0000gn/T/ipykernel_70302/610918058.py:12: SettingWithCopyWarning: \n",
      "A value is trying to be set on a copy of a slice from a DataFrame\n",
      "\n",
      "See the caveats in the documentation: https://pandas.pydata.org/pandas-docs/stable/user_guide/indexing.html#returning-a-view-versus-a-copy\n",
      "  pheno_site.sort_index(inplace=True)\n"
     ]
    },
    {
     "name": "stdout",
     "output_type": "stream",
     "text": [
      "Svip2   3\n"
     ]
    },
    {
     "name": "stderr",
     "output_type": "stream",
     "text": [
      "/var/folders/5x/9dwn0lbx633gccy22ts5bskh0000gn/T/ipykernel_70302/610918058.py:10: SettingWithCopyWarning: \n",
      "A value is trying to be set on a copy of a slice from a DataFrame\n",
      "\n",
      "See the caveats in the documentation: https://pandas.pydata.org/pandas-docs/stable/user_guide/indexing.html#returning-a-view-versus-a-copy\n",
      "  pheno_site.sort_values('AGE',inplace=True)\n",
      "/var/folders/5x/9dwn0lbx633gccy22ts5bskh0000gn/T/ipykernel_70302/610918058.py:11: SettingWithCopyWarning: \n",
      "A value is trying to be set on a copy of a slice from a DataFrame.\n",
      "Try using .loc[row_indexer,col_indexer] = value instead\n",
      "\n",
      "See the caveats in the documentation: https://pandas.pydata.org/pandas-docs/stable/user_guide/indexing.html#returning-a-view-versus-a-copy\n",
      "  pheno_site['AGE_01'] = n_young*[0]+(len(pheno_site)-n_young)*[1]\n",
      "/var/folders/5x/9dwn0lbx633gccy22ts5bskh0000gn/T/ipykernel_70302/610918058.py:12: SettingWithCopyWarning: \n",
      "A value is trying to be set on a copy of a slice from a DataFrame\n",
      "\n",
      "See the caveats in the documentation: https://pandas.pydata.org/pandas-docs/stable/user_guide/indexing.html#returning-a-view-versus-a-copy\n",
      "  pheno_site.sort_index(inplace=True)\n"
     ]
    },
    {
     "name": "stdout",
     "output_type": "stream",
     "text": [
      "ADHD6   3\n"
     ]
    },
    {
     "name": "stderr",
     "output_type": "stream",
     "text": [
      "/var/folders/5x/9dwn0lbx633gccy22ts5bskh0000gn/T/ipykernel_70302/610918058.py:10: SettingWithCopyWarning: \n",
      "A value is trying to be set on a copy of a slice from a DataFrame\n",
      "\n",
      "See the caveats in the documentation: https://pandas.pydata.org/pandas-docs/stable/user_guide/indexing.html#returning-a-view-versus-a-copy\n",
      "  pheno_site.sort_values('AGE',inplace=True)\n",
      "/var/folders/5x/9dwn0lbx633gccy22ts5bskh0000gn/T/ipykernel_70302/610918058.py:11: SettingWithCopyWarning: \n",
      "A value is trying to be set on a copy of a slice from a DataFrame.\n",
      "Try using .loc[row_indexer,col_indexer] = value instead\n",
      "\n",
      "See the caveats in the documentation: https://pandas.pydata.org/pandas-docs/stable/user_guide/indexing.html#returning-a-view-versus-a-copy\n",
      "  pheno_site['AGE_01'] = n_young*[0]+(len(pheno_site)-n_young)*[1]\n",
      "/var/folders/5x/9dwn0lbx633gccy22ts5bskh0000gn/T/ipykernel_70302/610918058.py:12: SettingWithCopyWarning: \n",
      "A value is trying to be set on a copy of a slice from a DataFrame\n",
      "\n",
      "See the caveats in the documentation: https://pandas.pydata.org/pandas-docs/stable/user_guide/indexing.html#returning-a-view-versus-a-copy\n",
      "  pheno_site.sort_index(inplace=True)\n"
     ]
    },
    {
     "name": "stdout",
     "output_type": "stream",
     "text": [
      "HSJ   3\n"
     ]
    },
    {
     "name": "stderr",
     "output_type": "stream",
     "text": [
      "/var/folders/5x/9dwn0lbx633gccy22ts5bskh0000gn/T/ipykernel_70302/610918058.py:10: SettingWithCopyWarning: \n",
      "A value is trying to be set on a copy of a slice from a DataFrame\n",
      "\n",
      "See the caveats in the documentation: https://pandas.pydata.org/pandas-docs/stable/user_guide/indexing.html#returning-a-view-versus-a-copy\n",
      "  pheno_site.sort_values('AGE',inplace=True)\n",
      "/var/folders/5x/9dwn0lbx633gccy22ts5bskh0000gn/T/ipykernel_70302/610918058.py:11: SettingWithCopyWarning: \n",
      "A value is trying to be set on a copy of a slice from a DataFrame.\n",
      "Try using .loc[row_indexer,col_indexer] = value instead\n",
      "\n",
      "See the caveats in the documentation: https://pandas.pydata.org/pandas-docs/stable/user_guide/indexing.html#returning-a-view-versus-a-copy\n",
      "  pheno_site['AGE_01'] = n_young*[0]+(len(pheno_site)-n_young)*[1]\n",
      "/var/folders/5x/9dwn0lbx633gccy22ts5bskh0000gn/T/ipykernel_70302/610918058.py:12: SettingWithCopyWarning: \n",
      "A value is trying to be set on a copy of a slice from a DataFrame\n",
      "\n",
      "See the caveats in the documentation: https://pandas.pydata.org/pandas-docs/stable/user_guide/indexing.html#returning-a-view-versus-a-copy\n",
      "  pheno_site.sort_index(inplace=True)\n"
     ]
    },
    {
     "name": "stdout",
     "output_type": "stream",
     "text": [
      "SZ2   3\n"
     ]
    },
    {
     "name": "stderr",
     "output_type": "stream",
     "text": [
      "/var/folders/5x/9dwn0lbx633gccy22ts5bskh0000gn/T/ipykernel_70302/610918058.py:10: SettingWithCopyWarning: \n",
      "A value is trying to be set on a copy of a slice from a DataFrame\n",
      "\n",
      "See the caveats in the documentation: https://pandas.pydata.org/pandas-docs/stable/user_guide/indexing.html#returning-a-view-versus-a-copy\n",
      "  pheno_site.sort_values('AGE',inplace=True)\n",
      "/var/folders/5x/9dwn0lbx633gccy22ts5bskh0000gn/T/ipykernel_70302/610918058.py:11: SettingWithCopyWarning: \n",
      "A value is trying to be set on a copy of a slice from a DataFrame.\n",
      "Try using .loc[row_indexer,col_indexer] = value instead\n",
      "\n",
      "See the caveats in the documentation: https://pandas.pydata.org/pandas-docs/stable/user_guide/indexing.html#returning-a-view-versus-a-copy\n",
      "  pheno_site['AGE_01'] = n_young*[0]+(len(pheno_site)-n_young)*[1]\n",
      "/var/folders/5x/9dwn0lbx633gccy22ts5bskh0000gn/T/ipykernel_70302/610918058.py:12: SettingWithCopyWarning: \n",
      "A value is trying to be set on a copy of a slice from a DataFrame\n",
      "\n",
      "See the caveats in the documentation: https://pandas.pydata.org/pandas-docs/stable/user_guide/indexing.html#returning-a-view-versus-a-copy\n",
      "  pheno_site.sort_index(inplace=True)\n"
     ]
    },
    {
     "name": "stdout",
     "output_type": "stream",
     "text": [
      "SZ1   3\n"
     ]
    },
    {
     "name": "stderr",
     "output_type": "stream",
     "text": [
      "/var/folders/5x/9dwn0lbx633gccy22ts5bskh0000gn/T/ipykernel_70302/610918058.py:10: SettingWithCopyWarning: \n",
      "A value is trying to be set on a copy of a slice from a DataFrame\n",
      "\n",
      "See the caveats in the documentation: https://pandas.pydata.org/pandas-docs/stable/user_guide/indexing.html#returning-a-view-versus-a-copy\n",
      "  pheno_site.sort_values('AGE',inplace=True)\n",
      "/var/folders/5x/9dwn0lbx633gccy22ts5bskh0000gn/T/ipykernel_70302/610918058.py:11: SettingWithCopyWarning: \n",
      "A value is trying to be set on a copy of a slice from a DataFrame.\n",
      "Try using .loc[row_indexer,col_indexer] = value instead\n",
      "\n",
      "See the caveats in the documentation: https://pandas.pydata.org/pandas-docs/stable/user_guide/indexing.html#returning-a-view-versus-a-copy\n",
      "  pheno_site['AGE_01'] = n_young*[0]+(len(pheno_site)-n_young)*[1]\n",
      "/var/folders/5x/9dwn0lbx633gccy22ts5bskh0000gn/T/ipykernel_70302/610918058.py:12: SettingWithCopyWarning: \n",
      "A value is trying to be set on a copy of a slice from a DataFrame\n",
      "\n",
      "See the caveats in the documentation: https://pandas.pydata.org/pandas-docs/stable/user_guide/indexing.html#returning-a-view-versus-a-copy\n",
      "  pheno_site.sort_index(inplace=True)\n"
     ]
    },
    {
     "name": "stdout",
     "output_type": "stream",
     "text": [
      "UCLA_CB   3\n"
     ]
    },
    {
     "name": "stderr",
     "output_type": "stream",
     "text": [
      "/var/folders/5x/9dwn0lbx633gccy22ts5bskh0000gn/T/ipykernel_70302/610918058.py:10: SettingWithCopyWarning: \n",
      "A value is trying to be set on a copy of a slice from a DataFrame\n",
      "\n",
      "See the caveats in the documentation: https://pandas.pydata.org/pandas-docs/stable/user_guide/indexing.html#returning-a-view-versus-a-copy\n",
      "  pheno_site.sort_values('AGE',inplace=True)\n",
      "/var/folders/5x/9dwn0lbx633gccy22ts5bskh0000gn/T/ipykernel_70302/610918058.py:11: SettingWithCopyWarning: \n",
      "A value is trying to be set on a copy of a slice from a DataFrame.\n",
      "Try using .loc[row_indexer,col_indexer] = value instead\n",
      "\n",
      "See the caveats in the documentation: https://pandas.pydata.org/pandas-docs/stable/user_guide/indexing.html#returning-a-view-versus-a-copy\n",
      "  pheno_site['AGE_01'] = n_young*[0]+(len(pheno_site)-n_young)*[1]\n",
      "/var/folders/5x/9dwn0lbx633gccy22ts5bskh0000gn/T/ipykernel_70302/610918058.py:12: SettingWithCopyWarning: \n",
      "A value is trying to be set on a copy of a slice from a DataFrame\n",
      "\n",
      "See the caveats in the documentation: https://pandas.pydata.org/pandas-docs/stable/user_guide/indexing.html#returning-a-view-versus-a-copy\n",
      "  pheno_site.sort_index(inplace=True)\n"
     ]
    },
    {
     "name": "stdout",
     "output_type": "stream",
     "text": [
      "Svip1   3\n"
     ]
    },
    {
     "name": "stderr",
     "output_type": "stream",
     "text": [
      "/var/folders/5x/9dwn0lbx633gccy22ts5bskh0000gn/T/ipykernel_70302/610918058.py:10: SettingWithCopyWarning: \n",
      "A value is trying to be set on a copy of a slice from a DataFrame\n",
      "\n",
      "See the caveats in the documentation: https://pandas.pydata.org/pandas-docs/stable/user_guide/indexing.html#returning-a-view-versus-a-copy\n",
      "  pheno_site.sort_values('AGE',inplace=True)\n",
      "/var/folders/5x/9dwn0lbx633gccy22ts5bskh0000gn/T/ipykernel_70302/610918058.py:11: SettingWithCopyWarning: \n",
      "A value is trying to be set on a copy of a slice from a DataFrame.\n",
      "Try using .loc[row_indexer,col_indexer] = value instead\n",
      "\n",
      "See the caveats in the documentation: https://pandas.pydata.org/pandas-docs/stable/user_guide/indexing.html#returning-a-view-versus-a-copy\n",
      "  pheno_site['AGE_01'] = n_young*[0]+(len(pheno_site)-n_young)*[1]\n",
      "/var/folders/5x/9dwn0lbx633gccy22ts5bskh0000gn/T/ipykernel_70302/610918058.py:12: SettingWithCopyWarning: \n",
      "A value is trying to be set on a copy of a slice from a DataFrame\n",
      "\n",
      "See the caveats in the documentation: https://pandas.pydata.org/pandas-docs/stable/user_guide/indexing.html#returning-a-view-versus-a-copy\n",
      "  pheno_site.sort_index(inplace=True)\n"
     ]
    },
    {
     "name": "stdout",
     "output_type": "stream",
     "text": [
      "UKBB11026   3\n"
     ]
    },
    {
     "name": "stderr",
     "output_type": "stream",
     "text": [
      "/var/folders/5x/9dwn0lbx633gccy22ts5bskh0000gn/T/ipykernel_70302/610918058.py:10: SettingWithCopyWarning: \n",
      "A value is trying to be set on a copy of a slice from a DataFrame\n",
      "\n",
      "See the caveats in the documentation: https://pandas.pydata.org/pandas-docs/stable/user_guide/indexing.html#returning-a-view-versus-a-copy\n",
      "  pheno_site.sort_values('AGE',inplace=True)\n",
      "/var/folders/5x/9dwn0lbx633gccy22ts5bskh0000gn/T/ipykernel_70302/610918058.py:11: SettingWithCopyWarning: \n",
      "A value is trying to be set on a copy of a slice from a DataFrame.\n",
      "Try using .loc[row_indexer,col_indexer] = value instead\n",
      "\n",
      "See the caveats in the documentation: https://pandas.pydata.org/pandas-docs/stable/user_guide/indexing.html#returning-a-view-versus-a-copy\n",
      "  pheno_site['AGE_01'] = n_young*[0]+(len(pheno_site)-n_young)*[1]\n",
      "/var/folders/5x/9dwn0lbx633gccy22ts5bskh0000gn/T/ipykernel_70302/610918058.py:12: SettingWithCopyWarning: \n",
      "A value is trying to be set on a copy of a slice from a DataFrame\n",
      "\n",
      "See the caveats in the documentation: https://pandas.pydata.org/pandas-docs/stable/user_guide/indexing.html#returning-a-view-versus-a-copy\n",
      "  pheno_site.sort_index(inplace=True)\n"
     ]
    },
    {
     "name": "stdout",
     "output_type": "stream",
     "text": [
      "UKBB11027   3\n"
     ]
    },
    {
     "name": "stderr",
     "output_type": "stream",
     "text": [
      "/var/folders/5x/9dwn0lbx633gccy22ts5bskh0000gn/T/ipykernel_70302/610918058.py:10: SettingWithCopyWarning: \n",
      "A value is trying to be set on a copy of a slice from a DataFrame\n",
      "\n",
      "See the caveats in the documentation: https://pandas.pydata.org/pandas-docs/stable/user_guide/indexing.html#returning-a-view-versus-a-copy\n",
      "  pheno_site.sort_values('AGE',inplace=True)\n",
      "/var/folders/5x/9dwn0lbx633gccy22ts5bskh0000gn/T/ipykernel_70302/610918058.py:11: SettingWithCopyWarning: \n",
      "A value is trying to be set on a copy of a slice from a DataFrame.\n",
      "Try using .loc[row_indexer,col_indexer] = value instead\n",
      "\n",
      "See the caveats in the documentation: https://pandas.pydata.org/pandas-docs/stable/user_guide/indexing.html#returning-a-view-versus-a-copy\n",
      "  pheno_site['AGE_01'] = n_young*[0]+(len(pheno_site)-n_young)*[1]\n",
      "/var/folders/5x/9dwn0lbx633gccy22ts5bskh0000gn/T/ipykernel_70302/610918058.py:12: SettingWithCopyWarning: \n",
      "A value is trying to be set on a copy of a slice from a DataFrame\n",
      "\n",
      "See the caveats in the documentation: https://pandas.pydata.org/pandas-docs/stable/user_guide/indexing.html#returning-a-view-versus-a-copy\n",
      "  pheno_site.sort_index(inplace=True)\n"
     ]
    },
    {
     "name": "stdout",
     "output_type": "stream",
     "text": [
      "UKBB11025   3\n"
     ]
    },
    {
     "name": "stderr",
     "output_type": "stream",
     "text": [
      "/var/folders/5x/9dwn0lbx633gccy22ts5bskh0000gn/T/ipykernel_70302/610918058.py:10: SettingWithCopyWarning: \n",
      "A value is trying to be set on a copy of a slice from a DataFrame\n",
      "\n",
      "See the caveats in the documentation: https://pandas.pydata.org/pandas-docs/stable/user_guide/indexing.html#returning-a-view-versus-a-copy\n",
      "  pheno_site.sort_values('AGE',inplace=True)\n",
      "/var/folders/5x/9dwn0lbx633gccy22ts5bskh0000gn/T/ipykernel_70302/610918058.py:11: SettingWithCopyWarning: \n",
      "A value is trying to be set on a copy of a slice from a DataFrame.\n",
      "Try using .loc[row_indexer,col_indexer] = value instead\n",
      "\n",
      "See the caveats in the documentation: https://pandas.pydata.org/pandas-docs/stable/user_guide/indexing.html#returning-a-view-versus-a-copy\n",
      "  pheno_site['AGE_01'] = n_young*[0]+(len(pheno_site)-n_young)*[1]\n",
      "/var/folders/5x/9dwn0lbx633gccy22ts5bskh0000gn/T/ipykernel_70302/610918058.py:12: SettingWithCopyWarning: \n",
      "A value is trying to be set on a copy of a slice from a DataFrame\n",
      "\n",
      "See the caveats in the documentation: https://pandas.pydata.org/pandas-docs/stable/user_guide/indexing.html#returning-a-view-versus-a-copy\n",
      "  pheno_site.sort_index(inplace=True)\n"
     ]
    },
    {
     "name": "stdout",
     "output_type": "stream",
     "text": [
      "ADHD1   3\n"
     ]
    },
    {
     "name": "stderr",
     "output_type": "stream",
     "text": [
      "/var/folders/5x/9dwn0lbx633gccy22ts5bskh0000gn/T/ipykernel_70302/610918058.py:10: SettingWithCopyWarning: \n",
      "A value is trying to be set on a copy of a slice from a DataFrame\n",
      "\n",
      "See the caveats in the documentation: https://pandas.pydata.org/pandas-docs/stable/user_guide/indexing.html#returning-a-view-versus-a-copy\n",
      "  pheno_site.sort_values('AGE',inplace=True)\n",
      "/var/folders/5x/9dwn0lbx633gccy22ts5bskh0000gn/T/ipykernel_70302/610918058.py:11: SettingWithCopyWarning: \n",
      "A value is trying to be set on a copy of a slice from a DataFrame.\n",
      "Try using .loc[row_indexer,col_indexer] = value instead\n",
      "\n",
      "See the caveats in the documentation: https://pandas.pydata.org/pandas-docs/stable/user_guide/indexing.html#returning-a-view-versus-a-copy\n",
      "  pheno_site['AGE_01'] = n_young*[0]+(len(pheno_site)-n_young)*[1]\n",
      "/var/folders/5x/9dwn0lbx633gccy22ts5bskh0000gn/T/ipykernel_70302/610918058.py:12: SettingWithCopyWarning: \n",
      "A value is trying to be set on a copy of a slice from a DataFrame\n",
      "\n",
      "See the caveats in the documentation: https://pandas.pydata.org/pandas-docs/stable/user_guide/indexing.html#returning-a-view-versus-a-copy\n",
      "  pheno_site.sort_index(inplace=True)\n"
     ]
    },
    {
     "name": "stdout",
     "output_type": "stream",
     "text": [
      "ADHD3   3\n"
     ]
    },
    {
     "name": "stderr",
     "output_type": "stream",
     "text": [
      "/var/folders/5x/9dwn0lbx633gccy22ts5bskh0000gn/T/ipykernel_70302/610918058.py:10: SettingWithCopyWarning: \n",
      "A value is trying to be set on a copy of a slice from a DataFrame\n",
      "\n",
      "See the caveats in the documentation: https://pandas.pydata.org/pandas-docs/stable/user_guide/indexing.html#returning-a-view-versus-a-copy\n",
      "  pheno_site.sort_values('AGE',inplace=True)\n",
      "/var/folders/5x/9dwn0lbx633gccy22ts5bskh0000gn/T/ipykernel_70302/610918058.py:11: SettingWithCopyWarning: \n",
      "A value is trying to be set on a copy of a slice from a DataFrame.\n",
      "Try using .loc[row_indexer,col_indexer] = value instead\n",
      "\n",
      "See the caveats in the documentation: https://pandas.pydata.org/pandas-docs/stable/user_guide/indexing.html#returning-a-view-versus-a-copy\n",
      "  pheno_site['AGE_01'] = n_young*[0]+(len(pheno_site)-n_young)*[1]\n",
      "/var/folders/5x/9dwn0lbx633gccy22ts5bskh0000gn/T/ipykernel_70302/610918058.py:12: SettingWithCopyWarning: \n",
      "A value is trying to be set on a copy of a slice from a DataFrame\n",
      "\n",
      "See the caveats in the documentation: https://pandas.pydata.org/pandas-docs/stable/user_guide/indexing.html#returning-a-view-versus-a-copy\n",
      "  pheno_site.sort_index(inplace=True)\n"
     ]
    },
    {
     "name": "stdout",
     "output_type": "stream",
     "text": [
      "NYU   3\n"
     ]
    },
    {
     "name": "stderr",
     "output_type": "stream",
     "text": [
      "/var/folders/5x/9dwn0lbx633gccy22ts5bskh0000gn/T/ipykernel_70302/610918058.py:10: SettingWithCopyWarning: \n",
      "A value is trying to be set on a copy of a slice from a DataFrame\n",
      "\n",
      "See the caveats in the documentation: https://pandas.pydata.org/pandas-docs/stable/user_guide/indexing.html#returning-a-view-versus-a-copy\n",
      "  pheno_site.sort_values('AGE',inplace=True)\n",
      "/var/folders/5x/9dwn0lbx633gccy22ts5bskh0000gn/T/ipykernel_70302/610918058.py:11: SettingWithCopyWarning: \n",
      "A value is trying to be set on a copy of a slice from a DataFrame.\n",
      "Try using .loc[row_indexer,col_indexer] = value instead\n",
      "\n",
      "See the caveats in the documentation: https://pandas.pydata.org/pandas-docs/stable/user_guide/indexing.html#returning-a-view-versus-a-copy\n",
      "  pheno_site['AGE_01'] = n_young*[0]+(len(pheno_site)-n_young)*[1]\n",
      "/var/folders/5x/9dwn0lbx633gccy22ts5bskh0000gn/T/ipykernel_70302/610918058.py:12: SettingWithCopyWarning: \n",
      "A value is trying to be set on a copy of a slice from a DataFrame\n",
      "\n",
      "See the caveats in the documentation: https://pandas.pydata.org/pandas-docs/stable/user_guide/indexing.html#returning-a-view-versus-a-copy\n",
      "  pheno_site.sort_index(inplace=True)\n"
     ]
    },
    {
     "name": "stdout",
     "output_type": "stream",
     "text": [
      "ADHD5   3\n"
     ]
    },
    {
     "name": "stderr",
     "output_type": "stream",
     "text": [
      "/var/folders/5x/9dwn0lbx633gccy22ts5bskh0000gn/T/ipykernel_70302/610918058.py:10: SettingWithCopyWarning: \n",
      "A value is trying to be set on a copy of a slice from a DataFrame\n",
      "\n",
      "See the caveats in the documentation: https://pandas.pydata.org/pandas-docs/stable/user_guide/indexing.html#returning-a-view-versus-a-copy\n",
      "  pheno_site.sort_values('AGE',inplace=True)\n",
      "/var/folders/5x/9dwn0lbx633gccy22ts5bskh0000gn/T/ipykernel_70302/610918058.py:11: SettingWithCopyWarning: \n",
      "A value is trying to be set on a copy of a slice from a DataFrame.\n",
      "Try using .loc[row_indexer,col_indexer] = value instead\n",
      "\n",
      "See the caveats in the documentation: https://pandas.pydata.org/pandas-docs/stable/user_guide/indexing.html#returning-a-view-versus-a-copy\n",
      "  pheno_site['AGE_01'] = n_young*[0]+(len(pheno_site)-n_young)*[1]\n",
      "/var/folders/5x/9dwn0lbx633gccy22ts5bskh0000gn/T/ipykernel_70302/610918058.py:12: SettingWithCopyWarning: \n",
      "A value is trying to be set on a copy of a slice from a DataFrame\n",
      "\n",
      "See the caveats in the documentation: https://pandas.pydata.org/pandas-docs/stable/user_guide/indexing.html#returning-a-view-versus-a-copy\n",
      "  pheno_site.sort_index(inplace=True)\n"
     ]
    },
    {
     "name": "stdout",
     "output_type": "stream",
     "text": [
      "UCLA_DS1   3\n"
     ]
    },
    {
     "name": "stderr",
     "output_type": "stream",
     "text": [
      "/var/folders/5x/9dwn0lbx633gccy22ts5bskh0000gn/T/ipykernel_70302/610918058.py:10: SettingWithCopyWarning: \n",
      "A value is trying to be set on a copy of a slice from a DataFrame\n",
      "\n",
      "See the caveats in the documentation: https://pandas.pydata.org/pandas-docs/stable/user_guide/indexing.html#returning-a-view-versus-a-copy\n",
      "  pheno_site.sort_values('AGE',inplace=True)\n",
      "/var/folders/5x/9dwn0lbx633gccy22ts5bskh0000gn/T/ipykernel_70302/610918058.py:11: SettingWithCopyWarning: \n",
      "A value is trying to be set on a copy of a slice from a DataFrame.\n",
      "Try using .loc[row_indexer,col_indexer] = value instead\n",
      "\n",
      "See the caveats in the documentation: https://pandas.pydata.org/pandas-docs/stable/user_guide/indexing.html#returning-a-view-versus-a-copy\n",
      "  pheno_site['AGE_01'] = n_young*[0]+(len(pheno_site)-n_young)*[1]\n",
      "/var/folders/5x/9dwn0lbx633gccy22ts5bskh0000gn/T/ipykernel_70302/610918058.py:12: SettingWithCopyWarning: \n",
      "A value is trying to be set on a copy of a slice from a DataFrame\n",
      "\n",
      "See the caveats in the documentation: https://pandas.pydata.org/pandas-docs/stable/user_guide/indexing.html#returning-a-view-versus-a-copy\n",
      "  pheno_site.sort_index(inplace=True)\n"
     ]
    },
    {
     "name": "stdout",
     "output_type": "stream",
     "text": [
      "USM   5\n"
     ]
    },
    {
     "name": "stderr",
     "output_type": "stream",
     "text": [
      "/var/folders/5x/9dwn0lbx633gccy22ts5bskh0000gn/T/ipykernel_70302/610918058.py:10: SettingWithCopyWarning: \n",
      "A value is trying to be set on a copy of a slice from a DataFrame\n",
      "\n",
      "See the caveats in the documentation: https://pandas.pydata.org/pandas-docs/stable/user_guide/indexing.html#returning-a-view-versus-a-copy\n",
      "  pheno_site.sort_values('AGE',inplace=True)\n",
      "/var/folders/5x/9dwn0lbx633gccy22ts5bskh0000gn/T/ipykernel_70302/610918058.py:11: SettingWithCopyWarning: \n",
      "A value is trying to be set on a copy of a slice from a DataFrame.\n",
      "Try using .loc[row_indexer,col_indexer] = value instead\n",
      "\n",
      "See the caveats in the documentation: https://pandas.pydata.org/pandas-docs/stable/user_guide/indexing.html#returning-a-view-versus-a-copy\n",
      "  pheno_site['AGE_01'] = n_young*[0]+(len(pheno_site)-n_young)*[1]\n",
      "/var/folders/5x/9dwn0lbx633gccy22ts5bskh0000gn/T/ipykernel_70302/610918058.py:12: SettingWithCopyWarning: \n",
      "A value is trying to be set on a copy of a slice from a DataFrame\n",
      "\n",
      "See the caveats in the documentation: https://pandas.pydata.org/pandas-docs/stable/user_guide/indexing.html#returning-a-view-versus-a-copy\n",
      "  pheno_site.sort_index(inplace=True)\n"
     ]
    },
    {
     "name": "stdout",
     "output_type": "stream",
     "text": [
      "SZ3   5\n"
     ]
    },
    {
     "name": "stderr",
     "output_type": "stream",
     "text": [
      "/var/folders/5x/9dwn0lbx633gccy22ts5bskh0000gn/T/ipykernel_70302/610918058.py:10: SettingWithCopyWarning: \n",
      "A value is trying to be set on a copy of a slice from a DataFrame\n",
      "\n",
      "See the caveats in the documentation: https://pandas.pydata.org/pandas-docs/stable/user_guide/indexing.html#returning-a-view-versus-a-copy\n",
      "  pheno_site.sort_values('AGE',inplace=True)\n",
      "/var/folders/5x/9dwn0lbx633gccy22ts5bskh0000gn/T/ipykernel_70302/610918058.py:11: SettingWithCopyWarning: \n",
      "A value is trying to be set on a copy of a slice from a DataFrame.\n",
      "Try using .loc[row_indexer,col_indexer] = value instead\n",
      "\n",
      "See the caveats in the documentation: https://pandas.pydata.org/pandas-docs/stable/user_guide/indexing.html#returning-a-view-versus-a-copy\n",
      "  pheno_site['AGE_01'] = n_young*[0]+(len(pheno_site)-n_young)*[1]\n",
      "/var/folders/5x/9dwn0lbx633gccy22ts5bskh0000gn/T/ipykernel_70302/610918058.py:12: SettingWithCopyWarning: \n",
      "A value is trying to be set on a copy of a slice from a DataFrame\n",
      "\n",
      "See the caveats in the documentation: https://pandas.pydata.org/pandas-docs/stable/user_guide/indexing.html#returning-a-view-versus-a-copy\n",
      "  pheno_site.sort_index(inplace=True)\n"
     ]
    },
    {
     "name": "stdout",
     "output_type": "stream",
     "text": [
      "SZ6   5\n"
     ]
    },
    {
     "name": "stderr",
     "output_type": "stream",
     "text": [
      "/var/folders/5x/9dwn0lbx633gccy22ts5bskh0000gn/T/ipykernel_70302/610918058.py:10: SettingWithCopyWarning: \n",
      "A value is trying to be set on a copy of a slice from a DataFrame\n",
      "\n",
      "See the caveats in the documentation: https://pandas.pydata.org/pandas-docs/stable/user_guide/indexing.html#returning-a-view-versus-a-copy\n",
      "  pheno_site.sort_values('AGE',inplace=True)\n",
      "/var/folders/5x/9dwn0lbx633gccy22ts5bskh0000gn/T/ipykernel_70302/610918058.py:11: SettingWithCopyWarning: \n",
      "A value is trying to be set on a copy of a slice from a DataFrame.\n",
      "Try using .loc[row_indexer,col_indexer] = value instead\n",
      "\n",
      "See the caveats in the documentation: https://pandas.pydata.org/pandas-docs/stable/user_guide/indexing.html#returning-a-view-versus-a-copy\n",
      "  pheno_site['AGE_01'] = n_young*[0]+(len(pheno_site)-n_young)*[1]\n",
      "/var/folders/5x/9dwn0lbx633gccy22ts5bskh0000gn/T/ipykernel_70302/610918058.py:12: SettingWithCopyWarning: \n",
      "A value is trying to be set on a copy of a slice from a DataFrame\n",
      "\n",
      "See the caveats in the documentation: https://pandas.pydata.org/pandas-docs/stable/user_guide/indexing.html#returning-a-view-versus-a-copy\n",
      "  pheno_site.sort_index(inplace=True)\n"
     ]
    },
    {
     "name": "stdout",
     "output_type": "stream",
     "text": [
      "Svip2   5\n"
     ]
    },
    {
     "name": "stderr",
     "output_type": "stream",
     "text": [
      "/var/folders/5x/9dwn0lbx633gccy22ts5bskh0000gn/T/ipykernel_70302/610918058.py:10: SettingWithCopyWarning: \n",
      "A value is trying to be set on a copy of a slice from a DataFrame\n",
      "\n",
      "See the caveats in the documentation: https://pandas.pydata.org/pandas-docs/stable/user_guide/indexing.html#returning-a-view-versus-a-copy\n",
      "  pheno_site.sort_values('AGE',inplace=True)\n",
      "/var/folders/5x/9dwn0lbx633gccy22ts5bskh0000gn/T/ipykernel_70302/610918058.py:11: SettingWithCopyWarning: \n",
      "A value is trying to be set on a copy of a slice from a DataFrame.\n",
      "Try using .loc[row_indexer,col_indexer] = value instead\n",
      "\n",
      "See the caveats in the documentation: https://pandas.pydata.org/pandas-docs/stable/user_guide/indexing.html#returning-a-view-versus-a-copy\n",
      "  pheno_site['AGE_01'] = n_young*[0]+(len(pheno_site)-n_young)*[1]\n",
      "/var/folders/5x/9dwn0lbx633gccy22ts5bskh0000gn/T/ipykernel_70302/610918058.py:12: SettingWithCopyWarning: \n",
      "A value is trying to be set on a copy of a slice from a DataFrame\n",
      "\n",
      "See the caveats in the documentation: https://pandas.pydata.org/pandas-docs/stable/user_guide/indexing.html#returning-a-view-versus-a-copy\n",
      "  pheno_site.sort_index(inplace=True)\n"
     ]
    },
    {
     "name": "stdout",
     "output_type": "stream",
     "text": [
      "ADHD6   5\n"
     ]
    },
    {
     "name": "stderr",
     "output_type": "stream",
     "text": [
      "/var/folders/5x/9dwn0lbx633gccy22ts5bskh0000gn/T/ipykernel_70302/610918058.py:10: SettingWithCopyWarning: \n",
      "A value is trying to be set on a copy of a slice from a DataFrame\n",
      "\n",
      "See the caveats in the documentation: https://pandas.pydata.org/pandas-docs/stable/user_guide/indexing.html#returning-a-view-versus-a-copy\n",
      "  pheno_site.sort_values('AGE',inplace=True)\n",
      "/var/folders/5x/9dwn0lbx633gccy22ts5bskh0000gn/T/ipykernel_70302/610918058.py:11: SettingWithCopyWarning: \n",
      "A value is trying to be set on a copy of a slice from a DataFrame.\n",
      "Try using .loc[row_indexer,col_indexer] = value instead\n",
      "\n",
      "See the caveats in the documentation: https://pandas.pydata.org/pandas-docs/stable/user_guide/indexing.html#returning-a-view-versus-a-copy\n",
      "  pheno_site['AGE_01'] = n_young*[0]+(len(pheno_site)-n_young)*[1]\n",
      "/var/folders/5x/9dwn0lbx633gccy22ts5bskh0000gn/T/ipykernel_70302/610918058.py:12: SettingWithCopyWarning: \n",
      "A value is trying to be set on a copy of a slice from a DataFrame\n",
      "\n",
      "See the caveats in the documentation: https://pandas.pydata.org/pandas-docs/stable/user_guide/indexing.html#returning-a-view-versus-a-copy\n",
      "  pheno_site.sort_index(inplace=True)\n"
     ]
    },
    {
     "name": "stdout",
     "output_type": "stream",
     "text": [
      "HSJ   5\n"
     ]
    },
    {
     "name": "stderr",
     "output_type": "stream",
     "text": [
      "/var/folders/5x/9dwn0lbx633gccy22ts5bskh0000gn/T/ipykernel_70302/610918058.py:10: SettingWithCopyWarning: \n",
      "A value is trying to be set on a copy of a slice from a DataFrame\n",
      "\n",
      "See the caveats in the documentation: https://pandas.pydata.org/pandas-docs/stable/user_guide/indexing.html#returning-a-view-versus-a-copy\n",
      "  pheno_site.sort_values('AGE',inplace=True)\n",
      "/var/folders/5x/9dwn0lbx633gccy22ts5bskh0000gn/T/ipykernel_70302/610918058.py:11: SettingWithCopyWarning: \n",
      "A value is trying to be set on a copy of a slice from a DataFrame.\n",
      "Try using .loc[row_indexer,col_indexer] = value instead\n",
      "\n",
      "See the caveats in the documentation: https://pandas.pydata.org/pandas-docs/stable/user_guide/indexing.html#returning-a-view-versus-a-copy\n",
      "  pheno_site['AGE_01'] = n_young*[0]+(len(pheno_site)-n_young)*[1]\n",
      "/var/folders/5x/9dwn0lbx633gccy22ts5bskh0000gn/T/ipykernel_70302/610918058.py:12: SettingWithCopyWarning: \n",
      "A value is trying to be set on a copy of a slice from a DataFrame\n",
      "\n",
      "See the caveats in the documentation: https://pandas.pydata.org/pandas-docs/stable/user_guide/indexing.html#returning-a-view-versus-a-copy\n",
      "  pheno_site.sort_index(inplace=True)\n"
     ]
    },
    {
     "name": "stdout",
     "output_type": "stream",
     "text": [
      "SZ2   5\n"
     ]
    },
    {
     "name": "stderr",
     "output_type": "stream",
     "text": [
      "/var/folders/5x/9dwn0lbx633gccy22ts5bskh0000gn/T/ipykernel_70302/610918058.py:10: SettingWithCopyWarning: \n",
      "A value is trying to be set on a copy of a slice from a DataFrame\n",
      "\n",
      "See the caveats in the documentation: https://pandas.pydata.org/pandas-docs/stable/user_guide/indexing.html#returning-a-view-versus-a-copy\n",
      "  pheno_site.sort_values('AGE',inplace=True)\n",
      "/var/folders/5x/9dwn0lbx633gccy22ts5bskh0000gn/T/ipykernel_70302/610918058.py:11: SettingWithCopyWarning: \n",
      "A value is trying to be set on a copy of a slice from a DataFrame.\n",
      "Try using .loc[row_indexer,col_indexer] = value instead\n",
      "\n",
      "See the caveats in the documentation: https://pandas.pydata.org/pandas-docs/stable/user_guide/indexing.html#returning-a-view-versus-a-copy\n",
      "  pheno_site['AGE_01'] = n_young*[0]+(len(pheno_site)-n_young)*[1]\n",
      "/var/folders/5x/9dwn0lbx633gccy22ts5bskh0000gn/T/ipykernel_70302/610918058.py:12: SettingWithCopyWarning: \n",
      "A value is trying to be set on a copy of a slice from a DataFrame\n",
      "\n",
      "See the caveats in the documentation: https://pandas.pydata.org/pandas-docs/stable/user_guide/indexing.html#returning-a-view-versus-a-copy\n",
      "  pheno_site.sort_index(inplace=True)\n"
     ]
    },
    {
     "name": "stdout",
     "output_type": "stream",
     "text": [
      "SZ1   5\n"
     ]
    },
    {
     "name": "stderr",
     "output_type": "stream",
     "text": [
      "/var/folders/5x/9dwn0lbx633gccy22ts5bskh0000gn/T/ipykernel_70302/610918058.py:10: SettingWithCopyWarning: \n",
      "A value is trying to be set on a copy of a slice from a DataFrame\n",
      "\n",
      "See the caveats in the documentation: https://pandas.pydata.org/pandas-docs/stable/user_guide/indexing.html#returning-a-view-versus-a-copy\n",
      "  pheno_site.sort_values('AGE',inplace=True)\n",
      "/var/folders/5x/9dwn0lbx633gccy22ts5bskh0000gn/T/ipykernel_70302/610918058.py:11: SettingWithCopyWarning: \n",
      "A value is trying to be set on a copy of a slice from a DataFrame.\n",
      "Try using .loc[row_indexer,col_indexer] = value instead\n",
      "\n",
      "See the caveats in the documentation: https://pandas.pydata.org/pandas-docs/stable/user_guide/indexing.html#returning-a-view-versus-a-copy\n",
      "  pheno_site['AGE_01'] = n_young*[0]+(len(pheno_site)-n_young)*[1]\n",
      "/var/folders/5x/9dwn0lbx633gccy22ts5bskh0000gn/T/ipykernel_70302/610918058.py:12: SettingWithCopyWarning: \n",
      "A value is trying to be set on a copy of a slice from a DataFrame\n",
      "\n",
      "See the caveats in the documentation: https://pandas.pydata.org/pandas-docs/stable/user_guide/indexing.html#returning-a-view-versus-a-copy\n",
      "  pheno_site.sort_index(inplace=True)\n"
     ]
    },
    {
     "name": "stdout",
     "output_type": "stream",
     "text": [
      "UCLA_CB   5\n"
     ]
    },
    {
     "name": "stderr",
     "output_type": "stream",
     "text": [
      "/var/folders/5x/9dwn0lbx633gccy22ts5bskh0000gn/T/ipykernel_70302/610918058.py:10: SettingWithCopyWarning: \n",
      "A value is trying to be set on a copy of a slice from a DataFrame\n",
      "\n",
      "See the caveats in the documentation: https://pandas.pydata.org/pandas-docs/stable/user_guide/indexing.html#returning-a-view-versus-a-copy\n",
      "  pheno_site.sort_values('AGE',inplace=True)\n",
      "/var/folders/5x/9dwn0lbx633gccy22ts5bskh0000gn/T/ipykernel_70302/610918058.py:11: SettingWithCopyWarning: \n",
      "A value is trying to be set on a copy of a slice from a DataFrame.\n",
      "Try using .loc[row_indexer,col_indexer] = value instead\n",
      "\n",
      "See the caveats in the documentation: https://pandas.pydata.org/pandas-docs/stable/user_guide/indexing.html#returning-a-view-versus-a-copy\n",
      "  pheno_site['AGE_01'] = n_young*[0]+(len(pheno_site)-n_young)*[1]\n",
      "/var/folders/5x/9dwn0lbx633gccy22ts5bskh0000gn/T/ipykernel_70302/610918058.py:12: SettingWithCopyWarning: \n",
      "A value is trying to be set on a copy of a slice from a DataFrame\n",
      "\n",
      "See the caveats in the documentation: https://pandas.pydata.org/pandas-docs/stable/user_guide/indexing.html#returning-a-view-versus-a-copy\n",
      "  pheno_site.sort_index(inplace=True)\n"
     ]
    },
    {
     "name": "stdout",
     "output_type": "stream",
     "text": [
      "Svip1   5\n"
     ]
    },
    {
     "name": "stderr",
     "output_type": "stream",
     "text": [
      "/var/folders/5x/9dwn0lbx633gccy22ts5bskh0000gn/T/ipykernel_70302/610918058.py:10: SettingWithCopyWarning: \n",
      "A value is trying to be set on a copy of a slice from a DataFrame\n",
      "\n",
      "See the caveats in the documentation: https://pandas.pydata.org/pandas-docs/stable/user_guide/indexing.html#returning-a-view-versus-a-copy\n",
      "  pheno_site.sort_values('AGE',inplace=True)\n",
      "/var/folders/5x/9dwn0lbx633gccy22ts5bskh0000gn/T/ipykernel_70302/610918058.py:11: SettingWithCopyWarning: \n",
      "A value is trying to be set on a copy of a slice from a DataFrame.\n",
      "Try using .loc[row_indexer,col_indexer] = value instead\n",
      "\n",
      "See the caveats in the documentation: https://pandas.pydata.org/pandas-docs/stable/user_guide/indexing.html#returning-a-view-versus-a-copy\n",
      "  pheno_site['AGE_01'] = n_young*[0]+(len(pheno_site)-n_young)*[1]\n",
      "/var/folders/5x/9dwn0lbx633gccy22ts5bskh0000gn/T/ipykernel_70302/610918058.py:12: SettingWithCopyWarning: \n",
      "A value is trying to be set on a copy of a slice from a DataFrame\n",
      "\n",
      "See the caveats in the documentation: https://pandas.pydata.org/pandas-docs/stable/user_guide/indexing.html#returning-a-view-versus-a-copy\n",
      "  pheno_site.sort_index(inplace=True)\n"
     ]
    },
    {
     "name": "stdout",
     "output_type": "stream",
     "text": [
      "UKBB11026   5\n"
     ]
    },
    {
     "name": "stderr",
     "output_type": "stream",
     "text": [
      "/var/folders/5x/9dwn0lbx633gccy22ts5bskh0000gn/T/ipykernel_70302/610918058.py:10: SettingWithCopyWarning: \n",
      "A value is trying to be set on a copy of a slice from a DataFrame\n",
      "\n",
      "See the caveats in the documentation: https://pandas.pydata.org/pandas-docs/stable/user_guide/indexing.html#returning-a-view-versus-a-copy\n",
      "  pheno_site.sort_values('AGE',inplace=True)\n",
      "/var/folders/5x/9dwn0lbx633gccy22ts5bskh0000gn/T/ipykernel_70302/610918058.py:11: SettingWithCopyWarning: \n",
      "A value is trying to be set on a copy of a slice from a DataFrame.\n",
      "Try using .loc[row_indexer,col_indexer] = value instead\n",
      "\n",
      "See the caveats in the documentation: https://pandas.pydata.org/pandas-docs/stable/user_guide/indexing.html#returning-a-view-versus-a-copy\n",
      "  pheno_site['AGE_01'] = n_young*[0]+(len(pheno_site)-n_young)*[1]\n",
      "/var/folders/5x/9dwn0lbx633gccy22ts5bskh0000gn/T/ipykernel_70302/610918058.py:12: SettingWithCopyWarning: \n",
      "A value is trying to be set on a copy of a slice from a DataFrame\n",
      "\n",
      "See the caveats in the documentation: https://pandas.pydata.org/pandas-docs/stable/user_guide/indexing.html#returning-a-view-versus-a-copy\n",
      "  pheno_site.sort_index(inplace=True)\n"
     ]
    },
    {
     "name": "stdout",
     "output_type": "stream",
     "text": [
      "UKBB11027   5\n"
     ]
    },
    {
     "name": "stderr",
     "output_type": "stream",
     "text": [
      "/var/folders/5x/9dwn0lbx633gccy22ts5bskh0000gn/T/ipykernel_70302/610918058.py:10: SettingWithCopyWarning: \n",
      "A value is trying to be set on a copy of a slice from a DataFrame\n",
      "\n",
      "See the caveats in the documentation: https://pandas.pydata.org/pandas-docs/stable/user_guide/indexing.html#returning-a-view-versus-a-copy\n",
      "  pheno_site.sort_values('AGE',inplace=True)\n",
      "/var/folders/5x/9dwn0lbx633gccy22ts5bskh0000gn/T/ipykernel_70302/610918058.py:11: SettingWithCopyWarning: \n",
      "A value is trying to be set on a copy of a slice from a DataFrame.\n",
      "Try using .loc[row_indexer,col_indexer] = value instead\n",
      "\n",
      "See the caveats in the documentation: https://pandas.pydata.org/pandas-docs/stable/user_guide/indexing.html#returning-a-view-versus-a-copy\n",
      "  pheno_site['AGE_01'] = n_young*[0]+(len(pheno_site)-n_young)*[1]\n",
      "/var/folders/5x/9dwn0lbx633gccy22ts5bskh0000gn/T/ipykernel_70302/610918058.py:12: SettingWithCopyWarning: \n",
      "A value is trying to be set on a copy of a slice from a DataFrame\n",
      "\n",
      "See the caveats in the documentation: https://pandas.pydata.org/pandas-docs/stable/user_guide/indexing.html#returning-a-view-versus-a-copy\n",
      "  pheno_site.sort_index(inplace=True)\n"
     ]
    },
    {
     "name": "stdout",
     "output_type": "stream",
     "text": [
      "UKBB11025   5\n"
     ]
    },
    {
     "name": "stderr",
     "output_type": "stream",
     "text": [
      "/var/folders/5x/9dwn0lbx633gccy22ts5bskh0000gn/T/ipykernel_70302/610918058.py:10: SettingWithCopyWarning: \n",
      "A value is trying to be set on a copy of a slice from a DataFrame\n",
      "\n",
      "See the caveats in the documentation: https://pandas.pydata.org/pandas-docs/stable/user_guide/indexing.html#returning-a-view-versus-a-copy\n",
      "  pheno_site.sort_values('AGE',inplace=True)\n",
      "/var/folders/5x/9dwn0lbx633gccy22ts5bskh0000gn/T/ipykernel_70302/610918058.py:11: SettingWithCopyWarning: \n",
      "A value is trying to be set on a copy of a slice from a DataFrame.\n",
      "Try using .loc[row_indexer,col_indexer] = value instead\n",
      "\n",
      "See the caveats in the documentation: https://pandas.pydata.org/pandas-docs/stable/user_guide/indexing.html#returning-a-view-versus-a-copy\n",
      "  pheno_site['AGE_01'] = n_young*[0]+(len(pheno_site)-n_young)*[1]\n",
      "/var/folders/5x/9dwn0lbx633gccy22ts5bskh0000gn/T/ipykernel_70302/610918058.py:12: SettingWithCopyWarning: \n",
      "A value is trying to be set on a copy of a slice from a DataFrame\n",
      "\n",
      "See the caveats in the documentation: https://pandas.pydata.org/pandas-docs/stable/user_guide/indexing.html#returning-a-view-versus-a-copy\n",
      "  pheno_site.sort_index(inplace=True)\n"
     ]
    },
    {
     "name": "stdout",
     "output_type": "stream",
     "text": [
      "ADHD1   5\n"
     ]
    },
    {
     "name": "stderr",
     "output_type": "stream",
     "text": [
      "/var/folders/5x/9dwn0lbx633gccy22ts5bskh0000gn/T/ipykernel_70302/610918058.py:10: SettingWithCopyWarning: \n",
      "A value is trying to be set on a copy of a slice from a DataFrame\n",
      "\n",
      "See the caveats in the documentation: https://pandas.pydata.org/pandas-docs/stable/user_guide/indexing.html#returning-a-view-versus-a-copy\n",
      "  pheno_site.sort_values('AGE',inplace=True)\n",
      "/var/folders/5x/9dwn0lbx633gccy22ts5bskh0000gn/T/ipykernel_70302/610918058.py:11: SettingWithCopyWarning: \n",
      "A value is trying to be set on a copy of a slice from a DataFrame.\n",
      "Try using .loc[row_indexer,col_indexer] = value instead\n",
      "\n",
      "See the caveats in the documentation: https://pandas.pydata.org/pandas-docs/stable/user_guide/indexing.html#returning-a-view-versus-a-copy\n",
      "  pheno_site['AGE_01'] = n_young*[0]+(len(pheno_site)-n_young)*[1]\n",
      "/var/folders/5x/9dwn0lbx633gccy22ts5bskh0000gn/T/ipykernel_70302/610918058.py:12: SettingWithCopyWarning: \n",
      "A value is trying to be set on a copy of a slice from a DataFrame\n",
      "\n",
      "See the caveats in the documentation: https://pandas.pydata.org/pandas-docs/stable/user_guide/indexing.html#returning-a-view-versus-a-copy\n",
      "  pheno_site.sort_index(inplace=True)\n"
     ]
    },
    {
     "name": "stdout",
     "output_type": "stream",
     "text": [
      "ADHD3   5\n"
     ]
    },
    {
     "name": "stderr",
     "output_type": "stream",
     "text": [
      "/var/folders/5x/9dwn0lbx633gccy22ts5bskh0000gn/T/ipykernel_70302/610918058.py:10: SettingWithCopyWarning: \n",
      "A value is trying to be set on a copy of a slice from a DataFrame\n",
      "\n",
      "See the caveats in the documentation: https://pandas.pydata.org/pandas-docs/stable/user_guide/indexing.html#returning-a-view-versus-a-copy\n",
      "  pheno_site.sort_values('AGE',inplace=True)\n",
      "/var/folders/5x/9dwn0lbx633gccy22ts5bskh0000gn/T/ipykernel_70302/610918058.py:11: SettingWithCopyWarning: \n",
      "A value is trying to be set on a copy of a slice from a DataFrame.\n",
      "Try using .loc[row_indexer,col_indexer] = value instead\n",
      "\n",
      "See the caveats in the documentation: https://pandas.pydata.org/pandas-docs/stable/user_guide/indexing.html#returning-a-view-versus-a-copy\n",
      "  pheno_site['AGE_01'] = n_young*[0]+(len(pheno_site)-n_young)*[1]\n",
      "/var/folders/5x/9dwn0lbx633gccy22ts5bskh0000gn/T/ipykernel_70302/610918058.py:12: SettingWithCopyWarning: \n",
      "A value is trying to be set on a copy of a slice from a DataFrame\n",
      "\n",
      "See the caveats in the documentation: https://pandas.pydata.org/pandas-docs/stable/user_guide/indexing.html#returning-a-view-versus-a-copy\n",
      "  pheno_site.sort_index(inplace=True)\n"
     ]
    },
    {
     "name": "stdout",
     "output_type": "stream",
     "text": [
      "NYU   5\n"
     ]
    },
    {
     "name": "stderr",
     "output_type": "stream",
     "text": [
      "/var/folders/5x/9dwn0lbx633gccy22ts5bskh0000gn/T/ipykernel_70302/610918058.py:10: SettingWithCopyWarning: \n",
      "A value is trying to be set on a copy of a slice from a DataFrame\n",
      "\n",
      "See the caveats in the documentation: https://pandas.pydata.org/pandas-docs/stable/user_guide/indexing.html#returning-a-view-versus-a-copy\n",
      "  pheno_site.sort_values('AGE',inplace=True)\n",
      "/var/folders/5x/9dwn0lbx633gccy22ts5bskh0000gn/T/ipykernel_70302/610918058.py:11: SettingWithCopyWarning: \n",
      "A value is trying to be set on a copy of a slice from a DataFrame.\n",
      "Try using .loc[row_indexer,col_indexer] = value instead\n",
      "\n",
      "See the caveats in the documentation: https://pandas.pydata.org/pandas-docs/stable/user_guide/indexing.html#returning-a-view-versus-a-copy\n",
      "  pheno_site['AGE_01'] = n_young*[0]+(len(pheno_site)-n_young)*[1]\n",
      "/var/folders/5x/9dwn0lbx633gccy22ts5bskh0000gn/T/ipykernel_70302/610918058.py:12: SettingWithCopyWarning: \n",
      "A value is trying to be set on a copy of a slice from a DataFrame\n",
      "\n",
      "See the caveats in the documentation: https://pandas.pydata.org/pandas-docs/stable/user_guide/indexing.html#returning-a-view-versus-a-copy\n",
      "  pheno_site.sort_index(inplace=True)\n"
     ]
    },
    {
     "name": "stdout",
     "output_type": "stream",
     "text": [
      "ADHD5   5\n"
     ]
    },
    {
     "name": "stderr",
     "output_type": "stream",
     "text": [
      "/var/folders/5x/9dwn0lbx633gccy22ts5bskh0000gn/T/ipykernel_70302/610918058.py:10: SettingWithCopyWarning: \n",
      "A value is trying to be set on a copy of a slice from a DataFrame\n",
      "\n",
      "See the caveats in the documentation: https://pandas.pydata.org/pandas-docs/stable/user_guide/indexing.html#returning-a-view-versus-a-copy\n",
      "  pheno_site.sort_values('AGE',inplace=True)\n",
      "/var/folders/5x/9dwn0lbx633gccy22ts5bskh0000gn/T/ipykernel_70302/610918058.py:11: SettingWithCopyWarning: \n",
      "A value is trying to be set on a copy of a slice from a DataFrame.\n",
      "Try using .loc[row_indexer,col_indexer] = value instead\n",
      "\n",
      "See the caveats in the documentation: https://pandas.pydata.org/pandas-docs/stable/user_guide/indexing.html#returning-a-view-versus-a-copy\n",
      "  pheno_site['AGE_01'] = n_young*[0]+(len(pheno_site)-n_young)*[1]\n",
      "/var/folders/5x/9dwn0lbx633gccy22ts5bskh0000gn/T/ipykernel_70302/610918058.py:12: SettingWithCopyWarning: \n",
      "A value is trying to be set on a copy of a slice from a DataFrame\n",
      "\n",
      "See the caveats in the documentation: https://pandas.pydata.org/pandas-docs/stable/user_guide/indexing.html#returning-a-view-versus-a-copy\n",
      "  pheno_site.sort_index(inplace=True)\n"
     ]
    },
    {
     "name": "stdout",
     "output_type": "stream",
     "text": [
      "UCLA_DS1   5\n"
     ]
    },
    {
     "name": "stderr",
     "output_type": "stream",
     "text": [
      "/var/folders/5x/9dwn0lbx633gccy22ts5bskh0000gn/T/ipykernel_70302/610918058.py:10: SettingWithCopyWarning: \n",
      "A value is trying to be set on a copy of a slice from a DataFrame\n",
      "\n",
      "See the caveats in the documentation: https://pandas.pydata.org/pandas-docs/stable/user_guide/indexing.html#returning-a-view-versus-a-copy\n",
      "  pheno_site.sort_values('AGE',inplace=True)\n",
      "/var/folders/5x/9dwn0lbx633gccy22ts5bskh0000gn/T/ipykernel_70302/610918058.py:11: SettingWithCopyWarning: \n",
      "A value is trying to be set on a copy of a slice from a DataFrame.\n",
      "Try using .loc[row_indexer,col_indexer] = value instead\n",
      "\n",
      "See the caveats in the documentation: https://pandas.pydata.org/pandas-docs/stable/user_guide/indexing.html#returning-a-view-versus-a-copy\n",
      "  pheno_site['AGE_01'] = n_young*[0]+(len(pheno_site)-n_young)*[1]\n",
      "/var/folders/5x/9dwn0lbx633gccy22ts5bskh0000gn/T/ipykernel_70302/610918058.py:12: SettingWithCopyWarning: \n",
      "A value is trying to be set on a copy of a slice from a DataFrame\n",
      "\n",
      "See the caveats in the documentation: https://pandas.pydata.org/pandas-docs/stable/user_guide/indexing.html#returning-a-view-versus-a-copy\n",
      "  pheno_site.sort_index(inplace=True)\n"
     ]
    }
   ],
   "source": [
    "regressors = ['C(SEX)','FD_scrubbed', 'mean_conn']\n",
    "\n",
    "cv_es = []\n",
    "for k in [2,3,5]:\n",
    "    cc_rows = []\n",
    "    for site in age_sites:\n",
    "        print(site,' ',k)\n",
    "        pheno_site = pheno.loc[pheno.index.isin(site_ids[site])]\n",
    "        n_young = int(len(pheno_site)/2)\n",
    "        pheno_site.sort_values('AGE',inplace=True)\n",
    "        pheno_site['AGE_01'] = n_young*[0]+(len(pheno_site)-n_young)*[1]\n",
    "        pheno_site.sort_index(inplace=True)\n",
    "\n",
    "        idx = site_ids[site]\n",
    "        strat_col = pheno_site['AGE_01']\n",
    "\n",
    "        skf = StratifiedKFold(n_splits=k)\n",
    "\n",
    "        es_train = []\n",
    "        es_test = []\n",
    "        k=0\n",
    "        for train_index, test_index in skf.split(idx, strat_col):\n",
    "            betamap_train = case_control(pheno_site.loc[idx[train_index]],\n",
    "                                            'AGE_01',\n",
    "                                            regressors,\n",
    "                                            conn.loc[idx[train_index]].to_numpy())['betas_std']\n",
    "\n",
    "            rank = pd.qcut(betamap_train.abs(),10,labels=False)\n",
    "            decile_idx = rank[rank==9].index\n",
    "\n",
    "            # Get train ES\n",
    "            decile_train = betamap_train.abs()[decile_idx]\n",
    "            mtd_train = np.mean(decile_train)\n",
    "            es_train.append(mtd_train)\n",
    "\n",
    "            betamap_test = case_control(pheno_site.loc[idx[test_index]],\n",
    "                                            'AGE_01',\n",
    "                                            regressors,\n",
    "                                            conn.loc[idx[test_index]].to_numpy())['betas_std']\n",
    "            # Get test ES\n",
    "            decile_test = betamap_test.abs()[decile_idx]\n",
    "            mtd_test = np.mean(decile_test)\n",
    "            es_test.append(mtd_test)\n",
    "\n",
    "            k += 1\n",
    "\n",
    "        cc_rows.append([np.mean(es_train),np.mean(es_test)])\n",
    "\n",
    "    df_cc = pd.DataFrame(cc_rows,columns=[f'train_ES_{k}',f'test_ES_{k}'],index=age_sites)\n",
    "    cv_es.append(df_cc)"
   ]
  },
  {
   "cell_type": "code",
   "execution_count": 22,
   "metadata": {},
   "outputs": [
    {
     "data": {
      "text/html": [
       "<div>\n",
       "<style scoped>\n",
       "    .dataframe tbody tr th:only-of-type {\n",
       "        vertical-align: middle;\n",
       "    }\n",
       "\n",
       "    .dataframe tbody tr th {\n",
       "        vertical-align: top;\n",
       "    }\n",
       "\n",
       "    .dataframe thead th {\n",
       "        text-align: right;\n",
       "    }\n",
       "</style>\n",
       "<table border=\"1\" class=\"dataframe\">\n",
       "  <thead>\n",
       "    <tr style=\"text-align: right;\">\n",
       "      <th></th>\n",
       "      <th>mtd</th>\n",
       "      <th>train_ES_2</th>\n",
       "      <th>test_ES_2</th>\n",
       "      <th>train_ES_3</th>\n",
       "      <th>test_ES_3</th>\n",
       "      <th>train_ES_5</th>\n",
       "      <th>test_ES_5</th>\n",
       "    </tr>\n",
       "  </thead>\n",
       "  <tbody>\n",
       "    <tr>\n",
       "      <th>USM</th>\n",
       "      <td>0.764509</td>\n",
       "      <td>1.132359</td>\n",
       "      <td>0.451143</td>\n",
       "      <td>0.931287</td>\n",
       "      <td>0.579388</td>\n",
       "      <td>0.855388</td>\n",
       "      <td>1.203378</td>\n",
       "    </tr>\n",
       "    <tr>\n",
       "      <th>SZ3</th>\n",
       "      <td>0.874829</td>\n",
       "      <td>1.753874</td>\n",
       "      <td>0.588553</td>\n",
       "      <td>1.169738</td>\n",
       "      <td>0.870443</td>\n",
       "      <td>1.024973</td>\n",
       "      <td>5.772502</td>\n",
       "    </tr>\n",
       "    <tr>\n",
       "      <th>SZ6</th>\n",
       "      <td>0.781702</td>\n",
       "      <td>1.413942</td>\n",
       "      <td>0.496196</td>\n",
       "      <td>1.038031</td>\n",
       "      <td>0.759704</td>\n",
       "      <td>0.900513</td>\n",
       "      <td>1.577601</td>\n",
       "    </tr>\n",
       "    <tr>\n",
       "      <th>Svip2</th>\n",
       "      <td>0.942339</td>\n",
       "      <td>1.664893</td>\n",
       "      <td>0.594889</td>\n",
       "      <td>1.217237</td>\n",
       "      <td>0.829897</td>\n",
       "      <td>1.042979</td>\n",
       "      <td>2.166504</td>\n",
       "    </tr>\n",
       "    <tr>\n",
       "      <th>ADHD6</th>\n",
       "      <td>0.706582</td>\n",
       "      <td>1.144653</td>\n",
       "      <td>0.381017</td>\n",
       "      <td>0.906519</td>\n",
       "      <td>0.539621</td>\n",
       "      <td>0.804333</td>\n",
       "      <td>1.188391</td>\n",
       "    </tr>\n",
       "    <tr>\n",
       "      <th>HSJ</th>\n",
       "      <td>0.809507</td>\n",
       "      <td>1.304139</td>\n",
       "      <td>0.483406</td>\n",
       "      <td>1.042123</td>\n",
       "      <td>0.646658</td>\n",
       "      <td>0.946554</td>\n",
       "      <td>1.378381</td>\n",
       "    </tr>\n",
       "    <tr>\n",
       "      <th>SZ2</th>\n",
       "      <td>0.505704</td>\n",
       "      <td>0.912210</td>\n",
       "      <td>0.376250</td>\n",
       "      <td>0.727543</td>\n",
       "      <td>0.541137</td>\n",
       "      <td>0.604654</td>\n",
       "      <td>0.885347</td>\n",
       "    </tr>\n",
       "    <tr>\n",
       "      <th>SZ1</th>\n",
       "      <td>0.673683</td>\n",
       "      <td>1.042104</td>\n",
       "      <td>0.394151</td>\n",
       "      <td>0.856059</td>\n",
       "      <td>0.576402</td>\n",
       "      <td>0.768036</td>\n",
       "      <td>1.489382</td>\n",
       "    </tr>\n",
       "    <tr>\n",
       "      <th>UCLA_CB</th>\n",
       "      <td>0.730380</td>\n",
       "      <td>1.105966</td>\n",
       "      <td>0.401428</td>\n",
       "      <td>0.922064</td>\n",
       "      <td>0.597079</td>\n",
       "      <td>0.815648</td>\n",
       "      <td>1.397368</td>\n",
       "    </tr>\n",
       "    <tr>\n",
       "      <th>Svip1</th>\n",
       "      <td>0.782033</td>\n",
       "      <td>1.154469</td>\n",
       "      <td>0.454669</td>\n",
       "      <td>0.926019</td>\n",
       "      <td>0.605744</td>\n",
       "      <td>0.837862</td>\n",
       "      <td>0.830476</td>\n",
       "    </tr>\n",
       "    <tr>\n",
       "      <th>UKBB11026</th>\n",
       "      <td>0.527638</td>\n",
       "      <td>0.875199</td>\n",
       "      <td>0.363156</td>\n",
       "      <td>0.710030</td>\n",
       "      <td>0.495884</td>\n",
       "      <td>0.615820</td>\n",
       "      <td>0.855711</td>\n",
       "    </tr>\n",
       "    <tr>\n",
       "      <th>UKBB11027</th>\n",
       "      <td>0.475367</td>\n",
       "      <td>0.856869</td>\n",
       "      <td>0.298232</td>\n",
       "      <td>0.684952</td>\n",
       "      <td>0.515439</td>\n",
       "      <td>0.570563</td>\n",
       "      <td>0.851497</td>\n",
       "    </tr>\n",
       "    <tr>\n",
       "      <th>UKBB11025</th>\n",
       "      <td>0.528403</td>\n",
       "      <td>0.883996</td>\n",
       "      <td>0.342991</td>\n",
       "      <td>0.717638</td>\n",
       "      <td>0.469125</td>\n",
       "      <td>0.615421</td>\n",
       "      <td>0.698351</td>\n",
       "    </tr>\n",
       "    <tr>\n",
       "      <th>ADHD1</th>\n",
       "      <td>0.666464</td>\n",
       "      <td>1.014964</td>\n",
       "      <td>0.365366</td>\n",
       "      <td>0.792147</td>\n",
       "      <td>0.500783</td>\n",
       "      <td>0.728405</td>\n",
       "      <td>0.789577</td>\n",
       "    </tr>\n",
       "    <tr>\n",
       "      <th>ADHD3</th>\n",
       "      <td>0.577069</td>\n",
       "      <td>0.934128</td>\n",
       "      <td>0.303521</td>\n",
       "      <td>0.747142</td>\n",
       "      <td>0.434444</td>\n",
       "      <td>0.649597</td>\n",
       "      <td>0.665908</td>\n",
       "    </tr>\n",
       "    <tr>\n",
       "      <th>NYU</th>\n",
       "      <td>0.541331</td>\n",
       "      <td>0.688998</td>\n",
       "      <td>0.333701</td>\n",
       "      <td>0.636281</td>\n",
       "      <td>0.414215</td>\n",
       "      <td>0.584770</td>\n",
       "      <td>0.529182</td>\n",
       "    </tr>\n",
       "    <tr>\n",
       "      <th>ADHD5</th>\n",
       "      <td>0.491974</td>\n",
       "      <td>0.669582</td>\n",
       "      <td>0.277484</td>\n",
       "      <td>0.581093</td>\n",
       "      <td>0.352194</td>\n",
       "      <td>0.543026</td>\n",
       "      <td>0.503495</td>\n",
       "    </tr>\n",
       "    <tr>\n",
       "      <th>UCLA_DS1</th>\n",
       "      <td>0.471003</td>\n",
       "      <td>0.670498</td>\n",
       "      <td>0.279222</td>\n",
       "      <td>0.549346</td>\n",
       "      <td>0.325420</td>\n",
       "      <td>0.512448</td>\n",
       "      <td>0.433623</td>\n",
       "    </tr>\n",
       "  </tbody>\n",
       "</table>\n",
       "</div>"
      ],
      "text/plain": [
       "                mtd  train_ES_2  test_ES_2  train_ES_3  test_ES_3  train_ES_5  \\\n",
       "USM        0.764509    1.132359   0.451143    0.931287   0.579388    0.855388   \n",
       "SZ3        0.874829    1.753874   0.588553    1.169738   0.870443    1.024973   \n",
       "SZ6        0.781702    1.413942   0.496196    1.038031   0.759704    0.900513   \n",
       "Svip2      0.942339    1.664893   0.594889    1.217237   0.829897    1.042979   \n",
       "ADHD6      0.706582    1.144653   0.381017    0.906519   0.539621    0.804333   \n",
       "HSJ        0.809507    1.304139   0.483406    1.042123   0.646658    0.946554   \n",
       "SZ2        0.505704    0.912210   0.376250    0.727543   0.541137    0.604654   \n",
       "SZ1        0.673683    1.042104   0.394151    0.856059   0.576402    0.768036   \n",
       "UCLA_CB    0.730380    1.105966   0.401428    0.922064   0.597079    0.815648   \n",
       "Svip1      0.782033    1.154469   0.454669    0.926019   0.605744    0.837862   \n",
       "UKBB11026  0.527638    0.875199   0.363156    0.710030   0.495884    0.615820   \n",
       "UKBB11027  0.475367    0.856869   0.298232    0.684952   0.515439    0.570563   \n",
       "UKBB11025  0.528403    0.883996   0.342991    0.717638   0.469125    0.615421   \n",
       "ADHD1      0.666464    1.014964   0.365366    0.792147   0.500783    0.728405   \n",
       "ADHD3      0.577069    0.934128   0.303521    0.747142   0.434444    0.649597   \n",
       "NYU        0.541331    0.688998   0.333701    0.636281   0.414215    0.584770   \n",
       "ADHD5      0.491974    0.669582   0.277484    0.581093   0.352194    0.543026   \n",
       "UCLA_DS1   0.471003    0.670498   0.279222    0.549346   0.325420    0.512448   \n",
       "\n",
       "           test_ES_5  \n",
       "USM         1.203378  \n",
       "SZ3         5.772502  \n",
       "SZ6         1.577601  \n",
       "Svip2       2.166504  \n",
       "ADHD6       1.188391  \n",
       "HSJ         1.378381  \n",
       "SZ2         0.885347  \n",
       "SZ1         1.489382  \n",
       "UCLA_CB     1.397368  \n",
       "Svip1       0.830476  \n",
       "UKBB11026   0.855711  \n",
       "UKBB11027   0.851497  \n",
       "UKBB11025   0.698351  \n",
       "ADHD1       0.789577  \n",
       "ADHD3       0.665908  \n",
       "NYU         0.529182  \n",
       "ADHD5       0.503495  \n",
       "UCLA_DS1    0.433623  "
      ]
     },
     "execution_count": 22,
     "metadata": {},
     "output_type": "execute_result"
    }
   ],
   "source": [
    "df_cv = pd.concat(cv_es,axis=1)\n",
    "df_age = pd.concat([df_mtd,df_cv],axis=1)\n",
    "df_age"
   ]
  },
  {
   "cell_type": "code",
   "execution_count": 40,
   "metadata": {},
   "outputs": [
    {
     "name": "stderr",
     "output_type": "stream",
     "text": [
      "/var/folders/5x/9dwn0lbx633gccy22ts5bskh0000gn/T/ipykernel_70302/508636987.py:17: UserWarning: FixedFormatter should only be used together with FixedLocator\n",
      "  ax.set_xticklabels(df_age.index, rotation=90)\n"
     ]
    },
    {
     "data": {
      "image/png": "[encoded data removed]",
      "text/plain": [
       "<Figure size 700x500 with 1 Axes>"
      ]
     },
     "metadata": {},
     "output_type": "display_data"
    }
   ],
   "source": [
    "import seaborn as sns\n",
    "import matplotlib.pyplot as plt\n",
    "\n",
    "sns.set_style('whitegrid')\n",
    "\n",
    "colors = ['navy','darkorchid','red','orange','dodgerblue','forestgreen']\n",
    "colors2 = ['dodgerblue','limegreen','orange','black','forestgreen']\n",
    "\n",
    "cp = sns.color_palette(colors2)\n",
    "sns.set_palette(cp)\n",
    "fig, ax = plt.subplots(figsize=(7,5))\n",
    "sns.scatterplot(data = df_age, x = df_age.index,y = 'test_ES_2',label='2-fold CV',marker='^')\n",
    "sns.scatterplot(data = df_age, x = df_age.index,y = 'test_ES_5',label='5-fold CV',marker='s')\n",
    "sns.scatterplot(data = df_age, x = df_age.index,y = 'test_ES_3',label='3-fold CV',marker='v')\n",
    "sns.scatterplot(data = df_age, x = df_age.index,y = 'mtd',label='MTD')\n",
    "plt.legend(loc='upper right')\n",
    "ax.set_xticklabels(df_age.index, rotation=90)\n",
    "ax.set_ylabel('Effect Size')\n",
    "#plt.suptitle('AGE - Cross-Validation of Effect Size')\n",
    "plt.text(4,2.6,'Age - Cross-Validation of Effect Size',fontsize=13)\n",
    "plt.ylim(0,2.5)\n",
    "plt.text(0.5,2.6,'SZ3\\n5-fold CV = 5.8', fontsize=9)\n",
    "plt.tight_layout()\n",
    "plt.savefig('./results/age_effect_size_cv.png',dpi=300)"
   ]
  },
  {
   "cell_type": "code",
   "execution_count": null,
   "metadata": {},
   "outputs": [],
   "source": []
  }
 ],
 "metadata": {
  "kernelspec": {
   "display_name": "fmri",
   "language": "python",
   "name": "python3"
  },
  "language_info": {
   "codemirror_mode": {
    "name": "ipython",
    "version": 3
   },
   "file_extension": ".py",
   "mimetype": "text/x-python",
   "name": "python",
   "nbconvert_exporter": "python",
   "pygments_lexer": "ipython3",
   "version": "3.9.15"
  },
  "orig_nbformat": 4
 },
 "nbformat": 4,
 "nbformat_minor": 2
}
