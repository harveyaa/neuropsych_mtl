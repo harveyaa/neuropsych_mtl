{
 "cells": [
  {
   "cell_type": "code",
   "execution_count": 10,
   "metadata": {},
   "outputs": [],
   "source": [
    "import pandas as pd\n",
    "import numpy as np"
   ]
  },
  {
   "cell_type": "code",
   "execution_count": 16,
   "metadata": {},
   "outputs": [
    {
     "name": "stdout",
     "output_type": "stream",
     "text": [
      "DEL15q11_2  206\n",
      "DEL1q21_1  50\n",
      "DUP1q21_1  38\n",
      "DEL22q11_2  86\n",
      "DUP22q11_2  44\n",
      "DEL16p11_2  64\n",
      "DUP16p11_2  70\n",
      "SZ  638\n",
      "BIP  157\n",
      "ASD  943\n",
      "ADHD  576\n",
      "2872\n"
     ]
    }
   ],
   "source": [
    "# TOTAL N FOR EACH DATASET\n",
    "\n",
    "path = '/Users/harveyaa/Documents/masters/neuropsych_mtl/datasets/cv_folds/intrasite/{}.csv'\n",
    "#cases = ['ASD','BIP','SZ']\n",
    "cases = ['DEL15q11_2','DEL1q21_1','DUP1q21_1','DEL22q11_2',\n",
    "            'DUP22q11_2','DEL16p11_2','DUP16p11_2','SZ','BIP','ASD','ADHD']\n",
    "cases_to_idx = dict(zip(cases, range(len(cases))))\n",
    "datasets = []\n",
    "sum = 0\n",
    "for case in cases:\n",
    "    df = pd.read_csv(path.format(case),index_col=0)\n",
    "    n = df.shape[0]\n",
    "    print(f'{case}  {n}')\n",
    "    sum += n\n",
    "    datasets.append(df)\n",
    "\n",
    "print(sum)"
   ]
  },
  {
   "cell_type": "code",
   "execution_count": 15,
   "metadata": {},
   "outputs": [
    {
     "name": "stderr",
     "output_type": "stream",
     "text": [
      "/var/folders/5x/9dwn0lbx633gccy22ts5bskh0000gn/T/ipykernel_16867/442850174.py:4: DtypeWarning: Columns (7,8,12,13,14,19,20,24,27,31,42,43,44,49,51,59,60,62,64,65,68,101,121,163) have mixed types. Specify dtype option on import or set low_memory=False.\n",
      "  pheno = pd.read_csv(pheno_p,index_col=0)\n"
     ]
    }
   ],
   "source": [
    "# LOAD PHENO\n",
    "pheno_p = '/Users/harveyaa/Documents/masters/data/pheno_26-01-22.csv'\n",
    "pheno = pd.read_csv(pheno_p,index_col=0)"
   ]
  },
  {
   "cell_type": "code",
   "execution_count": 35,
   "metadata": {},
   "outputs": [
    {
     "name": "stdout",
     "output_type": "stream",
     "text": [
      "CHANCE LEVELS FOR IPC\n",
      "ASD  0.5005122143420015\n",
      "BIP  0.28024193548387094\n",
      "SZ  0.4434670275590552\n",
      "ADHD  0.38721139430284857\n"
     ]
    }
   ],
   "source": [
    "# ASD\n",
    "\n",
    "ipc = ['ASD', 'BIP', 'SZ', 'ADHD']\n",
    "\n",
    "print('CHANCE LEVELS FOR IPC')\n",
    "for case in ipc:\n",
    "    means = 0\n",
    "\n",
    "    for i in range(5):\n",
    "    # test set of a given fold\n",
    "        test_idx = datasets[cases_to_idx[case]][datasets[cases_to_idx[case]][f'fold_{i}'] == 1].index\n",
    "        mean = pheno.loc[test_idx][case].describe().loc['mean']\n",
    "        means+= mean\n",
    "\n",
    "    print(f'{case}  {means/5}')"
   ]
  }
 ],
 "metadata": {
  "kernelspec": {
   "display_name": "Python 3.9.15 ('fmri')",
   "language": "python",
   "name": "python3"
  },
  "language_info": {
   "codemirror_mode": {
    "name": "ipython",
    "version": 3
   },
   "file_extension": ".py",
   "mimetype": "text/x-python",
   "name": "python",
   "nbconvert_exporter": "python",
   "pygments_lexer": "ipython3",
   "version": "3.9.15"
  },
  "orig_nbformat": 4,
  "vscode": {
   "interpreter": {
    "hash": "7ea07d7e26f64274b859969024e9bc122a0aaa5b386426249452447396636cf1"
   }
  }
 },
 "nbformat": 4,
 "nbformat_minor": 2
}
