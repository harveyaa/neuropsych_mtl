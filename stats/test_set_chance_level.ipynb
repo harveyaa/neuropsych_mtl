{
 "cells": [
  {
   "cell_type": "code",
   "execution_count": 1,
   "metadata": {},
   "outputs": [],
   "source": [
    "import pandas as pd\n",
    "import numpy as np"
   ]
  },
  {
   "cell_type": "code",
   "execution_count": 2,
   "metadata": {},
   "outputs": [],
   "source": [
    "path = '/Users/harveyaa/Documents/masters/neuropsych_mtl/datasets/cv_folds/hybrid/{}.csv'\n",
    "cases = ['ASD','BIP','SZ']\n",
    "datasets = []\n",
    "for case in cases:\n",
    "    df = pd.read_csv(path.format(case),index_col=0)\n",
    "    datasets.append(df)"
   ]
  },
  {
   "cell_type": "code",
   "execution_count": 3,
   "metadata": {},
   "outputs": [
    {
     "data": {
      "text/plain": [
       "0.5125187272170665"
      ]
     },
     "execution_count": 3,
     "metadata": {},
     "output_type": "execute_result"
    }
   ],
   "source": [
    "df_asd = datasets[0]\n",
    "df_chance_asd = df_asd.groupby('ASD').sum().loc[0]/(df_asd.groupby('ASD').sum().loc[0] + df_asd.groupby('ASD').sum().loc[1])\n",
    "df_chance_asd.mean()"
   ]
  },
  {
   "cell_type": "code",
   "execution_count": 4,
   "metadata": {},
   "outputs": [
    {
     "data": {
      "text/plain": [
       "0.5"
      ]
     },
     "execution_count": 4,
     "metadata": {},
     "output_type": "execute_result"
    }
   ],
   "source": [
    "df_bip = datasets[1]\n",
    "df_chance_bip = df_bip.groupby('BIP').sum().loc[0]/(df_bip.groupby('BIP').sum().loc[0] + df_bip.groupby('BIP').sum().loc[1])\n",
    "df_chance_bip.mean()"
   ]
  },
  {
   "cell_type": "code",
   "execution_count": 5,
   "metadata": {},
   "outputs": [
    {
     "data": {
      "text/plain": [
       "0.5111111111111111"
      ]
     },
     "execution_count": 5,
     "metadata": {},
     "output_type": "execute_result"
    }
   ],
   "source": [
    "df_sz = datasets[2]\n",
    "df_chance_sz = df_sz.groupby('SZ').sum().loc[0]/(df_sz.groupby('SZ').sum().loc[0] + df_sz.groupby('SZ').sum().loc[1])\n",
    "df_chance_sz.mean()"
   ]
  },
  {
   "cell_type": "code",
   "execution_count": 8,
   "metadata": {},
   "outputs": [
    {
     "name": "stderr",
     "output_type": "stream",
     "text": [
      "/var/folders/5x/9dwn0lbx633gccy22ts5bskh0000gn/T/ipykernel_26565/1023519275.py:11: DtypeWarning: Columns (7,8,12,13,14,19,20,24,27,31,42,43,44,49,51,59,60,62,64,65,68,101,121,163) have mixed types. Specify dtype option on import or set low_memory=False.\n",
      "  pheno = pd.read_csv(pheno_p,index_col=0)\n"
     ]
    }
   ],
   "source": [
    "pheno_p = '/Users/harveyaa/Documents/masters/data/pheno_26-01-22.csv'\n",
    "\n",
    "conf = ['AGE','mean_conn','FD_scrubbed','SEX','SITE']\n",
    "cases = ['DEL15q11_2','DUP15q11_2','DUP15q13_3_CHRNA7','DEL2q13','DUP2q13','DUP16p13_11',\n",
    "            'DEL13q12_12','DUP13q12_12','TAR_dup','DEL1q21_1','DUP1q21_1','DEL22q11_2',\n",
    "            'DUP22q11_2','DEL16p11_2','DUP16p11_2','SZ','BIP','ASD','ADHD']\n",
    "\n",
    "##############\n",
    "# LOAD PHENO #\n",
    "##############\n",
    "pheno = pd.read_csv(pheno_p,index_col=0)\n",
    "\n",
    "ipc = ['ADHD','BIP','SZ','ASD']"
   ]
  },
  {
   "cell_type": "code",
   "execution_count": 17,
   "metadata": {},
   "outputs": [],
   "source": [
    "adhd_sites = pheno[pheno['ADHD']==1]['SITE'].unique().tolist()\n",
    "bip_sites = pheno[pheno['BIP']==1]['SITE'].unique().tolist()\n",
    "sz_sites = pheno[pheno['SZ']==1]['SITE'].unique().tolist()\n",
    "asd_sites = pheno[pheno['ASD']==1]['SITE'].unique().tolist()"
   ]
  },
  {
   "cell_type": "code",
   "execution_count": 66,
   "metadata": {},
   "outputs": [
    {
     "data": {
      "text/plain": [
       "0.3871527777777778"
      ]
     },
     "execution_count": 66,
     "metadata": {},
     "output_type": "execute_result"
    }
   ],
   "source": [
    "per_site_adhd = []\n",
    "n_site_adhd = []\n",
    "for site in adhd_sites:\n",
    "    perc_case = pheno[(pheno['SITE']==site) & ((pheno['ADHD']==1)|pheno['CON_IPC']==1)]['ADHD'].mean()\n",
    "    n = pheno[(pheno['SITE']==site) & ((pheno['ADHD']==1)|pheno['CON_IPC']==1)].shape[0]\n",
    "\n",
    "    per_site_adhd.append(perc_case)\n",
    "    n_site_adhd.append(n)\n",
    "\n",
    "np.sum((np.array(per_site_adhd)*np.array(n_site_adhd))/np.sum(n_site_adhd))"
   ]
  },
  {
   "cell_type": "code",
   "execution_count": 65,
   "metadata": {},
   "outputs": [
    {
     "data": {
      "text/plain": [
       "0.5005302226935313"
      ]
     },
     "execution_count": 65,
     "metadata": {},
     "output_type": "execute_result"
    }
   ],
   "source": [
    "per_site_asd = []\n",
    "n_site_asd = []\n",
    "for site in asd_sites:\n",
    "    perc_case = pheno[(pheno['SITE']==site) & ((pheno['ASD']==1)|pheno['CON_IPC']==1)]['ASD'].mean()\n",
    "    n = pheno[(pheno['SITE']==site) & ((pheno['ASD']==1)|pheno['CON_IPC']==1)].shape[0]\n",
    "\n",
    "    per_site_asd.append(perc_case)\n",
    "    n_site_asd.append(n)\n",
    "\n",
    "np.sum((np.array(per_site_asd)*np.array(n_site_asd))/np.sum(n_site_asd))"
   ]
  },
  {
   "cell_type": "code",
   "execution_count": 64,
   "metadata": {},
   "outputs": [
    {
     "data": {
      "text/plain": [
       "0.4435736677115988"
      ]
     },
     "execution_count": 64,
     "metadata": {},
     "output_type": "execute_result"
    }
   ],
   "source": [
    "per_site_sz = []\n",
    "n_site_sz = []\n",
    "for site in sz_sites:\n",
    "    perc_case = pheno[(pheno['SITE']==site) & ((pheno['SZ']==1)|pheno['CON_IPC']==1)]['SZ'].mean()\n",
    "    n = pheno[(pheno['SITE']==site) & ((pheno['SZ']==1)|pheno['CON_IPC']==1)].shape[0]\n",
    "\n",
    "    per_site_sz.append(perc_case)\n",
    "    n_site_sz.append(n)\n",
    "\n",
    "np.sum((np.array(per_site_sz)*np.array(n_site_sz))/np.sum(n_site_sz))"
   ]
  },
  {
   "cell_type": "code",
   "execution_count": 63,
   "metadata": {},
   "outputs": [
    {
     "data": {
      "text/plain": [
       "0.28025477707006374"
      ]
     },
     "execution_count": 63,
     "metadata": {},
     "output_type": "execute_result"
    }
   ],
   "source": [
    "per_site_bip = []\n",
    "n_site_bip = []\n",
    "for site in bip_sites:\n",
    "    perc_case = pheno[(pheno['SITE']==site) & ((pheno['BIP']==1)|pheno['CON_IPC']==1)]['BIP'].mean()\n",
    "    n = pheno[(pheno['SITE']==site) & ((pheno['BIP']==1)|pheno['CON_IPC']==1)].shape[0]\n",
    "\n",
    "    per_site_bip.append(perc_case)\n",
    "    n_site_bip.append(n)\n",
    "\n",
    "np.sum((np.array(per_site_bip)*np.array(n_site_bip))/np.sum(n_site_bip))"
   ]
  },
  {
   "cell_type": "code",
   "execution_count": 56,
   "metadata": {},
   "outputs": [
    {
     "data": {
      "text/plain": [
       "12"
      ]
     },
     "execution_count": 56,
     "metadata": {},
     "output_type": "execute_result"
    }
   ],
   "source": [
    "len(n_site_sz)"
   ]
  },
  {
   "cell_type": "code",
   "execution_count": 67,
   "metadata": {},
   "outputs": [],
   "source": [
    "from sklearn.model_selection import train_test_split"
   ]
  },
  {
   "cell_type": "code",
   "execution_count": 69,
   "metadata": {},
   "outputs": [],
   "source": [
    "df_sz = pheno[(pheno['SITE'].isin(sz_sites)) & ((pheno['SZ']==1)|pheno['CON_IPC']==1)]"
   ]
  },
  {
   "cell_type": "code",
   "execution_count": 87,
   "metadata": {},
   "outputs": [
    {
     "name": "stdout",
     "output_type": "stream",
     "text": [
      "ASD\n",
      "0.5005296610169492\n",
      "ADHD\n",
      "0.38702777777777775\n",
      "BIP\n",
      "0.28245\n",
      "SZ\n",
      "0.4419875\n"
     ]
    }
   ],
   "source": [
    "for case in ['ASD','ADHD','BIP','SZ']:\n",
    "    print(case)\n",
    "    perc_test = []\n",
    "    for i in range(1000):\n",
    "        sites = pheno[pheno[case]==1]['SITE'].unique().tolist()\n",
    "        df = pheno[(pheno['SITE'].isin(sites)) & ((pheno[case]==1)|pheno['CON_IPC']==1)]\n",
    "        _,X_test = train_test_split(df,stratify=df['SITE'])\n",
    "        perc_test.append(X_test[case].mean())\n",
    "    print(np.mean(perc_test))"
   ]
  }
 ],
 "metadata": {
  "kernelspec": {
   "display_name": "Python 3.9.15 ('fmri')",
   "language": "python",
   "name": "python3"
  },
  "language_info": {
   "codemirror_mode": {
    "name": "ipython",
    "version": 3
   },
   "file_extension": ".py",
   "mimetype": "text/x-python",
   "name": "python",
   "nbconvert_exporter": "python",
   "pygments_lexer": "ipython3",
   "version": "3.9.15"
  },
  "orig_nbformat": 4,
  "vscode": {
   "interpreter": {
    "hash": "7ea07d7e26f64274b859969024e9bc122a0aaa5b386426249452447396636cf1"
   }
  }
 },
 "nbformat": 4,
 "nbformat_minor": 2
}
