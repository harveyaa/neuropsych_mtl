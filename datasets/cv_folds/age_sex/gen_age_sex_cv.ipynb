{
 "cells": [
  {
   "cell_type": "code",
   "execution_count": 6,
   "metadata": {},
   "outputs": [],
   "source": [
    "import pandas as pd\n",
    "import numpy as np\n",
    "import os\n",
    "\n",
    "from sklearn.model_selection import StratifiedKFold"
   ]
  },
  {
   "attachments": {},
   "cell_type": "markdown",
   "metadata": {},
   "source": [
    "# Load pheno"
   ]
  },
  {
   "cell_type": "code",
   "execution_count": 7,
   "metadata": {},
   "outputs": [
    {
     "name": "stderr",
     "output_type": "stream",
     "text": [
      "/var/folders/5x/9dwn0lbx633gccy22ts5bskh0000gn/T/ipykernel_24450/1011432404.py:2: DtypeWarning: Columns (7,8,12,13,14,19,20,24,27,31,42,43,44,49,51,59,60,62,64,65,68,101,121,163) have mixed types. Specify dtype option on import or set low_memory=False.\n",
      "  pheno = pd.read_csv(pheno_p, index_col=0)\n"
     ]
    }
   ],
   "source": [
    "pheno_p = '/Users/harveyaa/Documents/masters/data/pheno_26-01-22.csv'\n",
    "pheno = pd.read_csv(pheno_p, index_col=0)"
   ]
  },
  {
   "attachments": {},
   "cell_type": "markdown",
   "metadata": {},
   "source": [
    "# Filter sites w/ enough controls"
   ]
  },
  {
   "cell_type": "code",
   "execution_count": 8,
   "metadata": {},
   "outputs": [],
   "source": [
    "sites = pheno['SITE'].unique()\n",
    "\n",
    "sites = [s for s in sites if pheno[((pheno['non_carriers'] == 1)|(pheno['CON_IPC'] == 1)) & (pheno['SITE'] == s)].shape[0] >= 30]"
   ]
  },
  {
   "cell_type": "code",
   "execution_count": 5,
   "metadata": {},
   "outputs": [
    {
     "data": {
      "text/plain": [
       "['UCLA_DS1',\n",
       " 'UKBB11026',\n",
       " 'UKBB11025',\n",
       " 'UKBB11027',\n",
       " 'HSJ',\n",
       " 'UCLA_CB',\n",
       " 'Svip1',\n",
       " 'Svip2',\n",
       " 'USM',\n",
       " 'NYU',\n",
       " 'SZ3',\n",
       " 'SZ1',\n",
       " 'SZ2',\n",
       " 'SZ6',\n",
       " 'ADHD5',\n",
       " 'ADHD6',\n",
       " 'ADHD3',\n",
       " 'ADHD1']"
      ]
     },
     "execution_count": 5,
     "metadata": {},
     "output_type": "execute_result"
    }
   ],
   "source": [
    "sites"
   ]
  },
  {
   "attachments": {},
   "cell_type": "markdown",
   "metadata": {},
   "source": [
    "# Get CV splits"
   ]
  },
  {
   "cell_type": "code",
   "execution_count": 30,
   "metadata": {},
   "outputs": [
    {
     "name": "stderr",
     "output_type": "stream",
     "text": [
      "/Users/harveyaa/miniconda3/envs/fmri/lib/python3.9/site-packages/sklearn/model_selection/_split.py:700: UserWarning: The least populated class in y has only 3 members, which is less than n_splits=5.\n",
      "  warnings.warn(\n",
      "/Users/harveyaa/miniconda3/envs/fmri/lib/python3.9/site-packages/sklearn/model_selection/_split.py:700: UserWarning: The least populated class in y has only 2 members, which is less than n_splits=5.\n",
      "  warnings.warn(\n"
     ]
    }
   ],
   "source": [
    "for s in sites:\n",
    "    if s[:4] != 'UKBB':\n",
    "        df = pheno[((pheno['non_carriers'] == 1)|(pheno['CON_IPC'] == 1)) & (pheno['SITE'] == s)]\n",
    "        skf = StratifiedKFold(n_splits=5,shuffle=True)\n",
    "        res = skf.split(df.index,df['SEX'])\n",
    "        cols = []\n",
    "\n",
    "        for _,r in res:\n",
    "            col = np.zeros(len(df.index))\n",
    "            col[r] = 1\n",
    "            cols.append(col)\n",
    "        splits = pd.DataFrame(cols,columns=df.index, index=['fold_0','fold_1','fold_2','fold_3','fold_4']).transpose()\n",
    "        splits.to_csv(f'{s}.csv')"
   ]
  },
  {
   "attachments": {},
   "cell_type": "markdown",
   "metadata": {},
   "source": [
    "# UKBB"
   ]
  },
  {
   "cell_type": "code",
   "execution_count": 31,
   "metadata": {},
   "outputs": [],
   "source": [
    "import random\n",
    "\n",
    "for s in ['UKBB11025','UKBB11026','UKBB11027']:\n",
    "    for k in [50,100,200,500,1000,1500,2000,2500,3000,3500,4000,4500]:\n",
    "        df = pheno[((pheno['non_carriers'] == 1)|(pheno['CON_IPC'] == 1)) & (pheno['SITE'] == s)]\n",
    "        idx = random.sample(df.index.to_list(),k)\n",
    "\n",
    "        skf = StratifiedKFold(n_splits=5,shuffle=True)\n",
    "        res = skf.split(idx,df[df.index.isin(idx)]['SEX'])\n",
    "        cols = []\n",
    "        for _,r in res:\n",
    "            col = np.zeros(len(idx))\n",
    "            col[r] = 1\n",
    "            cols.append(col)\n",
    "        splits = pd.DataFrame(cols,columns=idx, index=['fold_0','fold_1','fold_2','fold_3','fold_4']).transpose()\n",
    "        splits.to_csv(f'{s}_{k}.csv')"
   ]
  },
  {
   "cell_type": "code",
   "execution_count": 9,
   "metadata": {},
   "outputs": [],
   "source": [
    "import random\n",
    "# FOR ALIGNED CURVE\n",
    "\n",
    "for s in ['UKBB11025']:\n",
    "    for k in [150,300,600,6000,7500,9000,10500,12000,13500]:\n",
    "        df = pheno[((pheno['non_carriers'] == 1)|(pheno['CON_IPC'] == 1)) & (pheno['SITE'] == s)]\n",
    "        idx = random.sample(df.index.to_list(),k)\n",
    "\n",
    "        skf = StratifiedKFold(n_splits=5,shuffle=True)\n",
    "        res = skf.split(idx,df[df.index.isin(idx)]['SEX'])\n",
    "        cols = []\n",
    "        for _,r in res:\n",
    "            col = np.zeros(len(idx))\n",
    "            col[r] = 1\n",
    "            cols.append(col)\n",
    "        splits = pd.DataFrame(cols,columns=idx, index=['fold_0','fold_1','fold_2','fold_3','fold_4']).transpose()\n",
    "        splits.to_csv(f'{s}_{k}.csv')"
   ]
  },
  {
   "cell_type": "code",
   "execution_count": null,
   "metadata": {},
   "outputs": [],
   "source": []
  }
 ],
 "metadata": {
  "kernelspec": {
   "display_name": "fmri",
   "language": "python",
   "name": "python3"
  },
  "language_info": {
   "codemirror_mode": {
    "name": "ipython",
    "version": 3
   },
   "file_extension": ".py",
   "mimetype": "text/x-python",
   "name": "python",
   "nbconvert_exporter": "python",
   "pygments_lexer": "ipython3",
   "version": "3.9.15"
  },
  "orig_nbformat": 4,
  "vscode": {
   "interpreter": {
    "hash": "7ea07d7e26f64274b859969024e9bc122a0aaa5b386426249452447396636cf1"
   }
  }
 },
 "nbformat": 4,
 "nbformat_minor": 2
}
