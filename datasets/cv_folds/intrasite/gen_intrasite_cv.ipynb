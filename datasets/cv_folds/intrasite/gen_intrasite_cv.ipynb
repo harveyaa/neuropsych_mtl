{
 "cells": [
  {
   "cell_type": "code",
   "execution_count": 1,
   "metadata": {},
   "outputs": [],
   "source": [
    "import pandas as pd\n",
    "import numpy as np\n",
    "import os\n",
    "\n",
    "from sklearn.model_selection import StratifiedKFold"
   ]
  },
  {
   "attachments": {},
   "cell_type": "markdown",
   "metadata": {},
   "source": [
    "# Load pheno"
   ]
  },
  {
   "cell_type": "code",
   "execution_count": 2,
   "metadata": {},
   "outputs": [
    {
     "name": "stderr",
     "output_type": "stream",
     "text": [
      "/var/folders/5x/9dwn0lbx633gccy22ts5bskh0000gn/T/ipykernel_4943/1011432404.py:2: DtypeWarning: Columns (7,8,12,13,14,19,20,24,27,31,42,43,44,49,51,59,60,62,64,65,68,101,121,163) have mixed types. Specify dtype option on import or set low_memory=False.\n",
      "  pheno = pd.read_csv(pheno_p, index_col=0)\n"
     ]
    }
   ],
   "source": [
    "pheno_p = '/Users/harveyaa/Documents/masters/data/pheno_26-01-22.csv'\n",
    "pheno = pd.read_csv(pheno_p, index_col=0)"
   ]
  },
  {
   "attachments": {},
   "cell_type": "markdown",
   "metadata": {},
   "source": [
    "# Load datasets"
   ]
  },
  {
   "cell_type": "code",
   "execution_count": 3,
   "metadata": {},
   "outputs": [],
   "source": [
    "#cases = ['ADHD','ASD','BIP','SZ','DEL1q21_1','DUP1q21_1','DEL22q11_2','DUP22q11_2','DEL16p11_2','DUP16p11_2']\n",
    "cases = ['DEL15q11_2']\n",
    "id_p = '/Users/harveyaa/Documents/masters/neuropsych_mtl/datasets/{}.txt'\n",
    "ids = []\n",
    "for case in cases:\n",
    "    ids.append(pd.read_csv(id_p.format(case),header=None))\n",
    "ids = dict(zip(cases,ids))"
   ]
  },
  {
   "attachments": {},
   "cell_type": "markdown",
   "metadata": {},
   "source": [
    "# Get CV splits"
   ]
  },
  {
   "cell_type": "code",
   "execution_count": 4,
   "metadata": {},
   "outputs": [
    {
     "name": "stdout",
     "output_type": "stream",
     "text": [
      "DEL15q11_2\n"
     ]
    }
   ],
   "source": [
    "cvs = []\n",
    "for case in cases:\n",
    "    print(case)\n",
    "    df = pheno[pheno.index.isin(ids[case][0])]\n",
    "\n",
    "    skf = StratifiedKFold(n_splits=5,shuffle=True)\n",
    "    res = skf.split(df.index,df['SITE'])\n",
    "\n",
    "    cols = []\n",
    "    for _,r in res:\n",
    "        col = np.zeros(len(df.index))\n",
    "        col[r] = 1\n",
    "        cols.append(col)\n",
    "    splits = pd.DataFrame(cols,columns=df.index, index=['fold_0','fold_1','fold_2','fold_3','fold_4']).transpose()\n",
    "    splits.to_csv(f'{case}.csv')\n",
    "    cvs.append(splits)"
   ]
  },
  {
   "attachments": {},
   "cell_type": "markdown",
   "metadata": {},
   "source": [
    "# Investigate splits"
   ]
  },
  {
   "cell_type": "code",
   "execution_count": 5,
   "metadata": {},
   "outputs": [],
   "source": [
    "ratios = []\n",
    "for i,case in enumerate(cases):\n",
    "    cv = cvs[i]\n",
    "\n",
    "    ratio = []\n",
    "    for fold in [0,1,2,3,4]:\n",
    "        subs = cv[cv[f'fold_{fold}']==1].index\n",
    "        ratio.append(pheno[pheno.index.isin(subs)][case].mean())\n",
    "    ratios.append(ratio)"
   ]
  },
  {
   "cell_type": "code",
   "execution_count": 6,
   "metadata": {},
   "outputs": [
    {
     "data": {
      "text/html": [
       "<div>\n",
       "<style scoped>\n",
       "    .dataframe tbody tr th:only-of-type {\n",
       "        vertical-align: middle;\n",
       "    }\n",
       "\n",
       "    .dataframe tbody tr th {\n",
       "        vertical-align: top;\n",
       "    }\n",
       "\n",
       "    .dataframe thead th {\n",
       "        text-align: right;\n",
       "    }\n",
       "</style>\n",
       "<table border=\"1\" class=\"dataframe\">\n",
       "  <thead>\n",
       "    <tr style=\"text-align: right;\">\n",
       "      <th></th>\n",
       "      <th>0</th>\n",
       "      <th>1</th>\n",
       "      <th>2</th>\n",
       "      <th>3</th>\n",
       "      <th>4</th>\n",
       "      <th>mean</th>\n",
       "    </tr>\n",
       "  </thead>\n",
       "  <tbody>\n",
       "    <tr>\n",
       "      <th>DEL15q11_2</th>\n",
       "      <td>0.571429</td>\n",
       "      <td>0.487805</td>\n",
       "      <td>0.560976</td>\n",
       "      <td>0.439024</td>\n",
       "      <td>0.439024</td>\n",
       "      <td>0.499652</td>\n",
       "    </tr>\n",
       "  </tbody>\n",
       "</table>\n",
       "</div>"
      ],
      "text/plain": [
       "                   0         1         2         3         4      mean\n",
       "DEL15q11_2  0.571429  0.487805  0.560976  0.439024  0.439024  0.499652"
      ]
     },
     "execution_count": 6,
     "metadata": {},
     "output_type": "execute_result"
    }
   ],
   "source": [
    "df = pd.DataFrame(ratios,index=cases)\n",
    "df['mean'] = df.mean(axis=1)\n",
    "\n",
    "df"
   ]
  },
  {
   "cell_type": "code",
   "execution_count": null,
   "metadata": {},
   "outputs": [],
   "source": []
  }
 ],
 "metadata": {
  "kernelspec": {
   "display_name": "fmri",
   "language": "python",
   "name": "python3"
  },
  "language_info": {
   "codemirror_mode": {
    "name": "ipython",
    "version": 3
   },
   "file_extension": ".py",
   "mimetype": "text/x-python",
   "name": "python",
   "nbconvert_exporter": "python",
   "pygments_lexer": "ipython3",
   "version": "3.9.15"
  },
  "orig_nbformat": 4,
  "vscode": {
   "interpreter": {
    "hash": "7ea07d7e26f64274b859969024e9bc122a0aaa5b386426249452447396636cf1"
   }
  }
 },
 "nbformat": 4,
 "nbformat_minor": 2
}
