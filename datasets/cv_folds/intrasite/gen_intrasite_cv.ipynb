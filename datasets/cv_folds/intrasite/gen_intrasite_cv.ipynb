{
 "cells": [
  {
   "cell_type": "code",
   "execution_count": 1,
   "metadata": {},
   "outputs": [],
   "source": [
    "import pandas as pd\n",
    "import numpy as np\n",
    "import os\n",
    "\n",
    "from sklearn.model_selection import StratifiedKFold"
   ]
  },
  {
   "attachments": {},
   "cell_type": "markdown",
   "metadata": {},
   "source": [
    "# Load pheno"
   ]
  },
  {
   "cell_type": "code",
   "execution_count": 2,
   "metadata": {},
   "outputs": [
    {
     "name": "stderr",
     "output_type": "stream",
     "text": [
      "/var/folders/5x/9dwn0lbx633gccy22ts5bskh0000gn/T/ipykernel_94905/1011432404.py:2: DtypeWarning: Columns (7,8,12,13,14,19,20,24,27,31,42,43,44,49,51,59,60,62,64,65,68,101,121,163) have mixed types. Specify dtype option on import or set low_memory=False.\n",
      "  pheno = pd.read_csv(pheno_p, index_col=0)\n"
     ]
    }
   ],
   "source": [
    "pheno_p = '/Users/harveyaa/Documents/masters/data/pheno_26-01-22.csv'\n",
    "pheno = pd.read_csv(pheno_p, index_col=0)"
   ]
  },
  {
   "attachments": {},
   "cell_type": "markdown",
   "metadata": {},
   "source": [
    "# Load datasets"
   ]
  },
  {
   "cell_type": "code",
   "execution_count": 8,
   "metadata": {},
   "outputs": [],
   "source": [
    "cases = ['ADHD','ASD','BIP','SZ','DEL1q21_1','DUP1q21_1','DEL22q11_2','DUP22q11_2','DEL16p11_2','DUP16p11_2']\n",
    "id_p = '/Users/harveyaa/Documents/masters/neuropsych_mtl/datasets/{}.txt'\n",
    "ids = []\n",
    "for case in cases:\n",
    "    ids.append(pd.read_csv(id_p.format(case),header=None))\n",
    "ids = dict(zip(cases,ids))"
   ]
  },
  {
   "attachments": {},
   "cell_type": "markdown",
   "metadata": {},
   "source": [
    "# Get CV splits"
   ]
  },
  {
   "cell_type": "code",
   "execution_count": 20,
   "metadata": {},
   "outputs": [
    {
     "name": "stdout",
     "output_type": "stream",
     "text": [
      "ADHD\n",
      "ASD\n",
      "BIP\n",
      "SZ\n",
      "DEL1q21_1\n",
      "DUP1q21_1\n",
      "DEL22q11_2\n",
      "DUP22q11_2\n",
      "DEL16p11_2\n",
      "DUP16p11_2\n"
     ]
    },
    {
     "name": "stderr",
     "output_type": "stream",
     "text": [
      "/Users/harveyaa/miniconda3/envs/fmri/lib/python3.9/site-packages/sklearn/model_selection/_split.py:700: UserWarning: The least populated class in y has only 4 members, which is less than n_splits=5.\n",
      "  warnings.warn(\n",
      "/Users/harveyaa/miniconda3/envs/fmri/lib/python3.9/site-packages/sklearn/model_selection/_split.py:700: UserWarning: The least populated class in y has only 2 members, which is less than n_splits=5.\n",
      "  warnings.warn(\n",
      "/Users/harveyaa/miniconda3/envs/fmri/lib/python3.9/site-packages/sklearn/model_selection/_split.py:700: UserWarning: The least populated class in y has only 2 members, which is less than n_splits=5.\n",
      "  warnings.warn(\n",
      "/Users/harveyaa/miniconda3/envs/fmri/lib/python3.9/site-packages/sklearn/model_selection/_split.py:700: UserWarning: The least populated class in y has only 2 members, which is less than n_splits=5.\n",
      "  warnings.warn(\n",
      "/Users/harveyaa/miniconda3/envs/fmri/lib/python3.9/site-packages/sklearn/model_selection/_split.py:700: UserWarning: The least populated class in y has only 2 members, which is less than n_splits=5.\n",
      "  warnings.warn(\n"
     ]
    }
   ],
   "source": [
    "cvs = []\n",
    "for case in cases:\n",
    "    print(case)\n",
    "    df = pheno[pheno.index.isin(ids[case][0])]\n",
    "\n",
    "    skf = StratifiedKFold(n_splits=5,shuffle=True)\n",
    "    res = skf.split(df.index,df['SITE'])\n",
    "\n",
    "    cols = []\n",
    "    for _,r in res:\n",
    "        col = np.zeros(len(df.index))\n",
    "        col[r] = 1\n",
    "        cols.append(col)\n",
    "    splits = pd.DataFrame(cols,columns=df.index, index=['fold_0','fold_1','fold_2','fold_3','fold_4']).transpose()\n",
    "    splits.to_csv(f'{case}.csv')\n",
    "    cvs.append(splits)"
   ]
  },
  {
   "attachments": {},
   "cell_type": "markdown",
   "metadata": {},
   "source": [
    "# Investigate splits"
   ]
  },
  {
   "cell_type": "code",
   "execution_count": 32,
   "metadata": {},
   "outputs": [],
   "source": [
    "ratios = []\n",
    "for i,case in enumerate(cases):\n",
    "    cv = cvs[i]\n",
    "\n",
    "    ratio = []\n",
    "    for fold in [0,1,2,3,4]:\n",
    "        subs = cv[cv[f'fold_{fold}']==1].index\n",
    "        ratio.append(pheno[pheno.index.isin(subs)][case].mean())\n",
    "    ratios.append(ratio)"
   ]
  },
  {
   "cell_type": "code",
   "execution_count": 37,
   "metadata": {},
   "outputs": [
    {
     "data": {
      "text/html": [
       "<div>\n",
       "<style scoped>\n",
       "    .dataframe tbody tr th:only-of-type {\n",
       "        vertical-align: middle;\n",
       "    }\n",
       "\n",
       "    .dataframe tbody tr th {\n",
       "        vertical-align: top;\n",
       "    }\n",
       "\n",
       "    .dataframe thead th {\n",
       "        text-align: right;\n",
       "    }\n",
       "</style>\n",
       "<table border=\"1\" class=\"dataframe\">\n",
       "  <thead>\n",
       "    <tr style=\"text-align: right;\">\n",
       "      <th></th>\n",
       "      <th>0</th>\n",
       "      <th>1</th>\n",
       "      <th>2</th>\n",
       "      <th>3</th>\n",
       "      <th>4</th>\n",
       "      <th>mean</th>\n",
       "    </tr>\n",
       "  </thead>\n",
       "  <tbody>\n",
       "    <tr>\n",
       "      <th>ADHD</th>\n",
       "      <td>0.353448</td>\n",
       "      <td>0.443478</td>\n",
       "      <td>0.330435</td>\n",
       "      <td>0.452174</td>\n",
       "      <td>0.356522</td>\n",
       "      <td>0.387211</td>\n",
       "    </tr>\n",
       "    <tr>\n",
       "      <th>ASD</th>\n",
       "      <td>0.470899</td>\n",
       "      <td>0.539683</td>\n",
       "      <td>0.507937</td>\n",
       "      <td>0.446809</td>\n",
       "      <td>0.537234</td>\n",
       "      <td>0.500512</td>\n",
       "    </tr>\n",
       "    <tr>\n",
       "      <th>BIP</th>\n",
       "      <td>0.312500</td>\n",
       "      <td>0.250000</td>\n",
       "      <td>0.193548</td>\n",
       "      <td>0.322581</td>\n",
       "      <td>0.322581</td>\n",
       "      <td>0.280242</td>\n",
       "    </tr>\n",
       "    <tr>\n",
       "      <th>SZ</th>\n",
       "      <td>0.500000</td>\n",
       "      <td>0.398438</td>\n",
       "      <td>0.500000</td>\n",
       "      <td>0.425197</td>\n",
       "      <td>0.393701</td>\n",
       "      <td>0.443467</td>\n",
       "    </tr>\n",
       "    <tr>\n",
       "      <th>DEL1q21_1</th>\n",
       "      <td>0.600000</td>\n",
       "      <td>0.500000</td>\n",
       "      <td>0.600000</td>\n",
       "      <td>0.500000</td>\n",
       "      <td>0.300000</td>\n",
       "      <td>0.500000</td>\n",
       "    </tr>\n",
       "    <tr>\n",
       "      <th>DUP1q21_1</th>\n",
       "      <td>0.375000</td>\n",
       "      <td>0.625000</td>\n",
       "      <td>0.750000</td>\n",
       "      <td>0.428571</td>\n",
       "      <td>0.285714</td>\n",
       "      <td>0.492857</td>\n",
       "    </tr>\n",
       "    <tr>\n",
       "      <th>DEL22q11_2</th>\n",
       "      <td>0.611111</td>\n",
       "      <td>0.588235</td>\n",
       "      <td>0.529412</td>\n",
       "      <td>0.294118</td>\n",
       "      <td>0.470588</td>\n",
       "      <td>0.498693</td>\n",
       "    </tr>\n",
       "    <tr>\n",
       "      <th>DUP22q11_2</th>\n",
       "      <td>0.777778</td>\n",
       "      <td>0.444444</td>\n",
       "      <td>0.555556</td>\n",
       "      <td>0.333333</td>\n",
       "      <td>0.375000</td>\n",
       "      <td>0.497222</td>\n",
       "    </tr>\n",
       "    <tr>\n",
       "      <th>DEL16p11_2</th>\n",
       "      <td>0.461538</td>\n",
       "      <td>0.769231</td>\n",
       "      <td>0.461538</td>\n",
       "      <td>0.461538</td>\n",
       "      <td>0.333333</td>\n",
       "      <td>0.497436</td>\n",
       "    </tr>\n",
       "    <tr>\n",
       "      <th>DUP16p11_2</th>\n",
       "      <td>0.428571</td>\n",
       "      <td>0.714286</td>\n",
       "      <td>0.214286</td>\n",
       "      <td>0.571429</td>\n",
       "      <td>0.571429</td>\n",
       "      <td>0.500000</td>\n",
       "    </tr>\n",
       "  </tbody>\n",
       "</table>\n",
       "</div>"
      ],
      "text/plain": [
       "                   0         1         2         3         4      mean\n",
       "ADHD        0.353448  0.443478  0.330435  0.452174  0.356522  0.387211\n",
       "ASD         0.470899  0.539683  0.507937  0.446809  0.537234  0.500512\n",
       "BIP         0.312500  0.250000  0.193548  0.322581  0.322581  0.280242\n",
       "SZ          0.500000  0.398438  0.500000  0.425197  0.393701  0.443467\n",
       "DEL1q21_1   0.600000  0.500000  0.600000  0.500000  0.300000  0.500000\n",
       "DUP1q21_1   0.375000  0.625000  0.750000  0.428571  0.285714  0.492857\n",
       "DEL22q11_2  0.611111  0.588235  0.529412  0.294118  0.470588  0.498693\n",
       "DUP22q11_2  0.777778  0.444444  0.555556  0.333333  0.375000  0.497222\n",
       "DEL16p11_2  0.461538  0.769231  0.461538  0.461538  0.333333  0.497436\n",
       "DUP16p11_2  0.428571  0.714286  0.214286  0.571429  0.571429  0.500000"
      ]
     },
     "execution_count": 37,
     "metadata": {},
     "output_type": "execute_result"
    }
   ],
   "source": [
    "df = pd.DataFrame(ratios,index=cases)\n",
    "df['mean'] = df.mean(axis=1)\n",
    "\n",
    "df"
   ]
  },
  {
   "cell_type": "code",
   "execution_count": null,
   "metadata": {},
   "outputs": [],
   "source": []
  }
 ],
 "metadata": {
  "kernelspec": {
   "display_name": "fmri",
   "language": "python",
   "name": "python3"
  },
  "language_info": {
   "codemirror_mode": {
    "name": "ipython",
    "version": 3
   },
   "file_extension": ".py",
   "mimetype": "text/x-python",
   "name": "python",
   "nbconvert_exporter": "python",
   "pygments_lexer": "ipython3",
   "version": "3.9.15"
  },
  "orig_nbformat": 4,
  "vscode": {
   "interpreter": {
    "hash": "7ea07d7e26f64274b859969024e9bc122a0aaa5b386426249452447396636cf1"
   }
  }
 },
 "nbformat": 4,
 "nbformat_minor": 2
}
