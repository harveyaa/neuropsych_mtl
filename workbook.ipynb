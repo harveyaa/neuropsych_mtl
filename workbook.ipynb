{
 "cells": [
  {
   "cell_type": "code",
   "execution_count": 1,
   "metadata": {},
   "outputs": [],
   "source": [
    "import pandas as pd\n",
    "import numpy as np"
   ]
  },
  {
   "cell_type": "code",
   "execution_count": 2,
   "metadata": {},
   "outputs": [],
   "source": [
    "cases = ['ASD',\n",
    "        'SZ',\n",
    "        'BIP',\n",
    "        'DEL22q11_2',\n",
    "        'DUP22q11_2',\n",
    "        'DEL16p11_2',\n",
    "        'DUP16p11_2',\n",
    "        'DEL1q21_1',\n",
    "        'DUP1q21_1']"
   ]
  },
  {
   "cell_type": "code",
   "execution_count": 3,
   "metadata": {},
   "outputs": [],
   "source": [
    "p_temp = '/home/harveyaa/Documents/masters/neuropsych_mtl/tmp/datasets/{}.txt'\n",
    "temp_ids = []\n",
    "for case in cases:\n",
    "    temp_ids.append(pd.read_csv(p_temp.format(case),header=None))"
   ]
  },
  {
   "cell_type": "code",
   "execution_count": 4,
   "metadata": {},
   "outputs": [],
   "source": [
    "p_stable = '/home/harveyaa/Documents/masters/neuropsych_mtl/datasets/{}.txt'\n",
    "stable_ids = []\n",
    "for case in cases:\n",
    "    stable_ids.append(pd.read_csv(p_temp.format(case),header=None))"
   ]
  },
  {
   "cell_type": "code",
   "execution_count": 5,
   "metadata": {},
   "outputs": [
    {
     "name": "stdout",
     "output_type": "stream",
     "text": [
      "ASD\n",
      "SZ\n",
      "BIP\n",
      "DEL22q11_2\n",
      "DUP22q11_2\n",
      "DEL16p11_2\n",
      "DUP16p11_2\n",
      "DEL1q21_1\n",
      "DUP1q21_1\n"
     ]
    }
   ],
   "source": [
    "for i, case in enumerate(cases):\n",
    "    print(case)\n",
    "    n_stable = len(stable_ids[i][0])\n",
    "    n_temp = len(temp_ids[i][0])\n",
    "    n_overlap = len(set(stable_ids[i][0].to_list()).intersection(set(temp_ids[i][0].to_list())))\n",
    "\n",
    "    if n_overlap != n_stable:\n",
    "        print('Stable: ',n_stable)\n",
    "        print('Temp: ',n_temp)\n",
    "        print('Overlap: ',n_overlap)\n",
    "        print()\n"
   ]
  },
  {
   "cell_type": "code",
   "execution_count": null,
   "metadata": {},
   "outputs": [],
   "source": []
  }
 ],
 "metadata": {
  "interpreter": {
   "hash": "9e9c9c5c044d2ea5dfa7d6bd44b9f426810f06c0ed392c2b436f27e01061f47c"
  },
  "kernelspec": {
   "display_name": "Python 3.7.12 ('MTL')",
   "language": "python",
   "name": "python3"
  },
  "language_info": {
   "codemirror_mode": {
    "name": "ipython",
    "version": 3
   },
   "file_extension": ".py",
   "mimetype": "text/x-python",
   "name": "python",
   "nbconvert_exporter": "python",
   "pygments_lexer": "ipython3",
   "version": "3.6.15"
  },
  "orig_nbformat": 4
 },
 "nbformat": 4,
 "nbformat_minor": 2
}
